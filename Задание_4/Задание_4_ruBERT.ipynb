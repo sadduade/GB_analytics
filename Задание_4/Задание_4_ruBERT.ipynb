{
  "nbformat": 4,
  "nbformat_minor": 0,
  "metadata": {
    "colab": {
      "provenance": [],
      "gpuType": "T4"
    },
    "kernelspec": {
      "name": "python3",
      "display_name": "Python 3"
    },
    "language_info": {
      "name": "python"
    },
    "accelerator": "GPU",
    "widgets": {
      "application/vnd.jupyter.widget-state+json": {
        "972e196258544a8ca4d24e1eca323962": {
          "model_module": "@jupyter-widgets/controls",
          "model_name": "HBoxModel",
          "model_module_version": "1.5.0",
          "state": {
            "_dom_classes": [],
            "_model_module": "@jupyter-widgets/controls",
            "_model_module_version": "1.5.0",
            "_model_name": "HBoxModel",
            "_view_count": null,
            "_view_module": "@jupyter-widgets/controls",
            "_view_module_version": "1.5.0",
            "_view_name": "HBoxView",
            "box_style": "",
            "children": [
              "IPY_MODEL_cc36eaf937de4df7a3d2f11f7ffaf736",
              "IPY_MODEL_9b3dd016b07a44a2ad65b959ae3bab94",
              "IPY_MODEL_03e81ab9373c4e46a30179c4ed92db21"
            ],
            "layout": "IPY_MODEL_1e45e16b236e428395f3f1f3890c73f2"
          }
        },
        "cc36eaf937de4df7a3d2f11f7ffaf736": {
          "model_module": "@jupyter-widgets/controls",
          "model_name": "HTMLModel",
          "model_module_version": "1.5.0",
          "state": {
            "_dom_classes": [],
            "_model_module": "@jupyter-widgets/controls",
            "_model_module_version": "1.5.0",
            "_model_name": "HTMLModel",
            "_view_count": null,
            "_view_module": "@jupyter-widgets/controls",
            "_view_module_version": "1.5.0",
            "_view_name": "HTMLView",
            "description": "",
            "description_tooltip": null,
            "layout": "IPY_MODEL_a59e5053e67b481eaae38fd3f469ce60",
            "placeholder": "​",
            "style": "IPY_MODEL_9b517ddca1c64091a354d78da7ec10d0",
            "value": "config.json: 100%"
          }
        },
        "9b3dd016b07a44a2ad65b959ae3bab94": {
          "model_module": "@jupyter-widgets/controls",
          "model_name": "FloatProgressModel",
          "model_module_version": "1.5.0",
          "state": {
            "_dom_classes": [],
            "_model_module": "@jupyter-widgets/controls",
            "_model_module_version": "1.5.0",
            "_model_name": "FloatProgressModel",
            "_view_count": null,
            "_view_module": "@jupyter-widgets/controls",
            "_view_module_version": "1.5.0",
            "_view_name": "ProgressView",
            "bar_style": "success",
            "description": "",
            "description_tooltip": null,
            "layout": "IPY_MODEL_bb982ac314b441bfb59c4542ee77d18e",
            "max": 590,
            "min": 0,
            "orientation": "horizontal",
            "style": "IPY_MODEL_909f2d4aa46346d5844bdcd59dd30197",
            "value": 590
          }
        },
        "03e81ab9373c4e46a30179c4ed92db21": {
          "model_module": "@jupyter-widgets/controls",
          "model_name": "HTMLModel",
          "model_module_version": "1.5.0",
          "state": {
            "_dom_classes": [],
            "_model_module": "@jupyter-widgets/controls",
            "_model_module_version": "1.5.0",
            "_model_name": "HTMLModel",
            "_view_count": null,
            "_view_module": "@jupyter-widgets/controls",
            "_view_module_version": "1.5.0",
            "_view_name": "HTMLView",
            "description": "",
            "description_tooltip": null,
            "layout": "IPY_MODEL_41edb4e51fe243eda1088341aa30f8ab",
            "placeholder": "​",
            "style": "IPY_MODEL_807400aa67f941c78f44dcdd52acf782",
            "value": " 590/590 [00:00&lt;00:00, 41.1kB/s]"
          }
        },
        "1e45e16b236e428395f3f1f3890c73f2": {
          "model_module": "@jupyter-widgets/base",
          "model_name": "LayoutModel",
          "model_module_version": "1.2.0",
          "state": {
            "_model_module": "@jupyter-widgets/base",
            "_model_module_version": "1.2.0",
            "_model_name": "LayoutModel",
            "_view_count": null,
            "_view_module": "@jupyter-widgets/base",
            "_view_module_version": "1.2.0",
            "_view_name": "LayoutView",
            "align_content": null,
            "align_items": null,
            "align_self": null,
            "border": null,
            "bottom": null,
            "display": null,
            "flex": null,
            "flex_flow": null,
            "grid_area": null,
            "grid_auto_columns": null,
            "grid_auto_flow": null,
            "grid_auto_rows": null,
            "grid_column": null,
            "grid_gap": null,
            "grid_row": null,
            "grid_template_areas": null,
            "grid_template_columns": null,
            "grid_template_rows": null,
            "height": null,
            "justify_content": null,
            "justify_items": null,
            "left": null,
            "margin": null,
            "max_height": null,
            "max_width": null,
            "min_height": null,
            "min_width": null,
            "object_fit": null,
            "object_position": null,
            "order": null,
            "overflow": null,
            "overflow_x": null,
            "overflow_y": null,
            "padding": null,
            "right": null,
            "top": null,
            "visibility": null,
            "width": null
          }
        },
        "a59e5053e67b481eaae38fd3f469ce60": {
          "model_module": "@jupyter-widgets/base",
          "model_name": "LayoutModel",
          "model_module_version": "1.2.0",
          "state": {
            "_model_module": "@jupyter-widgets/base",
            "_model_module_version": "1.2.0",
            "_model_name": "LayoutModel",
            "_view_count": null,
            "_view_module": "@jupyter-widgets/base",
            "_view_module_version": "1.2.0",
            "_view_name": "LayoutView",
            "align_content": null,
            "align_items": null,
            "align_self": null,
            "border": null,
            "bottom": null,
            "display": null,
            "flex": null,
            "flex_flow": null,
            "grid_area": null,
            "grid_auto_columns": null,
            "grid_auto_flow": null,
            "grid_auto_rows": null,
            "grid_column": null,
            "grid_gap": null,
            "grid_row": null,
            "grid_template_areas": null,
            "grid_template_columns": null,
            "grid_template_rows": null,
            "height": null,
            "justify_content": null,
            "justify_items": null,
            "left": null,
            "margin": null,
            "max_height": null,
            "max_width": null,
            "min_height": null,
            "min_width": null,
            "object_fit": null,
            "object_position": null,
            "order": null,
            "overflow": null,
            "overflow_x": null,
            "overflow_y": null,
            "padding": null,
            "right": null,
            "top": null,
            "visibility": null,
            "width": null
          }
        },
        "9b517ddca1c64091a354d78da7ec10d0": {
          "model_module": "@jupyter-widgets/controls",
          "model_name": "DescriptionStyleModel",
          "model_module_version": "1.5.0",
          "state": {
            "_model_module": "@jupyter-widgets/controls",
            "_model_module_version": "1.5.0",
            "_model_name": "DescriptionStyleModel",
            "_view_count": null,
            "_view_module": "@jupyter-widgets/base",
            "_view_module_version": "1.2.0",
            "_view_name": "StyleView",
            "description_width": ""
          }
        },
        "bb982ac314b441bfb59c4542ee77d18e": {
          "model_module": "@jupyter-widgets/base",
          "model_name": "LayoutModel",
          "model_module_version": "1.2.0",
          "state": {
            "_model_module": "@jupyter-widgets/base",
            "_model_module_version": "1.2.0",
            "_model_name": "LayoutModel",
            "_view_count": null,
            "_view_module": "@jupyter-widgets/base",
            "_view_module_version": "1.2.0",
            "_view_name": "LayoutView",
            "align_content": null,
            "align_items": null,
            "align_self": null,
            "border": null,
            "bottom": null,
            "display": null,
            "flex": null,
            "flex_flow": null,
            "grid_area": null,
            "grid_auto_columns": null,
            "grid_auto_flow": null,
            "grid_auto_rows": null,
            "grid_column": null,
            "grid_gap": null,
            "grid_row": null,
            "grid_template_areas": null,
            "grid_template_columns": null,
            "grid_template_rows": null,
            "height": null,
            "justify_content": null,
            "justify_items": null,
            "left": null,
            "margin": null,
            "max_height": null,
            "max_width": null,
            "min_height": null,
            "min_width": null,
            "object_fit": null,
            "object_position": null,
            "order": null,
            "overflow": null,
            "overflow_x": null,
            "overflow_y": null,
            "padding": null,
            "right": null,
            "top": null,
            "visibility": null,
            "width": null
          }
        },
        "909f2d4aa46346d5844bdcd59dd30197": {
          "model_module": "@jupyter-widgets/controls",
          "model_name": "ProgressStyleModel",
          "model_module_version": "1.5.0",
          "state": {
            "_model_module": "@jupyter-widgets/controls",
            "_model_module_version": "1.5.0",
            "_model_name": "ProgressStyleModel",
            "_view_count": null,
            "_view_module": "@jupyter-widgets/base",
            "_view_module_version": "1.2.0",
            "_view_name": "StyleView",
            "bar_color": null,
            "description_width": ""
          }
        },
        "41edb4e51fe243eda1088341aa30f8ab": {
          "model_module": "@jupyter-widgets/base",
          "model_name": "LayoutModel",
          "model_module_version": "1.2.0",
          "state": {
            "_model_module": "@jupyter-widgets/base",
            "_model_module_version": "1.2.0",
            "_model_name": "LayoutModel",
            "_view_count": null,
            "_view_module": "@jupyter-widgets/base",
            "_view_module_version": "1.2.0",
            "_view_name": "LayoutView",
            "align_content": null,
            "align_items": null,
            "align_self": null,
            "border": null,
            "bottom": null,
            "display": null,
            "flex": null,
            "flex_flow": null,
            "grid_area": null,
            "grid_auto_columns": null,
            "grid_auto_flow": null,
            "grid_auto_rows": null,
            "grid_column": null,
            "grid_gap": null,
            "grid_row": null,
            "grid_template_areas": null,
            "grid_template_columns": null,
            "grid_template_rows": null,
            "height": null,
            "justify_content": null,
            "justify_items": null,
            "left": null,
            "margin": null,
            "max_height": null,
            "max_width": null,
            "min_height": null,
            "min_width": null,
            "object_fit": null,
            "object_position": null,
            "order": null,
            "overflow": null,
            "overflow_x": null,
            "overflow_y": null,
            "padding": null,
            "right": null,
            "top": null,
            "visibility": null,
            "width": null
          }
        },
        "807400aa67f941c78f44dcdd52acf782": {
          "model_module": "@jupyter-widgets/controls",
          "model_name": "DescriptionStyleModel",
          "model_module_version": "1.5.0",
          "state": {
            "_model_module": "@jupyter-widgets/controls",
            "_model_module_version": "1.5.0",
            "_model_name": "DescriptionStyleModel",
            "_view_count": null,
            "_view_module": "@jupyter-widgets/base",
            "_view_module_version": "1.2.0",
            "_view_name": "StyleView",
            "description_width": ""
          }
        },
        "00f651fad28e4f8b82f11f09ab26ab68": {
          "model_module": "@jupyter-widgets/controls",
          "model_name": "HBoxModel",
          "model_module_version": "1.5.0",
          "state": {
            "_dom_classes": [],
            "_model_module": "@jupyter-widgets/controls",
            "_model_module_version": "1.5.0",
            "_model_name": "HBoxModel",
            "_view_count": null,
            "_view_module": "@jupyter-widgets/controls",
            "_view_module_version": "1.5.0",
            "_view_name": "HBoxView",
            "box_style": "",
            "children": [
              "IPY_MODEL_66e08db66a8e4d18995d1200cd8c085d",
              "IPY_MODEL_fa8123dd6e854979bbb9612b353b28c6",
              "IPY_MODEL_6facc2008ba2486698e05fe427ece59a"
            ],
            "layout": "IPY_MODEL_9d100c963a854aba88ed2106b4d6abe1"
          }
        },
        "66e08db66a8e4d18995d1200cd8c085d": {
          "model_module": "@jupyter-widgets/controls",
          "model_name": "HTMLModel",
          "model_module_version": "1.5.0",
          "state": {
            "_dom_classes": [],
            "_model_module": "@jupyter-widgets/controls",
            "_model_module_version": "1.5.0",
            "_model_name": "HTMLModel",
            "_view_count": null,
            "_view_module": "@jupyter-widgets/controls",
            "_view_module_version": "1.5.0",
            "_view_name": "HTMLView",
            "description": "",
            "description_tooltip": null,
            "layout": "IPY_MODEL_52ea75695a44411b9d1496f4c941854b",
            "placeholder": "​",
            "style": "IPY_MODEL_01c917df3b634c679d6b00670200908f",
            "value": "vocab.txt: 100%"
          }
        },
        "fa8123dd6e854979bbb9612b353b28c6": {
          "model_module": "@jupyter-widgets/controls",
          "model_name": "FloatProgressModel",
          "model_module_version": "1.5.0",
          "state": {
            "_dom_classes": [],
            "_model_module": "@jupyter-widgets/controls",
            "_model_module_version": "1.5.0",
            "_model_name": "FloatProgressModel",
            "_view_count": null,
            "_view_module": "@jupyter-widgets/controls",
            "_view_module_version": "1.5.0",
            "_view_name": "ProgressView",
            "bar_style": "success",
            "description": "",
            "description_tooltip": null,
            "layout": "IPY_MODEL_41b53bff58d148918a6bfbdb66e15cd5",
            "max": 1780720,
            "min": 0,
            "orientation": "horizontal",
            "style": "IPY_MODEL_5474c5a22e72458598e94ff977dda574",
            "value": 1780720
          }
        },
        "6facc2008ba2486698e05fe427ece59a": {
          "model_module": "@jupyter-widgets/controls",
          "model_name": "HTMLModel",
          "model_module_version": "1.5.0",
          "state": {
            "_dom_classes": [],
            "_model_module": "@jupyter-widgets/controls",
            "_model_module_version": "1.5.0",
            "_model_name": "HTMLModel",
            "_view_count": null,
            "_view_module": "@jupyter-widgets/controls",
            "_view_module_version": "1.5.0",
            "_view_name": "HTMLView",
            "description": "",
            "description_tooltip": null,
            "layout": "IPY_MODEL_523b08f7658949f8bd4342de463d4130",
            "placeholder": "​",
            "style": "IPY_MODEL_18cfcce420904f618e36d9f29411f252",
            "value": " 1.78M/1.78M [00:03&lt;00:00, 500kB/s]"
          }
        },
        "9d100c963a854aba88ed2106b4d6abe1": {
          "model_module": "@jupyter-widgets/base",
          "model_name": "LayoutModel",
          "model_module_version": "1.2.0",
          "state": {
            "_model_module": "@jupyter-widgets/base",
            "_model_module_version": "1.2.0",
            "_model_name": "LayoutModel",
            "_view_count": null,
            "_view_module": "@jupyter-widgets/base",
            "_view_module_version": "1.2.0",
            "_view_name": "LayoutView",
            "align_content": null,
            "align_items": null,
            "align_self": null,
            "border": null,
            "bottom": null,
            "display": null,
            "flex": null,
            "flex_flow": null,
            "grid_area": null,
            "grid_auto_columns": null,
            "grid_auto_flow": null,
            "grid_auto_rows": null,
            "grid_column": null,
            "grid_gap": null,
            "grid_row": null,
            "grid_template_areas": null,
            "grid_template_columns": null,
            "grid_template_rows": null,
            "height": null,
            "justify_content": null,
            "justify_items": null,
            "left": null,
            "margin": null,
            "max_height": null,
            "max_width": null,
            "min_height": null,
            "min_width": null,
            "object_fit": null,
            "object_position": null,
            "order": null,
            "overflow": null,
            "overflow_x": null,
            "overflow_y": null,
            "padding": null,
            "right": null,
            "top": null,
            "visibility": null,
            "width": null
          }
        },
        "52ea75695a44411b9d1496f4c941854b": {
          "model_module": "@jupyter-widgets/base",
          "model_name": "LayoutModel",
          "model_module_version": "1.2.0",
          "state": {
            "_model_module": "@jupyter-widgets/base",
            "_model_module_version": "1.2.0",
            "_model_name": "LayoutModel",
            "_view_count": null,
            "_view_module": "@jupyter-widgets/base",
            "_view_module_version": "1.2.0",
            "_view_name": "LayoutView",
            "align_content": null,
            "align_items": null,
            "align_self": null,
            "border": null,
            "bottom": null,
            "display": null,
            "flex": null,
            "flex_flow": null,
            "grid_area": null,
            "grid_auto_columns": null,
            "grid_auto_flow": null,
            "grid_auto_rows": null,
            "grid_column": null,
            "grid_gap": null,
            "grid_row": null,
            "grid_template_areas": null,
            "grid_template_columns": null,
            "grid_template_rows": null,
            "height": null,
            "justify_content": null,
            "justify_items": null,
            "left": null,
            "margin": null,
            "max_height": null,
            "max_width": null,
            "min_height": null,
            "min_width": null,
            "object_fit": null,
            "object_position": null,
            "order": null,
            "overflow": null,
            "overflow_x": null,
            "overflow_y": null,
            "padding": null,
            "right": null,
            "top": null,
            "visibility": null,
            "width": null
          }
        },
        "01c917df3b634c679d6b00670200908f": {
          "model_module": "@jupyter-widgets/controls",
          "model_name": "DescriptionStyleModel",
          "model_module_version": "1.5.0",
          "state": {
            "_model_module": "@jupyter-widgets/controls",
            "_model_module_version": "1.5.0",
            "_model_name": "DescriptionStyleModel",
            "_view_count": null,
            "_view_module": "@jupyter-widgets/base",
            "_view_module_version": "1.2.0",
            "_view_name": "StyleView",
            "description_width": ""
          }
        },
        "41b53bff58d148918a6bfbdb66e15cd5": {
          "model_module": "@jupyter-widgets/base",
          "model_name": "LayoutModel",
          "model_module_version": "1.2.0",
          "state": {
            "_model_module": "@jupyter-widgets/base",
            "_model_module_version": "1.2.0",
            "_model_name": "LayoutModel",
            "_view_count": null,
            "_view_module": "@jupyter-widgets/base",
            "_view_module_version": "1.2.0",
            "_view_name": "LayoutView",
            "align_content": null,
            "align_items": null,
            "align_self": null,
            "border": null,
            "bottom": null,
            "display": null,
            "flex": null,
            "flex_flow": null,
            "grid_area": null,
            "grid_auto_columns": null,
            "grid_auto_flow": null,
            "grid_auto_rows": null,
            "grid_column": null,
            "grid_gap": null,
            "grid_row": null,
            "grid_template_areas": null,
            "grid_template_columns": null,
            "grid_template_rows": null,
            "height": null,
            "justify_content": null,
            "justify_items": null,
            "left": null,
            "margin": null,
            "max_height": null,
            "max_width": null,
            "min_height": null,
            "min_width": null,
            "object_fit": null,
            "object_position": null,
            "order": null,
            "overflow": null,
            "overflow_x": null,
            "overflow_y": null,
            "padding": null,
            "right": null,
            "top": null,
            "visibility": null,
            "width": null
          }
        },
        "5474c5a22e72458598e94ff977dda574": {
          "model_module": "@jupyter-widgets/controls",
          "model_name": "ProgressStyleModel",
          "model_module_version": "1.5.0",
          "state": {
            "_model_module": "@jupyter-widgets/controls",
            "_model_module_version": "1.5.0",
            "_model_name": "ProgressStyleModel",
            "_view_count": null,
            "_view_module": "@jupyter-widgets/base",
            "_view_module_version": "1.2.0",
            "_view_name": "StyleView",
            "bar_color": null,
            "description_width": ""
          }
        },
        "523b08f7658949f8bd4342de463d4130": {
          "model_module": "@jupyter-widgets/base",
          "model_name": "LayoutModel",
          "model_module_version": "1.2.0",
          "state": {
            "_model_module": "@jupyter-widgets/base",
            "_model_module_version": "1.2.0",
            "_model_name": "LayoutModel",
            "_view_count": null,
            "_view_module": "@jupyter-widgets/base",
            "_view_module_version": "1.2.0",
            "_view_name": "LayoutView",
            "align_content": null,
            "align_items": null,
            "align_self": null,
            "border": null,
            "bottom": null,
            "display": null,
            "flex": null,
            "flex_flow": null,
            "grid_area": null,
            "grid_auto_columns": null,
            "grid_auto_flow": null,
            "grid_auto_rows": null,
            "grid_column": null,
            "grid_gap": null,
            "grid_row": null,
            "grid_template_areas": null,
            "grid_template_columns": null,
            "grid_template_rows": null,
            "height": null,
            "justify_content": null,
            "justify_items": null,
            "left": null,
            "margin": null,
            "max_height": null,
            "max_width": null,
            "min_height": null,
            "min_width": null,
            "object_fit": null,
            "object_position": null,
            "order": null,
            "overflow": null,
            "overflow_x": null,
            "overflow_y": null,
            "padding": null,
            "right": null,
            "top": null,
            "visibility": null,
            "width": null
          }
        },
        "18cfcce420904f618e36d9f29411f252": {
          "model_module": "@jupyter-widgets/controls",
          "model_name": "DescriptionStyleModel",
          "model_module_version": "1.5.0",
          "state": {
            "_model_module": "@jupyter-widgets/controls",
            "_model_module_version": "1.5.0",
            "_model_name": "DescriptionStyleModel",
            "_view_count": null,
            "_view_module": "@jupyter-widgets/base",
            "_view_module_version": "1.2.0",
            "_view_name": "StyleView",
            "description_width": ""
          }
        },
        "5ac346f515484939aaa07c285adb91f8": {
          "model_module": "@jupyter-widgets/controls",
          "model_name": "HBoxModel",
          "model_module_version": "1.5.0",
          "state": {
            "_dom_classes": [],
            "_model_module": "@jupyter-widgets/controls",
            "_model_module_version": "1.5.0",
            "_model_name": "HBoxModel",
            "_view_count": null,
            "_view_module": "@jupyter-widgets/controls",
            "_view_module_version": "1.5.0",
            "_view_name": "HBoxView",
            "box_style": "",
            "children": [
              "IPY_MODEL_ddbd6257502248a7af1e36ae2a346d86",
              "IPY_MODEL_19a30c0dc173498aa388439e99454a5c",
              "IPY_MODEL_352e4119bb01482f94b0247bd3c507fb"
            ],
            "layout": "IPY_MODEL_b706935941954ba2a1b1796831e6fea2"
          }
        },
        "ddbd6257502248a7af1e36ae2a346d86": {
          "model_module": "@jupyter-widgets/controls",
          "model_name": "HTMLModel",
          "model_module_version": "1.5.0",
          "state": {
            "_dom_classes": [],
            "_model_module": "@jupyter-widgets/controls",
            "_model_module_version": "1.5.0",
            "_model_name": "HTMLModel",
            "_view_count": null,
            "_view_module": "@jupyter-widgets/controls",
            "_view_module_version": "1.5.0",
            "_view_name": "HTMLView",
            "description": "",
            "description_tooltip": null,
            "layout": "IPY_MODEL_8c2b66b035e2414fa48b602ba788d091",
            "placeholder": "​",
            "style": "IPY_MODEL_d82583cb3426451a8be948d7fb0f67cc",
            "value": "pytorch_model.bin: 100%"
          }
        },
        "19a30c0dc173498aa388439e99454a5c": {
          "model_module": "@jupyter-widgets/controls",
          "model_name": "FloatProgressModel",
          "model_module_version": "1.5.0",
          "state": {
            "_dom_classes": [],
            "_model_module": "@jupyter-widgets/controls",
            "_model_module_version": "1.5.0",
            "_model_name": "FloatProgressModel",
            "_view_count": null,
            "_view_module": "@jupyter-widgets/controls",
            "_view_module_version": "1.5.0",
            "_view_name": "ProgressView",
            "bar_style": "success",
            "description": "",
            "description_tooltip": null,
            "layout": "IPY_MODEL_f57b97dc38874daa8ce65d15130d22a8",
            "max": 716133354,
            "min": 0,
            "orientation": "horizontal",
            "style": "IPY_MODEL_1a8a368809fc408b89a50fc7608bcd6b",
            "value": 716133354
          }
        },
        "352e4119bb01482f94b0247bd3c507fb": {
          "model_module": "@jupyter-widgets/controls",
          "model_name": "HTMLModel",
          "model_module_version": "1.5.0",
          "state": {
            "_dom_classes": [],
            "_model_module": "@jupyter-widgets/controls",
            "_model_module_version": "1.5.0",
            "_model_name": "HTMLModel",
            "_view_count": null,
            "_view_module": "@jupyter-widgets/controls",
            "_view_module_version": "1.5.0",
            "_view_name": "HTMLView",
            "description": "",
            "description_tooltip": null,
            "layout": "IPY_MODEL_35e1ee83e39340db9402e795d5ae1bc7",
            "placeholder": "​",
            "style": "IPY_MODEL_0a251ee65e8f449fb37074302d468934",
            "value": " 716M/716M [00:02&lt;00:00, 244MB/s]"
          }
        },
        "b706935941954ba2a1b1796831e6fea2": {
          "model_module": "@jupyter-widgets/base",
          "model_name": "LayoutModel",
          "model_module_version": "1.2.0",
          "state": {
            "_model_module": "@jupyter-widgets/base",
            "_model_module_version": "1.2.0",
            "_model_name": "LayoutModel",
            "_view_count": null,
            "_view_module": "@jupyter-widgets/base",
            "_view_module_version": "1.2.0",
            "_view_name": "LayoutView",
            "align_content": null,
            "align_items": null,
            "align_self": null,
            "border": null,
            "bottom": null,
            "display": null,
            "flex": null,
            "flex_flow": null,
            "grid_area": null,
            "grid_auto_columns": null,
            "grid_auto_flow": null,
            "grid_auto_rows": null,
            "grid_column": null,
            "grid_gap": null,
            "grid_row": null,
            "grid_template_areas": null,
            "grid_template_columns": null,
            "grid_template_rows": null,
            "height": null,
            "justify_content": null,
            "justify_items": null,
            "left": null,
            "margin": null,
            "max_height": null,
            "max_width": null,
            "min_height": null,
            "min_width": null,
            "object_fit": null,
            "object_position": null,
            "order": null,
            "overflow": null,
            "overflow_x": null,
            "overflow_y": null,
            "padding": null,
            "right": null,
            "top": null,
            "visibility": null,
            "width": null
          }
        },
        "8c2b66b035e2414fa48b602ba788d091": {
          "model_module": "@jupyter-widgets/base",
          "model_name": "LayoutModel",
          "model_module_version": "1.2.0",
          "state": {
            "_model_module": "@jupyter-widgets/base",
            "_model_module_version": "1.2.0",
            "_model_name": "LayoutModel",
            "_view_count": null,
            "_view_module": "@jupyter-widgets/base",
            "_view_module_version": "1.2.0",
            "_view_name": "LayoutView",
            "align_content": null,
            "align_items": null,
            "align_self": null,
            "border": null,
            "bottom": null,
            "display": null,
            "flex": null,
            "flex_flow": null,
            "grid_area": null,
            "grid_auto_columns": null,
            "grid_auto_flow": null,
            "grid_auto_rows": null,
            "grid_column": null,
            "grid_gap": null,
            "grid_row": null,
            "grid_template_areas": null,
            "grid_template_columns": null,
            "grid_template_rows": null,
            "height": null,
            "justify_content": null,
            "justify_items": null,
            "left": null,
            "margin": null,
            "max_height": null,
            "max_width": null,
            "min_height": null,
            "min_width": null,
            "object_fit": null,
            "object_position": null,
            "order": null,
            "overflow": null,
            "overflow_x": null,
            "overflow_y": null,
            "padding": null,
            "right": null,
            "top": null,
            "visibility": null,
            "width": null
          }
        },
        "d82583cb3426451a8be948d7fb0f67cc": {
          "model_module": "@jupyter-widgets/controls",
          "model_name": "DescriptionStyleModel",
          "model_module_version": "1.5.0",
          "state": {
            "_model_module": "@jupyter-widgets/controls",
            "_model_module_version": "1.5.0",
            "_model_name": "DescriptionStyleModel",
            "_view_count": null,
            "_view_module": "@jupyter-widgets/base",
            "_view_module_version": "1.2.0",
            "_view_name": "StyleView",
            "description_width": ""
          }
        },
        "f57b97dc38874daa8ce65d15130d22a8": {
          "model_module": "@jupyter-widgets/base",
          "model_name": "LayoutModel",
          "model_module_version": "1.2.0",
          "state": {
            "_model_module": "@jupyter-widgets/base",
            "_model_module_version": "1.2.0",
            "_model_name": "LayoutModel",
            "_view_count": null,
            "_view_module": "@jupyter-widgets/base",
            "_view_module_version": "1.2.0",
            "_view_name": "LayoutView",
            "align_content": null,
            "align_items": null,
            "align_self": null,
            "border": null,
            "bottom": null,
            "display": null,
            "flex": null,
            "flex_flow": null,
            "grid_area": null,
            "grid_auto_columns": null,
            "grid_auto_flow": null,
            "grid_auto_rows": null,
            "grid_column": null,
            "grid_gap": null,
            "grid_row": null,
            "grid_template_areas": null,
            "grid_template_columns": null,
            "grid_template_rows": null,
            "height": null,
            "justify_content": null,
            "justify_items": null,
            "left": null,
            "margin": null,
            "max_height": null,
            "max_width": null,
            "min_height": null,
            "min_width": null,
            "object_fit": null,
            "object_position": null,
            "order": null,
            "overflow": null,
            "overflow_x": null,
            "overflow_y": null,
            "padding": null,
            "right": null,
            "top": null,
            "visibility": null,
            "width": null
          }
        },
        "1a8a368809fc408b89a50fc7608bcd6b": {
          "model_module": "@jupyter-widgets/controls",
          "model_name": "ProgressStyleModel",
          "model_module_version": "1.5.0",
          "state": {
            "_model_module": "@jupyter-widgets/controls",
            "_model_module_version": "1.5.0",
            "_model_name": "ProgressStyleModel",
            "_view_count": null,
            "_view_module": "@jupyter-widgets/base",
            "_view_module_version": "1.2.0",
            "_view_name": "StyleView",
            "bar_color": null,
            "description_width": ""
          }
        },
        "35e1ee83e39340db9402e795d5ae1bc7": {
          "model_module": "@jupyter-widgets/base",
          "model_name": "LayoutModel",
          "model_module_version": "1.2.0",
          "state": {
            "_model_module": "@jupyter-widgets/base",
            "_model_module_version": "1.2.0",
            "_model_name": "LayoutModel",
            "_view_count": null,
            "_view_module": "@jupyter-widgets/base",
            "_view_module_version": "1.2.0",
            "_view_name": "LayoutView",
            "align_content": null,
            "align_items": null,
            "align_self": null,
            "border": null,
            "bottom": null,
            "display": null,
            "flex": null,
            "flex_flow": null,
            "grid_area": null,
            "grid_auto_columns": null,
            "grid_auto_flow": null,
            "grid_auto_rows": null,
            "grid_column": null,
            "grid_gap": null,
            "grid_row": null,
            "grid_template_areas": null,
            "grid_template_columns": null,
            "grid_template_rows": null,
            "height": null,
            "justify_content": null,
            "justify_items": null,
            "left": null,
            "margin": null,
            "max_height": null,
            "max_width": null,
            "min_height": null,
            "min_width": null,
            "object_fit": null,
            "object_position": null,
            "order": null,
            "overflow": null,
            "overflow_x": null,
            "overflow_y": null,
            "padding": null,
            "right": null,
            "top": null,
            "visibility": null,
            "width": null
          }
        },
        "0a251ee65e8f449fb37074302d468934": {
          "model_module": "@jupyter-widgets/controls",
          "model_name": "DescriptionStyleModel",
          "model_module_version": "1.5.0",
          "state": {
            "_model_module": "@jupyter-widgets/controls",
            "_model_module_version": "1.5.0",
            "_model_name": "DescriptionStyleModel",
            "_view_count": null,
            "_view_module": "@jupyter-widgets/base",
            "_view_module_version": "1.2.0",
            "_view_name": "StyleView",
            "description_width": ""
          }
        }
      }
    }
  },
  "cells": [
    {
      "cell_type": "code",
      "source": [
        "from google.colab import drive\n",
        "drive.mount('/content/drive')"
      ],
      "metadata": {
        "id": "cqYgLUcz7fuk",
        "colab": {
          "base_uri": "https://localhost:8080/"
        },
        "outputId": "ea95ad9f-3331-4b40-e4ad-4ddd8616f553"
      },
      "execution_count": 1,
      "outputs": [
        {
          "output_type": "stream",
          "name": "stdout",
          "text": [
            "Drive already mounted at /content/drive; to attempt to forcibly remount, call drive.mount(\"/content/drive\", force_remount=True).\n"
          ]
        }
      ]
    },
    {
      "cell_type": "code",
      "source": [
        "!pip install emoji\n",
        "!pip install spacy\n",
        "!python -m spacy download ru_core_news_sm\n",
        "!pip install pymorphy2"
      ],
      "metadata": {
        "id": "vOm73u9P7fpE",
        "colab": {
          "base_uri": "https://localhost:8080/"
        },
        "outputId": "3f6948c0-7018-48c6-f019-f96fe208f9fe"
      },
      "execution_count": null,
      "outputs": [
        {
          "output_type": "stream",
          "name": "stdout",
          "text": [
            "Collecting emoji\n",
            "  Downloading emoji-2.12.1-py3-none-any.whl.metadata (5.4 kB)\n",
            "Requirement already satisfied: typing-extensions>=4.7.0 in /usr/local/lib/python3.10/dist-packages (from emoji) (4.12.2)\n",
            "Downloading emoji-2.12.1-py3-none-any.whl (431 kB)\n",
            "\u001b[2K   \u001b[90m━━━━━━━━━━━━━━━━━━━━━━━━━━━━━━━━━━━━━━━━\u001b[0m \u001b[32m431.4/431.4 kB\u001b[0m \u001b[31m7.2 MB/s\u001b[0m eta \u001b[36m0:00:00\u001b[0m\n",
            "\u001b[?25hInstalling collected packages: emoji\n",
            "Successfully installed emoji-2.12.1\n",
            "Requirement already satisfied: spacy in /usr/local/lib/python3.10/dist-packages (3.7.5)\n",
            "Requirement already satisfied: spacy-legacy<3.1.0,>=3.0.11 in /usr/local/lib/python3.10/dist-packages (from spacy) (3.0.12)\n",
            "Requirement already satisfied: spacy-loggers<2.0.0,>=1.0.0 in /usr/local/lib/python3.10/dist-packages (from spacy) (1.0.5)\n",
            "Requirement already satisfied: murmurhash<1.1.0,>=0.28.0 in /usr/local/lib/python3.10/dist-packages (from spacy) (1.0.10)\n",
            "Requirement already satisfied: cymem<2.1.0,>=2.0.2 in /usr/local/lib/python3.10/dist-packages (from spacy) (2.0.8)\n",
            "Requirement already satisfied: preshed<3.1.0,>=3.0.2 in /usr/local/lib/python3.10/dist-packages (from spacy) (3.0.9)\n",
            "Requirement already satisfied: thinc<8.3.0,>=8.2.2 in /usr/local/lib/python3.10/dist-packages (from spacy) (8.2.5)\n",
            "Requirement already satisfied: wasabi<1.2.0,>=0.9.1 in /usr/local/lib/python3.10/dist-packages (from spacy) (1.1.3)\n",
            "Requirement already satisfied: srsly<3.0.0,>=2.4.3 in /usr/local/lib/python3.10/dist-packages (from spacy) (2.4.8)\n",
            "Requirement already satisfied: catalogue<2.1.0,>=2.0.6 in /usr/local/lib/python3.10/dist-packages (from spacy) (2.0.10)\n",
            "Requirement already satisfied: weasel<0.5.0,>=0.1.0 in /usr/local/lib/python3.10/dist-packages (from spacy) (0.4.1)\n",
            "Requirement already satisfied: typer<1.0.0,>=0.3.0 in /usr/local/lib/python3.10/dist-packages (from spacy) (0.12.3)\n",
            "Requirement already satisfied: tqdm<5.0.0,>=4.38.0 in /usr/local/lib/python3.10/dist-packages (from spacy) (4.66.4)\n",
            "Requirement already satisfied: requests<3.0.0,>=2.13.0 in /usr/local/lib/python3.10/dist-packages (from spacy) (2.31.0)\n",
            "Requirement already satisfied: pydantic!=1.8,!=1.8.1,<3.0.0,>=1.7.4 in /usr/local/lib/python3.10/dist-packages (from spacy) (2.8.2)\n",
            "Requirement already satisfied: jinja2 in /usr/local/lib/python3.10/dist-packages (from spacy) (3.1.4)\n",
            "Requirement already satisfied: setuptools in /usr/local/lib/python3.10/dist-packages (from spacy) (71.0.4)\n",
            "Requirement already satisfied: packaging>=20.0 in /usr/local/lib/python3.10/dist-packages (from spacy) (24.1)\n",
            "Requirement already satisfied: langcodes<4.0.0,>=3.2.0 in /usr/local/lib/python3.10/dist-packages (from spacy) (3.4.0)\n",
            "Requirement already satisfied: numpy>=1.19.0 in /usr/local/lib/python3.10/dist-packages (from spacy) (1.26.4)\n",
            "Requirement already satisfied: language-data>=1.2 in /usr/local/lib/python3.10/dist-packages (from langcodes<4.0.0,>=3.2.0->spacy) (1.2.0)\n",
            "Requirement already satisfied: annotated-types>=0.4.0 in /usr/local/lib/python3.10/dist-packages (from pydantic!=1.8,!=1.8.1,<3.0.0,>=1.7.4->spacy) (0.7.0)\n",
            "Requirement already satisfied: pydantic-core==2.20.1 in /usr/local/lib/python3.10/dist-packages (from pydantic!=1.8,!=1.8.1,<3.0.0,>=1.7.4->spacy) (2.20.1)\n",
            "Requirement already satisfied: typing-extensions>=4.6.1 in /usr/local/lib/python3.10/dist-packages (from pydantic!=1.8,!=1.8.1,<3.0.0,>=1.7.4->spacy) (4.12.2)\n",
            "Requirement already satisfied: charset-normalizer<4,>=2 in /usr/local/lib/python3.10/dist-packages (from requests<3.0.0,>=2.13.0->spacy) (3.3.2)\n",
            "Requirement already satisfied: idna<4,>=2.5 in /usr/local/lib/python3.10/dist-packages (from requests<3.0.0,>=2.13.0->spacy) (3.7)\n",
            "Requirement already satisfied: urllib3<3,>=1.21.1 in /usr/local/lib/python3.10/dist-packages (from requests<3.0.0,>=2.13.0->spacy) (2.0.7)\n",
            "Requirement already satisfied: certifi>=2017.4.17 in /usr/local/lib/python3.10/dist-packages (from requests<3.0.0,>=2.13.0->spacy) (2024.7.4)\n",
            "Requirement already satisfied: blis<0.8.0,>=0.7.8 in /usr/local/lib/python3.10/dist-packages (from thinc<8.3.0,>=8.2.2->spacy) (0.7.11)\n",
            "Requirement already satisfied: confection<1.0.0,>=0.0.1 in /usr/local/lib/python3.10/dist-packages (from thinc<8.3.0,>=8.2.2->spacy) (0.1.5)\n",
            "Requirement already satisfied: click>=8.0.0 in /usr/local/lib/python3.10/dist-packages (from typer<1.0.0,>=0.3.0->spacy) (8.1.7)\n",
            "Requirement already satisfied: shellingham>=1.3.0 in /usr/local/lib/python3.10/dist-packages (from typer<1.0.0,>=0.3.0->spacy) (1.5.4)\n",
            "Requirement already satisfied: rich>=10.11.0 in /usr/local/lib/python3.10/dist-packages (from typer<1.0.0,>=0.3.0->spacy) (13.7.1)\n",
            "Requirement already satisfied: cloudpathlib<1.0.0,>=0.7.0 in /usr/local/lib/python3.10/dist-packages (from weasel<0.5.0,>=0.1.0->spacy) (0.18.1)\n",
            "Requirement already satisfied: smart-open<8.0.0,>=5.2.1 in /usr/local/lib/python3.10/dist-packages (from weasel<0.5.0,>=0.1.0->spacy) (7.0.4)\n",
            "Requirement already satisfied: MarkupSafe>=2.0 in /usr/local/lib/python3.10/dist-packages (from jinja2->spacy) (2.1.5)\n",
            "Requirement already satisfied: marisa-trie>=0.7.7 in /usr/local/lib/python3.10/dist-packages (from language-data>=1.2->langcodes<4.0.0,>=3.2.0->spacy) (1.2.0)\n",
            "Requirement already satisfied: markdown-it-py>=2.2.0 in /usr/local/lib/python3.10/dist-packages (from rich>=10.11.0->typer<1.0.0,>=0.3.0->spacy) (3.0.0)\n",
            "Requirement already satisfied: pygments<3.0.0,>=2.13.0 in /usr/local/lib/python3.10/dist-packages (from rich>=10.11.0->typer<1.0.0,>=0.3.0->spacy) (2.16.1)\n",
            "Requirement already satisfied: wrapt in /usr/local/lib/python3.10/dist-packages (from smart-open<8.0.0,>=5.2.1->weasel<0.5.0,>=0.1.0->spacy) (1.16.0)\n",
            "Requirement already satisfied: mdurl~=0.1 in /usr/local/lib/python3.10/dist-packages (from markdown-it-py>=2.2.0->rich>=10.11.0->typer<1.0.0,>=0.3.0->spacy) (0.1.2)\n",
            "Collecting ru-core-news-sm==3.7.0\n",
            "  Downloading https://github.com/explosion/spacy-models/releases/download/ru_core_news_sm-3.7.0/ru_core_news_sm-3.7.0-py3-none-any.whl (15.3 MB)\n",
            "\u001b[2K     \u001b[90m━━━━━━━━━━━━━━━━━━━━━━━━━━━━━━━━━━━━━━━━\u001b[0m \u001b[32m15.3/15.3 MB\u001b[0m \u001b[31m64.8 MB/s\u001b[0m eta \u001b[36m0:00:00\u001b[0m\n",
            "\u001b[?25hRequirement already satisfied: spacy<3.8.0,>=3.7.0 in /usr/local/lib/python3.10/dist-packages (from ru-core-news-sm==3.7.0) (3.7.5)\n",
            "Collecting pymorphy3>=1.0.0 (from ru-core-news-sm==3.7.0)\n",
            "  Downloading pymorphy3-2.0.2-py3-none-any.whl.metadata (1.8 kB)\n",
            "Collecting dawg-python>=0.7.1 (from pymorphy3>=1.0.0->ru-core-news-sm==3.7.0)\n",
            "  Downloading DAWG_Python-0.7.2-py2.py3-none-any.whl.metadata (7.0 kB)\n",
            "Collecting pymorphy3-dicts-ru (from pymorphy3>=1.0.0->ru-core-news-sm==3.7.0)\n",
            "  Downloading pymorphy3_dicts_ru-2.4.417150.4580142-py2.py3-none-any.whl.metadata (2.0 kB)\n",
            "Requirement already satisfied: spacy-legacy<3.1.0,>=3.0.11 in /usr/local/lib/python3.10/dist-packages (from spacy<3.8.0,>=3.7.0->ru-core-news-sm==3.7.0) (3.0.12)\n",
            "Requirement already satisfied: spacy-loggers<2.0.0,>=1.0.0 in /usr/local/lib/python3.10/dist-packages (from spacy<3.8.0,>=3.7.0->ru-core-news-sm==3.7.0) (1.0.5)\n",
            "Requirement already satisfied: murmurhash<1.1.0,>=0.28.0 in /usr/local/lib/python3.10/dist-packages (from spacy<3.8.0,>=3.7.0->ru-core-news-sm==3.7.0) (1.0.10)\n",
            "Requirement already satisfied: cymem<2.1.0,>=2.0.2 in /usr/local/lib/python3.10/dist-packages (from spacy<3.8.0,>=3.7.0->ru-core-news-sm==3.7.0) (2.0.8)\n",
            "Requirement already satisfied: preshed<3.1.0,>=3.0.2 in /usr/local/lib/python3.10/dist-packages (from spacy<3.8.0,>=3.7.0->ru-core-news-sm==3.7.0) (3.0.9)\n",
            "Requirement already satisfied: thinc<8.3.0,>=8.2.2 in /usr/local/lib/python3.10/dist-packages (from spacy<3.8.0,>=3.7.0->ru-core-news-sm==3.7.0) (8.2.5)\n",
            "Requirement already satisfied: wasabi<1.2.0,>=0.9.1 in /usr/local/lib/python3.10/dist-packages (from spacy<3.8.0,>=3.7.0->ru-core-news-sm==3.7.0) (1.1.3)\n",
            "Requirement already satisfied: srsly<3.0.0,>=2.4.3 in /usr/local/lib/python3.10/dist-packages (from spacy<3.8.0,>=3.7.0->ru-core-news-sm==3.7.0) (2.4.8)\n",
            "Requirement already satisfied: catalogue<2.1.0,>=2.0.6 in /usr/local/lib/python3.10/dist-packages (from spacy<3.8.0,>=3.7.0->ru-core-news-sm==3.7.0) (2.0.10)\n",
            "Requirement already satisfied: weasel<0.5.0,>=0.1.0 in /usr/local/lib/python3.10/dist-packages (from spacy<3.8.0,>=3.7.0->ru-core-news-sm==3.7.0) (0.4.1)\n",
            "Requirement already satisfied: typer<1.0.0,>=0.3.0 in /usr/local/lib/python3.10/dist-packages (from spacy<3.8.0,>=3.7.0->ru-core-news-sm==3.7.0) (0.12.3)\n",
            "Requirement already satisfied: tqdm<5.0.0,>=4.38.0 in /usr/local/lib/python3.10/dist-packages (from spacy<3.8.0,>=3.7.0->ru-core-news-sm==3.7.0) (4.66.4)\n",
            "Requirement already satisfied: requests<3.0.0,>=2.13.0 in /usr/local/lib/python3.10/dist-packages (from spacy<3.8.0,>=3.7.0->ru-core-news-sm==3.7.0) (2.31.0)\n",
            "Requirement already satisfied: pydantic!=1.8,!=1.8.1,<3.0.0,>=1.7.4 in /usr/local/lib/python3.10/dist-packages (from spacy<3.8.0,>=3.7.0->ru-core-news-sm==3.7.0) (2.8.2)\n",
            "Requirement already satisfied: jinja2 in /usr/local/lib/python3.10/dist-packages (from spacy<3.8.0,>=3.7.0->ru-core-news-sm==3.7.0) (3.1.4)\n",
            "Requirement already satisfied: setuptools in /usr/local/lib/python3.10/dist-packages (from spacy<3.8.0,>=3.7.0->ru-core-news-sm==3.7.0) (71.0.4)\n",
            "Requirement already satisfied: packaging>=20.0 in /usr/local/lib/python3.10/dist-packages (from spacy<3.8.0,>=3.7.0->ru-core-news-sm==3.7.0) (24.1)\n",
            "Requirement already satisfied: langcodes<4.0.0,>=3.2.0 in /usr/local/lib/python3.10/dist-packages (from spacy<3.8.0,>=3.7.0->ru-core-news-sm==3.7.0) (3.4.0)\n",
            "Requirement already satisfied: numpy>=1.19.0 in /usr/local/lib/python3.10/dist-packages (from spacy<3.8.0,>=3.7.0->ru-core-news-sm==3.7.0) (1.26.4)\n",
            "Requirement already satisfied: language-data>=1.2 in /usr/local/lib/python3.10/dist-packages (from langcodes<4.0.0,>=3.2.0->spacy<3.8.0,>=3.7.0->ru-core-news-sm==3.7.0) (1.2.0)\n",
            "Requirement already satisfied: annotated-types>=0.4.0 in /usr/local/lib/python3.10/dist-packages (from pydantic!=1.8,!=1.8.1,<3.0.0,>=1.7.4->spacy<3.8.0,>=3.7.0->ru-core-news-sm==3.7.0) (0.7.0)\n",
            "Requirement already satisfied: pydantic-core==2.20.1 in /usr/local/lib/python3.10/dist-packages (from pydantic!=1.8,!=1.8.1,<3.0.0,>=1.7.4->spacy<3.8.0,>=3.7.0->ru-core-news-sm==3.7.0) (2.20.1)\n",
            "Requirement already satisfied: typing-extensions>=4.6.1 in /usr/local/lib/python3.10/dist-packages (from pydantic!=1.8,!=1.8.1,<3.0.0,>=1.7.4->spacy<3.8.0,>=3.7.0->ru-core-news-sm==3.7.0) (4.12.2)\n",
            "Requirement already satisfied: charset-normalizer<4,>=2 in /usr/local/lib/python3.10/dist-packages (from requests<3.0.0,>=2.13.0->spacy<3.8.0,>=3.7.0->ru-core-news-sm==3.7.0) (3.3.2)\n",
            "Requirement already satisfied: idna<4,>=2.5 in /usr/local/lib/python3.10/dist-packages (from requests<3.0.0,>=2.13.0->spacy<3.8.0,>=3.7.0->ru-core-news-sm==3.7.0) (3.7)\n",
            "Requirement already satisfied: urllib3<3,>=1.21.1 in /usr/local/lib/python3.10/dist-packages (from requests<3.0.0,>=2.13.0->spacy<3.8.0,>=3.7.0->ru-core-news-sm==3.7.0) (2.0.7)\n",
            "Requirement already satisfied: certifi>=2017.4.17 in /usr/local/lib/python3.10/dist-packages (from requests<3.0.0,>=2.13.0->spacy<3.8.0,>=3.7.0->ru-core-news-sm==3.7.0) (2024.7.4)\n",
            "Requirement already satisfied: blis<0.8.0,>=0.7.8 in /usr/local/lib/python3.10/dist-packages (from thinc<8.3.0,>=8.2.2->spacy<3.8.0,>=3.7.0->ru-core-news-sm==3.7.0) (0.7.11)\n",
            "Requirement already satisfied: confection<1.0.0,>=0.0.1 in /usr/local/lib/python3.10/dist-packages (from thinc<8.3.0,>=8.2.2->spacy<3.8.0,>=3.7.0->ru-core-news-sm==3.7.0) (0.1.5)\n",
            "Requirement already satisfied: click>=8.0.0 in /usr/local/lib/python3.10/dist-packages (from typer<1.0.0,>=0.3.0->spacy<3.8.0,>=3.7.0->ru-core-news-sm==3.7.0) (8.1.7)\n",
            "Requirement already satisfied: shellingham>=1.3.0 in /usr/local/lib/python3.10/dist-packages (from typer<1.0.0,>=0.3.0->spacy<3.8.0,>=3.7.0->ru-core-news-sm==3.7.0) (1.5.4)\n",
            "Requirement already satisfied: rich>=10.11.0 in /usr/local/lib/python3.10/dist-packages (from typer<1.0.0,>=0.3.0->spacy<3.8.0,>=3.7.0->ru-core-news-sm==3.7.0) (13.7.1)\n",
            "Requirement already satisfied: cloudpathlib<1.0.0,>=0.7.0 in /usr/local/lib/python3.10/dist-packages (from weasel<0.5.0,>=0.1.0->spacy<3.8.0,>=3.7.0->ru-core-news-sm==3.7.0) (0.18.1)\n",
            "Requirement already satisfied: smart-open<8.0.0,>=5.2.1 in /usr/local/lib/python3.10/dist-packages (from weasel<0.5.0,>=0.1.0->spacy<3.8.0,>=3.7.0->ru-core-news-sm==3.7.0) (7.0.4)\n",
            "Requirement already satisfied: MarkupSafe>=2.0 in /usr/local/lib/python3.10/dist-packages (from jinja2->spacy<3.8.0,>=3.7.0->ru-core-news-sm==3.7.0) (2.1.5)\n",
            "Requirement already satisfied: marisa-trie>=0.7.7 in /usr/local/lib/python3.10/dist-packages (from language-data>=1.2->langcodes<4.0.0,>=3.2.0->spacy<3.8.0,>=3.7.0->ru-core-news-sm==3.7.0) (1.2.0)\n",
            "Requirement already satisfied: markdown-it-py>=2.2.0 in /usr/local/lib/python3.10/dist-packages (from rich>=10.11.0->typer<1.0.0,>=0.3.0->spacy<3.8.0,>=3.7.0->ru-core-news-sm==3.7.0) (3.0.0)\n",
            "Requirement already satisfied: pygments<3.0.0,>=2.13.0 in /usr/local/lib/python3.10/dist-packages (from rich>=10.11.0->typer<1.0.0,>=0.3.0->spacy<3.8.0,>=3.7.0->ru-core-news-sm==3.7.0) (2.16.1)\n",
            "Requirement already satisfied: wrapt in /usr/local/lib/python3.10/dist-packages (from smart-open<8.0.0,>=5.2.1->weasel<0.5.0,>=0.1.0->spacy<3.8.0,>=3.7.0->ru-core-news-sm==3.7.0) (1.16.0)\n",
            "Requirement already satisfied: mdurl~=0.1 in /usr/local/lib/python3.10/dist-packages (from markdown-it-py>=2.2.0->rich>=10.11.0->typer<1.0.0,>=0.3.0->spacy<3.8.0,>=3.7.0->ru-core-news-sm==3.7.0) (0.1.2)\n",
            "Downloading pymorphy3-2.0.2-py3-none-any.whl (53 kB)\n",
            "\u001b[2K   \u001b[90m━━━━━━━━━━━━━━━━━━━━━━━━━━━━━━━━━━━━━━━━\u001b[0m \u001b[32m53.8/53.8 kB\u001b[0m \u001b[31m3.2 MB/s\u001b[0m eta \u001b[36m0:00:00\u001b[0m\n",
            "\u001b[?25hDownloading DAWG_Python-0.7.2-py2.py3-none-any.whl (11 kB)\n",
            "Downloading pymorphy3_dicts_ru-2.4.417150.4580142-py2.py3-none-any.whl (8.4 MB)\n",
            "\u001b[2K   \u001b[90m━━━━━━━━━━━━━━━━━━━━━━━━━━━━━━━━━━━━━━━━\u001b[0m \u001b[32m8.4/8.4 MB\u001b[0m \u001b[31m59.7 MB/s\u001b[0m eta \u001b[36m0:00:00\u001b[0m\n",
            "\u001b[?25hInstalling collected packages: pymorphy3-dicts-ru, dawg-python, pymorphy3, ru-core-news-sm\n",
            "Successfully installed dawg-python-0.7.2 pymorphy3-2.0.2 pymorphy3-dicts-ru-2.4.417150.4580142 ru-core-news-sm-3.7.0\n",
            "\u001b[38;5;2m✔ Download and installation successful\u001b[0m\n",
            "You can now load the package via spacy.load('ru_core_news_sm')\n",
            "\u001b[38;5;3m⚠ Restart to reload dependencies\u001b[0m\n",
            "If you are in a Jupyter or Colab notebook, you may need to restart Python in\n",
            "order to load all the package's dependencies. You can do this by selecting the\n",
            "'Restart kernel' or 'Restart runtime' option.\n",
            "Collecting pymorphy2\n",
            "  Downloading pymorphy2-0.9.1-py3-none-any.whl.metadata (3.6 kB)\n",
            "Requirement already satisfied: dawg-python>=0.7.1 in /usr/local/lib/python3.10/dist-packages (from pymorphy2) (0.7.2)\n",
            "Collecting pymorphy2-dicts-ru<3.0,>=2.4 (from pymorphy2)\n",
            "  Downloading pymorphy2_dicts_ru-2.4.417127.4579844-py2.py3-none-any.whl.metadata (2.1 kB)\n",
            "Collecting docopt>=0.6 (from pymorphy2)\n",
            "  Downloading docopt-0.6.2.tar.gz (25 kB)\n",
            "  Preparing metadata (setup.py) ... \u001b[?25l\u001b[?25hdone\n",
            "Downloading pymorphy2-0.9.1-py3-none-any.whl (55 kB)\n",
            "\u001b[2K   \u001b[90m━━━━━━━━━━━━━━━━━━━━━━━━━━━━━━━━━━━━━━━━\u001b[0m \u001b[32m55.5/55.5 kB\u001b[0m \u001b[31m3.1 MB/s\u001b[0m eta \u001b[36m0:00:00\u001b[0m\n",
            "\u001b[?25hDownloading pymorphy2_dicts_ru-2.4.417127.4579844-py2.py3-none-any.whl (8.2 MB)\n",
            "\u001b[2K   \u001b[90m━━━━━━━━━━━━━━━━━━━━━━━━━━━━━━━━━━━━━━━━\u001b[0m \u001b[32m8.2/8.2 MB\u001b[0m \u001b[31m48.2 MB/s\u001b[0m eta \u001b[36m0:00:00\u001b[0m\n",
            "\u001b[?25hBuilding wheels for collected packages: docopt\n",
            "  Building wheel for docopt (setup.py) ... \u001b[?25l\u001b[?25hdone\n",
            "  Created wheel for docopt: filename=docopt-0.6.2-py2.py3-none-any.whl size=13704 sha256=b1bfd87bf1472e781e5c3ba6b3249062f638d224821cb35194acd5cac4da4aed\n",
            "  Stored in directory: /root/.cache/pip/wheels/fc/ab/d4/5da2067ac95b36618c629a5f93f809425700506f72c9732fac\n",
            "Successfully built docopt\n",
            "Installing collected packages: pymorphy2-dicts-ru, docopt, pymorphy2\n",
            "Successfully installed docopt-0.6.2 pymorphy2-0.9.1 pymorphy2-dicts-ru-2.4.417127.4579844\n"
          ]
        }
      ]
    },
    {
      "cell_type": "code",
      "source": [
        "import emoji\n",
        "import pymorphy2"
      ],
      "metadata": {
        "id": "Q3Wb0uRVcsKL"
      },
      "execution_count": null,
      "outputs": []
    },
    {
      "cell_type": "code",
      "source": [
        "import pandas as pd\n",
        "import matplotlib.pyplot as plt\n",
        "import re\n",
        "import nltk\n",
        "import spacy\n",
        "from nltk.tokenize import word_tokenize\n",
        "from collections import Counter\n",
        "import seaborn as sns\n",
        "from sklearn.feature_extraction.text import CountVectorizer\n",
        "\n",
        "from sklearn.preprocessing import LabelEncoder\n",
        "import numpy as np\n",
        "from sklearn.model_selection import train_test_split\n",
        "from transformers import AutoTokenizer, AutoModel\n",
        "import torch\n",
        "from imblearn.over_sampling import SMOTE\n",
        "from sklearn.ensemble import RandomForestClassifier, GradientBoostingClassifier\n",
        "from sklearn.model_selection import RandomizedSearchCV\n",
        "from scipy.stats import randint, uniform\n",
        "from sklearn.metrics import classification_report, accuracy_score\n",
        "from wordcloud import WordCloud"
      ],
      "metadata": {
        "id": "CClp7hsd7frj"
      },
      "execution_count": 2,
      "outputs": []
    },
    {
      "cell_type": "markdown",
      "source": [
        "Объединяем файлы"
      ],
      "metadata": {
        "id": "W0R8o3GcU_Hk"
      }
    },
    {
      "cell_type": "code",
      "source": [
        "\"\"\"`files = ['dataset1.xlsx', 'dataset2.xlsx', 'dataset3.xlsx', 'dataset4.xlsx']\n",
        "\n",
        "dfs = [pd.read_excel(file) for file in files]\n",
        "combined_df = pd.concat(dfs, ignore_index=True)\n",
        "\n",
        "combined_df.to_excel('data_anime.xlsx', index=False)\"\"\""
      ],
      "metadata": {
        "id": "akd-mURY_Gyy"
      },
      "execution_count": null,
      "outputs": []
    },
    {
      "cell_type": "code",
      "source": [
        "df = '/content/drive/MyDrive/Colab Notebooks/data_anime.xlsx'\n",
        "df = pd.read_excel(df)\n",
        "\n",
        "df.head()"
      ],
      "metadata": {
        "id": "FsS8uq087fmT",
        "colab": {
          "base_uri": "https://localhost:8080/",
          "height": 206
        },
        "outputId": "ab957ac3-7712-448a-f143-0613d0651287"
      },
      "execution_count": null,
      "outputs": [
        {
          "output_type": "execute_result",
          "data": {
            "text/plain": [
              "                                               Anime           Rate  \\\n",
              "0                           Нежный укус / Amagami SS    Нейтральный   \n",
              "1  Легенда о легендарных героях / Densetsu no Yuu...  Положительный   \n",
              "2  Мобильный воин Гандам: Единорог / Kidou Senshi...  Положительный   \n",
              "3  Невиданный цветок / Ano Hi Mita Hana no Namae ...  Положительный   \n",
              "4                      Принцесса-медуза / Kuragehime  Положительный   \n",
              "\n",
              "                                                Text  \n",
              "0  после первой арки несколько разочаровался, ожи...  \n",
              "1  Концовка какая-то мутная, ничего не понял. Над...  \n",
              "2  Что тут сказать? Никакого сравнени я с Seed, х...  \n",
              "3  Только что досмотрел и меня переполняют эмоции...  \n",
              "4  И правда не оторваться. Но, по-моему, то, что ...  "
            ],
            "text/html": [
              "\n",
              "  <div id=\"df-92a761ab-67ee-4fbd-82c3-472653092340\" class=\"colab-df-container\">\n",
              "    <div>\n",
              "<style scoped>\n",
              "    .dataframe tbody tr th:only-of-type {\n",
              "        vertical-align: middle;\n",
              "    }\n",
              "\n",
              "    .dataframe tbody tr th {\n",
              "        vertical-align: top;\n",
              "    }\n",
              "\n",
              "    .dataframe thead th {\n",
              "        text-align: right;\n",
              "    }\n",
              "</style>\n",
              "<table border=\"1\" class=\"dataframe\">\n",
              "  <thead>\n",
              "    <tr style=\"text-align: right;\">\n",
              "      <th></th>\n",
              "      <th>Anime</th>\n",
              "      <th>Rate</th>\n",
              "      <th>Text</th>\n",
              "    </tr>\n",
              "  </thead>\n",
              "  <tbody>\n",
              "    <tr>\n",
              "      <th>0</th>\n",
              "      <td>Нежный укус / Amagami SS</td>\n",
              "      <td>Нейтральный</td>\n",
              "      <td>после первой арки несколько разочаровался, ожи...</td>\n",
              "    </tr>\n",
              "    <tr>\n",
              "      <th>1</th>\n",
              "      <td>Легенда о легендарных героях / Densetsu no Yuu...</td>\n",
              "      <td>Положительный</td>\n",
              "      <td>Концовка какая-то мутная, ничего не понял. Над...</td>\n",
              "    </tr>\n",
              "    <tr>\n",
              "      <th>2</th>\n",
              "      <td>Мобильный воин Гандам: Единорог / Kidou Senshi...</td>\n",
              "      <td>Положительный</td>\n",
              "      <td>Что тут сказать? Никакого сравнени я с Seed, х...</td>\n",
              "    </tr>\n",
              "    <tr>\n",
              "      <th>3</th>\n",
              "      <td>Невиданный цветок / Ano Hi Mita Hana no Namae ...</td>\n",
              "      <td>Положительный</td>\n",
              "      <td>Только что досмотрел и меня переполняют эмоции...</td>\n",
              "    </tr>\n",
              "    <tr>\n",
              "      <th>4</th>\n",
              "      <td>Принцесса-медуза / Kuragehime</td>\n",
              "      <td>Положительный</td>\n",
              "      <td>И правда не оторваться. Но, по-моему, то, что ...</td>\n",
              "    </tr>\n",
              "  </tbody>\n",
              "</table>\n",
              "</div>\n",
              "    <div class=\"colab-df-buttons\">\n",
              "\n",
              "  <div class=\"colab-df-container\">\n",
              "    <button class=\"colab-df-convert\" onclick=\"convertToInteractive('df-92a761ab-67ee-4fbd-82c3-472653092340')\"\n",
              "            title=\"Convert this dataframe to an interactive table.\"\n",
              "            style=\"display:none;\">\n",
              "\n",
              "  <svg xmlns=\"http://www.w3.org/2000/svg\" height=\"24px\" viewBox=\"0 -960 960 960\">\n",
              "    <path d=\"M120-120v-720h720v720H120Zm60-500h600v-160H180v160Zm220 220h160v-160H400v160Zm0 220h160v-160H400v160ZM180-400h160v-160H180v160Zm440 0h160v-160H620v160ZM180-180h160v-160H180v160Zm440 0h160v-160H620v160Z\"/>\n",
              "  </svg>\n",
              "    </button>\n",
              "\n",
              "  <style>\n",
              "    .colab-df-container {\n",
              "      display:flex;\n",
              "      gap: 12px;\n",
              "    }\n",
              "\n",
              "    .colab-df-convert {\n",
              "      background-color: #E8F0FE;\n",
              "      border: none;\n",
              "      border-radius: 50%;\n",
              "      cursor: pointer;\n",
              "      display: none;\n",
              "      fill: #1967D2;\n",
              "      height: 32px;\n",
              "      padding: 0 0 0 0;\n",
              "      width: 32px;\n",
              "    }\n",
              "\n",
              "    .colab-df-convert:hover {\n",
              "      background-color: #E2EBFA;\n",
              "      box-shadow: 0px 1px 2px rgba(60, 64, 67, 0.3), 0px 1px 3px 1px rgba(60, 64, 67, 0.15);\n",
              "      fill: #174EA6;\n",
              "    }\n",
              "\n",
              "    .colab-df-buttons div {\n",
              "      margin-bottom: 4px;\n",
              "    }\n",
              "\n",
              "    [theme=dark] .colab-df-convert {\n",
              "      background-color: #3B4455;\n",
              "      fill: #D2E3FC;\n",
              "    }\n",
              "\n",
              "    [theme=dark] .colab-df-convert:hover {\n",
              "      background-color: #434B5C;\n",
              "      box-shadow: 0px 1px 3px 1px rgba(0, 0, 0, 0.15);\n",
              "      filter: drop-shadow(0px 1px 2px rgba(0, 0, 0, 0.3));\n",
              "      fill: #FFFFFF;\n",
              "    }\n",
              "  </style>\n",
              "\n",
              "    <script>\n",
              "      const buttonEl =\n",
              "        document.querySelector('#df-92a761ab-67ee-4fbd-82c3-472653092340 button.colab-df-convert');\n",
              "      buttonEl.style.display =\n",
              "        google.colab.kernel.accessAllowed ? 'block' : 'none';\n",
              "\n",
              "      async function convertToInteractive(key) {\n",
              "        const element = document.querySelector('#df-92a761ab-67ee-4fbd-82c3-472653092340');\n",
              "        const dataTable =\n",
              "          await google.colab.kernel.invokeFunction('convertToInteractive',\n",
              "                                                    [key], {});\n",
              "        if (!dataTable) return;\n",
              "\n",
              "        const docLinkHtml = 'Like what you see? Visit the ' +\n",
              "          '<a target=\"_blank\" href=https://colab.research.google.com/notebooks/data_table.ipynb>data table notebook</a>'\n",
              "          + ' to learn more about interactive tables.';\n",
              "        element.innerHTML = '';\n",
              "        dataTable['output_type'] = 'display_data';\n",
              "        await google.colab.output.renderOutput(dataTable, element);\n",
              "        const docLink = document.createElement('div');\n",
              "        docLink.innerHTML = docLinkHtml;\n",
              "        element.appendChild(docLink);\n",
              "      }\n",
              "    </script>\n",
              "  </div>\n",
              "\n",
              "\n",
              "<div id=\"df-53976e32-5876-4685-8f08-3880e3ecd32f\">\n",
              "  <button class=\"colab-df-quickchart\" onclick=\"quickchart('df-53976e32-5876-4685-8f08-3880e3ecd32f')\"\n",
              "            title=\"Suggest charts\"\n",
              "            style=\"display:none;\">\n",
              "\n",
              "<svg xmlns=\"http://www.w3.org/2000/svg\" height=\"24px\"viewBox=\"0 0 24 24\"\n",
              "     width=\"24px\">\n",
              "    <g>\n",
              "        <path d=\"M19 3H5c-1.1 0-2 .9-2 2v14c0 1.1.9 2 2 2h14c1.1 0 2-.9 2-2V5c0-1.1-.9-2-2-2zM9 17H7v-7h2v7zm4 0h-2V7h2v10zm4 0h-2v-4h2v4z\"/>\n",
              "    </g>\n",
              "</svg>\n",
              "  </button>\n",
              "\n",
              "<style>\n",
              "  .colab-df-quickchart {\n",
              "      --bg-color: #E8F0FE;\n",
              "      --fill-color: #1967D2;\n",
              "      --hover-bg-color: #E2EBFA;\n",
              "      --hover-fill-color: #174EA6;\n",
              "      --disabled-fill-color: #AAA;\n",
              "      --disabled-bg-color: #DDD;\n",
              "  }\n",
              "\n",
              "  [theme=dark] .colab-df-quickchart {\n",
              "      --bg-color: #3B4455;\n",
              "      --fill-color: #D2E3FC;\n",
              "      --hover-bg-color: #434B5C;\n",
              "      --hover-fill-color: #FFFFFF;\n",
              "      --disabled-bg-color: #3B4455;\n",
              "      --disabled-fill-color: #666;\n",
              "  }\n",
              "\n",
              "  .colab-df-quickchart {\n",
              "    background-color: var(--bg-color);\n",
              "    border: none;\n",
              "    border-radius: 50%;\n",
              "    cursor: pointer;\n",
              "    display: none;\n",
              "    fill: var(--fill-color);\n",
              "    height: 32px;\n",
              "    padding: 0;\n",
              "    width: 32px;\n",
              "  }\n",
              "\n",
              "  .colab-df-quickchart:hover {\n",
              "    background-color: var(--hover-bg-color);\n",
              "    box-shadow: 0 1px 2px rgba(60, 64, 67, 0.3), 0 1px 3px 1px rgba(60, 64, 67, 0.15);\n",
              "    fill: var(--button-hover-fill-color);\n",
              "  }\n",
              "\n",
              "  .colab-df-quickchart-complete:disabled,\n",
              "  .colab-df-quickchart-complete:disabled:hover {\n",
              "    background-color: var(--disabled-bg-color);\n",
              "    fill: var(--disabled-fill-color);\n",
              "    box-shadow: none;\n",
              "  }\n",
              "\n",
              "  .colab-df-spinner {\n",
              "    border: 2px solid var(--fill-color);\n",
              "    border-color: transparent;\n",
              "    border-bottom-color: var(--fill-color);\n",
              "    animation:\n",
              "      spin 1s steps(1) infinite;\n",
              "  }\n",
              "\n",
              "  @keyframes spin {\n",
              "    0% {\n",
              "      border-color: transparent;\n",
              "      border-bottom-color: var(--fill-color);\n",
              "      border-left-color: var(--fill-color);\n",
              "    }\n",
              "    20% {\n",
              "      border-color: transparent;\n",
              "      border-left-color: var(--fill-color);\n",
              "      border-top-color: var(--fill-color);\n",
              "    }\n",
              "    30% {\n",
              "      border-color: transparent;\n",
              "      border-left-color: var(--fill-color);\n",
              "      border-top-color: var(--fill-color);\n",
              "      border-right-color: var(--fill-color);\n",
              "    }\n",
              "    40% {\n",
              "      border-color: transparent;\n",
              "      border-right-color: var(--fill-color);\n",
              "      border-top-color: var(--fill-color);\n",
              "    }\n",
              "    60% {\n",
              "      border-color: transparent;\n",
              "      border-right-color: var(--fill-color);\n",
              "    }\n",
              "    80% {\n",
              "      border-color: transparent;\n",
              "      border-right-color: var(--fill-color);\n",
              "      border-bottom-color: var(--fill-color);\n",
              "    }\n",
              "    90% {\n",
              "      border-color: transparent;\n",
              "      border-bottom-color: var(--fill-color);\n",
              "    }\n",
              "  }\n",
              "</style>\n",
              "\n",
              "  <script>\n",
              "    async function quickchart(key) {\n",
              "      const quickchartButtonEl =\n",
              "        document.querySelector('#' + key + ' button');\n",
              "      quickchartButtonEl.disabled = true;  // To prevent multiple clicks.\n",
              "      quickchartButtonEl.classList.add('colab-df-spinner');\n",
              "      try {\n",
              "        const charts = await google.colab.kernel.invokeFunction(\n",
              "            'suggestCharts', [key], {});\n",
              "      } catch (error) {\n",
              "        console.error('Error during call to suggestCharts:', error);\n",
              "      }\n",
              "      quickchartButtonEl.classList.remove('colab-df-spinner');\n",
              "      quickchartButtonEl.classList.add('colab-df-quickchart-complete');\n",
              "    }\n",
              "    (() => {\n",
              "      let quickchartButtonEl =\n",
              "        document.querySelector('#df-53976e32-5876-4685-8f08-3880e3ecd32f button');\n",
              "      quickchartButtonEl.style.display =\n",
              "        google.colab.kernel.accessAllowed ? 'block' : 'none';\n",
              "    })();\n",
              "  </script>\n",
              "</div>\n",
              "    </div>\n",
              "  </div>\n"
            ],
            "application/vnd.google.colaboratory.intrinsic+json": {
              "type": "dataframe",
              "variable_name": "df",
              "summary": "{\n  \"name\": \"df\",\n  \"rows\": 73216,\n  \"fields\": [\n    {\n      \"column\": \"Anime\",\n      \"properties\": {\n        \"dtype\": \"category\",\n        \"num_unique_values\": 8672,\n        \"samples\": [\n          \"\\u041f\\u0440\\u043e\\u043c\\u0430\\u0440 / Promare\",\n          \"\\u041d\\u0430\\u0448\\u0430 \\u0441\\u0435\\u043c\\u0438\\u0434\\u043d\\u0435\\u0432\\u043d\\u0430\\u044f \\u0432\\u043e\\u0439\\u043d\\u0430 / Bokura no Nanokakan Sensou\",\n          \"\\u0425\\u0432\\u043e\\u0441\\u0442 \\u0447\\u0451\\u0440\\u043d\\u043e\\u0433\\u043e \\u043a\\u043e\\u0442\\u0430 / Chat Noir no Shippo\"\n        ],\n        \"semantic_type\": \"\",\n        \"description\": \"\"\n      }\n    },\n    {\n      \"column\": \"Rate\",\n      \"properties\": {\n        \"dtype\": \"category\",\n        \"num_unique_values\": 3,\n        \"samples\": [\n          \"\\u041d\\u0435\\u0439\\u0442\\u0440\\u0430\\u043b\\u044c\\u043d\\u044b\\u0439\",\n          \"\\u041f\\u043e\\u043b\\u043e\\u0436\\u0438\\u0442\\u0435\\u043b\\u044c\\u043d\\u044b\\u0439\",\n          \"\\u041e\\u0442\\u0440\\u0438\\u0446\\u0430\\u0442\\u0435\\u043b\\u044c\\u043d\\u044b\\u0439\"\n        ],\n        \"semantic_type\": \"\",\n        \"description\": \"\"\n      }\n    },\n    {\n      \"column\": \"Text\",\n      \"properties\": {\n        \"dtype\": \"string\",\n        \"num_unique_values\": 73165,\n        \"samples\": [\n          \"\\u043a\\u0430\\u043a \\u043f\\u043e \\u043c\\u043d\\u0435 \\u0441\\u043a\\u0443\\u0447\\u043d\\u044b\\u0439 \\u0441\\u0435\\u0437\\u043e\\u043d. \\u0410\\u043d\\u0438\\u043c\\u0430\\u0446\\u0438\\u044f \\u0443\\u043f\\u0430\\u043b\\u0430, \\u0441\\u044e\\u0436\\u0435\\u0442 \\u0441\\u0442\\u0430\\u043b \\u0441\\u043a\\u0443\\u0447\\u043d\\u0435\\u0435, \\u043f\\u0435\\u0440\\u0441\\u043e\\u043d\\u0430\\u0436\\u0438 \\u0441\\u0442\\u0430\\u043b\\u0438 \\u0441\\u043a\\u0443\\u0447\\u043d\\u0435\\u0435 \\u0438\\u043b\\u0438 \\u0441\\u0442\\u0430\\u043b\\u0438 \\u0431\\u0435\\u0441\\u0438\\u0442(\\u043d\\u0430\\u043f\\u0440\\u0438\\u043c\\u0435\\u0440: \\u043c\\u0438\\u043a\\u0430\\u0441\\u0430). \\u0427\\u0442\\u043e \\u043c\\u043d\\u0435 \\u043f\\u043e\\u043d\\u0440\\u0430\\u0432\\u0438\\u043b\\u043e\\u0441\\u044c\\u0440\\u0438\\u0441\\u043e\\u0432\\u043a\\u0430: \\u043f\\u0440\\u043e\\u0440\\u0438\\u0441\\u043e\\u0432\\u043a\\u0430 \\u043d\\u0430 \\u0432\\u044b\\u0441\\u0448\\u0435\\u043c \\u0443\\u0440\\u043e\\u0432\\u043d\\u0435, \\u0444\\u043e\\u043d\\u044b \\u043d\\u0430\\u0440\\u0438\\u0441\\u043e\\u0432\\u0430\\u043d\\u044b \\u043a\\u0430\\u0447\\u0435\\u0441\\u0442\\u0432\\u0435\\u043d\\u043d\\u043e. \\u043c\\u0443\\u0437\\u044b\\u043a\\u0430: \\u043c\\u0443\\u0437\\u044b\\u043a\\u0430 \\u0432 \\u0441\\u0430\\u043c\\u043e\\u043c \\u0441\\u0435\\u0440\\u0438\\u0430\\u043b\\u0435 \\u0437\\u0430\\u043c\\u0435\\u0447\\u0430\\u0442\\u0435\\u043b\\u044c\\u043d\\u0430\\u044f. \\u041a\\u043e\\u043d\\u0435\\u0447\\u043d\\u043e, \\u043d\\u0435 \\u0448\\u0435\\u0434\\u0435\\u0432\\u0440, \\u043d\\u043e \\u0443\\u0448\\u0430\\u043c \\u043f\\u0440\\u0438\\u044f\\u0442\\u043d\\u043e. \\u043e\\u043f\\u0435\\u043d\\u0438\\u043d\\u0433: \\u043e\\u043f\\u0435\\u043d\\u0438\\u043d\\u0433 \\u043c\\u043d\\u0435 \\u043f\\u043e\\u043d\\u0440\\u0430\\u0432\\u0438\\u043b\\u0441\\u044f, \\u043d\\u043e \\u043f\\u043e\\u0434 \\u043a\\u043e\\u043d\\u0435\\u0446 \\u0441\\u0435\\u0440\\u0438\\u0430\\u043b\\u0430 \\u0441\\u0442\\u0430\\u043b \\u0431\\u0435\\u0441\\u0438\\u0442\\u044c \\u0447\\u0442\\u043e \\u043c\\u043d\\u0435 \\u043d\\u0435 \\u043f\\u043e\\u043d\\u0440\\u0430\\u0432\\u0438\\u043b\\u043e\\u0441\\u044c: \\u044d\\u043d\\u0434: \\u043a\\u0430\\u043a \\u043f\\u043e \\u043c\\u043d\\u0435 \\u0443\\u0436\\u0430\\u0441\\u043d\\u044b\\u0439 \\u044d\\u043d\\u0434 \\u043a\\u043e\\u0442\\u043e\\u0440\\u044b\\u0439 \\u044f \\u043a\\u043e\\u0433\\u0434\\u0430 \\u043b\\u0438\\u0431\\u043e \\u0441\\u043b\\u044b\\u0448\\u0430\\u043b.. \\u041c\\u0443\\u0437\\u044b\\u043a\\u0430 \\u043c\\u043d\\u0435 \\u043d\\u0430\\u0441\\u0442\\u043e\\u043b\\u044c\\u043a\\u043e \\u043d\\u0435 \\u043f\\u043e\\u043d\\u0440\\u0430\\u0432\\u0438\\u043b\\u043e\\u0441\\u044c, \\u0447\\u0442\\u043e \\u043a\\u043e\\u0433\\u0434\\u0430 \\u043e\\u043d \\u043d\\u0430\\u0447\\u0438\\u043d\\u0430\\u043b\\u0441\\u044f, \\u044f \\u043f\\u0440\\u043e\\u0441\\u0442\\u043e \\u0441\\u0442\\u0430\\u0432\\u0438\\u043b \\u043d\\u0430 \\u043f\\u0430\\u0443\\u0437\\u0443, \\u0447\\u0442\\u043e\\u0431 \\u043d\\u0435 \\u0441\\u043b\\u0443\\u0448\\u0430\\u0442\\u044c \\u044d\\u0442\\u043e \\u0443\\u0436\\u0430\\u0441\\u043d\\u043e\\u0435 \\u043d\\u0430\\u0447\\u0430\\u043b\\u043e. \\u0412\\u0438\\u0437\\u0443\\u0430\\u043b\\u044c\\u043d\\u0430\\u044f \\u0447\\u0430\\u0441\\u0442\\u044c \\u0442\\u0430\\u043a \\u0436\\u0435 \\u0440\\u0430\\u0437\\u043e\\u0447\\u0430\\u0440\\u043e\\u0432\\u0430\\u043b\\u0430 \\u043f\\u0440\\u0435\\u0434\\u0441\\u043a\\u0430\\u0437\\u0443\\u0435\\u043c\\u043e: \\u0422\\u0443\\u0442 \\u0433\\u043e\\u0432\\u043e\\u0440\\u0438\\u0442\\u044c \\u043d\\u0438\\u0447\\u0435\\u0433\\u043e \\u0438 \\u043d\\u0435 \\u043d\\u0443\\u0436\\u043d\\u043e.. \\u0412\\u0441\\u0435 \\u0441\\u044e\\u0436\\u0435\\u0442\\u043d\\u044b\\u0435 \\u043f\\u043e\\u0432\\u043e\\u0440\\u043e\\u0442\\u044b \\u043d\\u0430\\u0441\\u0442\\u043e\\u043b\\u044c\\u043a\\u043e \\u043f\\u0440\\u0435\\u0434\\u0441\\u043a\\u0430\\u0437\\u0443\\u0435\\u043c\\u044b\\u0435, \\u0447\\u0442\\u043e \\u0441\\u0442\\u0430\\u043d\\u043e\\u0432\\u0438\\u0442\\u044c\\u0441\\u044f \\u0443\\u0436\\u0435 \\u043d\\u0435\\u0438\\u043d\\u0442\\u0435\\u0440\\u0435\\u0441\\u043d\\u043e \\u0441\\u043c\\u043e\\u0442\\u0440\\u0435\\u0442\\u044c \\u0438 \\u0445\\u043e\\u0447\\u0435\\u0442\\u0441\\u044f \\u0434\\u043e\\u0431\\u0430\\u0432\\u0438\\u0442\\u044c \\u0432 \\u0431\\u0440\\u043e\\u0448\\u0435\\u043d\\u043e \\u0432\\u044b\\u0432\\u043e\\u0434: \\u041f\\u0435\\u0440\\u0432\\u044b\\u0439 \\u0441\\u0435\\u0437\\u043e\\u043d \\u043d\\u0430 \\u0433\\u043e\\u043b\\u043e\\u0432\\u0443 \\u0432\\u044b\\u0448\\u0435. \\u041f\\u043e\\u0441\\u043e\\u0432\\u0435\\u0442\\u0443\\u044e \\u043b\\u0438 \\u044f \\u043a\\u043e\\u043c\\u0443-\\u0442\\u043e \\u044d\\u0442\\u043e \\u0430\\u043d\\u0438\\u043c\\u0435? \\u0434\\u0430, \\u043d\\u043e \\u0432\\u043e\\u0437\\u043c\\u043e\\u0436\\u043d\\u043e \\u0434\\u0430\\u043d\\u043d\\u044b\\u0439 \\u0441\\u0435\\u0437\\u043e\\u043d \\u0441\\u0442\\u0430\\u043d\\u0435\\u0442 \\u0440\\u0430\\u0437\\u043e\\u0447\\u0430\\u0440\\u043e\\u0432\\u0430\\u043d\\u0438\\u0435\\u043c \\u043a\\u043e\\u043c\\u0443 \\u043f\\u043e\\u043d\\u0440\\u0430\\u0432\\u0438\\u043b\\u0441\\u044f \\u043f\\u0435\\u0440\\u0432\\u044b\\u0439 \\u0441\\u0435\\u0437\\u043e\\u043d. 7 \\u0438\\u0437 10\",\n          \"\\u041a\\u0440\\u0443\\u0442\\u043e) \\u041c\\u043d\\u0435 \\u043f\\u043e\\u043d\\u0440\\u0430\\u0432\\u0438\\u043b\\u043e\\u0441\\u044c. \\u042f \\u0431\\u044b, \\u043c\\u043e\\u0436\\u0435\\u0442 \\u0431\\u044b\\u0442\\u044c, \\u0431\\u044b\\u043b \\u0431\\u044b \\u0431\\u043e\\u043b\\u044c\\u0448\\u0435 \\u043f\\u043e\\u0434\\u0432\\u0435\\u0440\\u0436\\u0435\\u043d \\u044d\\u043c\\u043e\\u0446\\u0438\\u044f\\u043c, \\u0435\\u0441\\u043b\\u0438 \\u0431\\u044b \\u043f\\u0435\\u0440\\u0435\\u0434 \\u044d\\u0442\\u0438\\u043c \\u0441\\u043c\\u043e\\u0442\\u0440\\u0435\\u043b \\u0432\\u0435\\u0441\\u044c \\u0441\\u0435\\u0440\\u0438\\u0430\\u043b, \\u043d\\u043e... \\u043f\\u0435\\u0440\\u0435\\u0441\\u043c\\u0430\\u0442\\u0440\\u0438\\u0432\\u0430\\u0442\\u044c \\u0442\\u0430\\u0439\\u0442\\u043b\\u044b \\u043d\\u0435 \\u043e\\u0447\\u0435\\u043d\\u044c \\u043b\\u044e\\u0431\\u043b\\u044e. \\u041a\\u0430\\u043a \\u0432\\u0441\\u0435\\u0433\\u0434\\u0430 \\u0431\\u044b\\u043b \\u0440\\u0430\\u0434 \\u0443\\u0432\\u0438\\u0434\\u0435\\u0442\\u044c \\u043f\\u0440\\u043e\\u044f\\u0432\\u043b\\u0435\\u043d\\u0438\\u0435 \\u0441\\u0438\\u043b\\u044c\\u043d\\u044b\\u0445 \\u0447\\u0443\\u0432\\u0441\\u0442\\u0432 \\u043f\\u0435\\u0440\\u0441\\u043e\\u043d\\u0430\\u0436\\u0435\\u0439, \\u0445\\u043e\\u0442\\u044f \\u0438 \\u0433\\u0440\\u0443\\u0441\\u0442\\u043d\\u0435\\u043d\\u044c\\u043a\\u043e \\u0441\\u0442\\u0430\\u043b\\u043e \\u043f\\u043e\\u0441\\u043b\\u0435 \\u044d\\u0442\\u043e\\u0433\\u043e. \\u0415\\u0441\\u043b\\u0438 \\u0431\\u044b \\u043d\\u0435 \\u0442\\u0438\\u0442\\u0440\\u044b, \\u043e\\u0441\\u0442\\u0430\\u043b\\u0441\\u044f \\u0431\\u044b \\u043d\\u0435\\u043f\\u0440\\u0438\\u044f\\u0442\\u043d\\u044b\\u0439 \\u043e\\u0441\\u0430\\u0434\\u043e\\u043a. \\u041f\\u043e\\u0442\\u043e\\u043c\\u0443 \\u0447\\u0442\\u043e \\u0441\\u043f\\u043e\\u0439\\u043b\\u0435\\u0440\\u043e\\u0434\\u043d\\u0430 \\u043f\\u043e\\u043f\\u044b\\u0442\\u043a\\u0430 \\u0443 \\u043d\\u0435\\u0433\\u043e \\u0432\\u0441\\u0451 \\u0436\\u0435 \\u0431\\u044b\\u043b\\u0430. \\u041c\\u043d\\u0435, \\u043a\\u043e\\u043d\\u0435\\u0447\\u043d\\u043e, \\u0442\\u0440\\u0443\\u0434\\u043d\\u043e \\u0441\\u0443\\u0434\\u0438\\u0442\\u044c \\u043e \\u0442\\u043e\\u043c, \\u0442\\u044f\\u0436\\u0435\\u043b\\u0435\\u0435 \\u043b\\u0438 \\u0434\\u0443\\u043c\\u0430\\u0442\\u044c \\u043e\\u0441\\u0442\\u0430\\u0442\\u043e\\u043a \\u0436\\u0438\\u0437\\u043d\\u0438 \\u043e \\u0442\\u043e\\u043c, \\u0447\\u0442\\u043e \\u0442\\u044b \\u0432\\u0441\\u0451 \\u0437\\u0430\\u043f\\u043e\\u0440\\u043e\\u043b(\\u0432\\u043e\\u0437\\u043c\\u043e\\u0436\\u043d\\u043e), \\u0438\\u043b\\u0438 \\u0447\\u0442\\u043e \\u043d\\u0435 \\u0438\\u0441\\u043f\\u043e\\u043b\\u044c\\u0437\\u043e\\u0432\\u0430\\u043b \\u0432\\u043e\\u0437\\u043c\\u043e\\u0436\\u043d\\u043e\\u0441\\u0442\\u044c \\u0432\\u0441\\u0451 \\u0438\\u0441\\u043f\\u0440\\u0430\\u0432\\u0438\\u0442\\u044c. \\u041d\\u043e, \\u043a\\u0430\\u043a \\u0437\\u0440\\u0438\\u0442\\u0435\\u043b\\u044f, \\u043c\\u0435\\u043d\\u044f \\u043f\\u0440\\u043e\\u0441\\u0442\\u043e \\u0435\\u0441\\u0442 \\u0438\\u0437\\u043d\\u0443\\u0442\\u0440\\u0438 ._.\\u041d\\u043e \\u0441 \\u0434\\u0440\\u0443\\u0433\\u043e\\u0439 \\u0441\\u0442\\u043e\\u0440\\u043e\\u043d\\u044b \\u044d\\u0442\\u043e \\u0434\\u043e\\u0432\\u043e\\u043b\\u044c\\u043d\\u043e \\u043d\\u0435\\u043f\\u043b\\u043e\\u0445\\u043e\\u0439 \\u043f\\u043e\\u0432\\u043e\\u0440\\u043e\\u0442 \\u0441\\u044e\\u0436\\u0435\\u0442\\u0430. \\u041f\\u0440\\u0430\\u0432\\u0434\\u0430, \\u0445\\u0435\\u0439\\u0442\\u0435\\u0440\\u043e\\u0432 \\u0442\\u0430\\u043a\\u043e\\u0439 \\u0432\\u044b\\u0445\\u043e\\u0434\\u043a\\u0438 \\u0442\\u043e\\u0436\\u0435 \\u0431\\u044b \\u043f\\u0440\\u0435\\u0434\\u043e\\u0441\\u0442\\u0430\\u0442\\u043e\\u0447\\u043d\\u043e \\u043d\\u0430\\u0448\\u043b\\u043e\\u0441\\u044c)\",\n          \"\\u042d\\u0442\\u043e \\u0430\\u043d\\u0438\\u043c\\u0435 \\u0438\\u0437 \\u0440\\u043e\\u0434\\u0430 \\u0442\\u0435\\u0445, \\u043a\\u043e\\u0442\\u043e\\u0440\\u044b\\u0435 \\u0441\\u0442\\u043e\\u0438\\u0442 \\u0441\\u043c\\u043e\\u0442\\u0440\\u0435\\u0442\\u044c \\u0442\\u043e\\u0433\\u0434\\u0430, \\u043a\\u043e\\u0433\\u0434\\u0430 \\u0442\\u0435\\u0431\\u0435 \\u0445\\u043e\\u0447\\u0435\\u0442\\u0441\\u044f \\u043f\\u0440\\u043e\\u0441\\u0442\\u043e \\u0440\\u0430\\u0441\\u0441\\u043b\\u0430\\u0431\\u0438\\u0442\\u0441\\u044f \\u0438 \\u043d\\u0435\\u0442 \\u0436\\u0435\\u043b\\u0430\\u043d\\u0438\\u044f \\u043d\\u0430\\u043f\\u0440\\u044f\\u0433\\u0430\\u0442\\u044c \\u0433\\u043e\\u043b\\u043e\\u0432\\u0443, \\u0432\\u043d\\u0438\\u043a\\u0430\\u044f \\u0432 \\u0441\\u043b\\u043e\\u0436\\u043d\\u044b\\u0435 \\u0444\\u0438\\u043b\\u043e\\u0441\\u043e\\u0444\\u0441\\u043a\\u0438\\u0435 \\u0441\\u044e\\u0436\\u0435\\u0442\\u044b.\\u042f \\u043d\\u0430\\u0447\\u0430\\u043b\\u0430 \\u0441\\u043c\\u043e\\u0442\\u0440\\u0435\\u0442\\u044c \\u0435\\u0433\\u043e \\u0438\\u0437-\\u0437\\u0430 \\u0442\\u043e\\u0433\\u043e, \\u0447\\u0442\\u043e \\u043f\\u043e\\u043f\\u0440\\u043e\\u0441\\u0442\\u0443 \\u043d\\u0435 \\u043c\\u043e\\u0433\\u043b\\u0430 \\u0432\\u044b\\u0431\\u0440\\u0430\\u0442\\u044c \\u0430\\u043d\\u0438\\u043c\\u0435 \\u0434\\u043b\\u044f \\u043f\\u0440\\u043e\\u0441\\u043c\\u043e\\u0442\\u0440\\u0430. \\u042f \\u043a\\u0430\\u043a \\u0440\\u0430\\u0437 \\u0442\\u0430\\u043a\\u0438 \\u0438 \\u0435\\u0441\\u0442\\u044c \\u0442\\u043e\\u0442 \\u043b\\u044e\\u0431\\u0438\\u0442\\u0435\\u043b\\u044c \\u0441\\u0435\\u0440\\u044c\\u0451\\u0437\\u043d\\u044b\\u0445 \\u0444\\u0438\\u043b\\u043e\\u0441\\u043e\\u0444\\u0441\\u043a\\u0438\\u0445 \\u0441\\u044e\\u0436\\u0435\\u0442\\u043e\\u0432, \\u0430 Gatchaman Crowds \\u0442\\u043e\\u0447\\u043d\\u043e \\u043d\\u0435 \\u043f\\u043e\\u0434\\u0445\\u043e\\u0434\\u0438\\u043b \\u043f\\u043e\\u0434 \\u044d\\u0442\\u043e \\u043e\\u043f\\u0438\\u0441\\u0430\\u043d\\u0438\\u0435. \\u041d\\u043e \\u044f \\u0432\\u0441\\u0451 \\u0442\\u0430\\u043a\\u0438 \\u0440\\u0435\\u0448\\u0438\\u043b\\u0430 \\u0434\\u0430\\u0442\\u044c \\u0435\\u043c\\u0443 \\u0448\\u0430\\u043d\\u0441, \\u0445\\u043e\\u0442\\u044f \\u0438 \\u043e\\u0442\\u043d\\u043e\\u0448\\u0443\\u0441\\u044c \\u043a \\u0442\\u0430\\u043a\\u0438\\u043c \\u0430\\u043d\\u0438\\u043c\\u0435 \\u043e\\u0447\\u0435\\u043d\\u044c \\u0441\\u043a\\u0435\\u043f\\u0442\\u0438\\u0447\\u0435\\u0441\\u043a\\u0438. \\u0421\\u0440\\u0430\\u0437\\u0443 \\u0441\\u043a\\u0430\\u0436\\u0443, \\u0447\\u0442\\u043e \\u043d\\u0438\\u0447\\u0435\\u0433\\u043e \\u043e\\u0441\\u043e\\u0431\\u0435\\u043d\\u043d\\u043e\\u0433\\u043e \\u043e\\u0442 \\u043d\\u0435\\u0433\\u043e \\u043d\\u0435 \\u0436\\u0434\\u0430\\u043b\\u0430 \\u0438 \\u043d\\u0435 \\u043d\\u0430\\u0434\\u0435\\u044f\\u043b\\u0430\\u0441\\u044c, \\u0447\\u0442\\u043e \\u0441\\u0438\\u0435 \\u0442\\u0432\\u043e\\u0440\\u0435\\u043d\\u0438\\u0435 \\u043e\\u043a\\u0430\\u0436\\u0435\\u0442\\u0441\\u044f \\u0447\\u0435\\u043c-\\u0442\\u043e \\u0432\\u044b\\u0434\\u0430\\u044e\\u0449\\u0438\\u043c\\u0441\\u044f. \\u042f \\u043e\\u043a\\u0430\\u0437\\u0430\\u043b\\u0430\\u0441\\u044c \\u043f\\u0440\\u0430\\u0432\\u0430 \\u0438 \\u043d\\u0435 \\u043f\\u0440\\u0430\\u0432\\u0430 \\u043e\\u0434\\u043d\\u043e\\u0432\\u0440\\u0435\\u043c\\u0435\\u043d\\u043d\\u043e.\\u041f\\u0435\\u0440\\u0432\\u0430\\u044f \\u0441\\u0435\\u0440\\u0438\\u044f \\u043d\\u0435 \\u043f\\u0440\\u0435\\u0434\\u0441\\u0442\\u0430\\u0432\\u043b\\u044f\\u0435\\u0442 \\u0438\\u0437 \\u0441\\u0435\\u0431\\u044f \\u043f\\u043e\\u0447\\u0442\\u0438 \\u043d\\u0438\\u0447\\u0435\\u0433\\u043e, \\u0447\\u0442\\u043e \\u043c\\u043e\\u0436\\u0435\\u0442 \\u043f\\u0440\\u0438\\u0442\\u044f\\u043d\\u0443\\u0442\\u044c \\u0437\\u0440\\u0438\\u0442\\u0435\\u043b\\u044f, \\u043d\\u043e \\u043e\\u043d\\u0430 \\u0438 \\u043d\\u0435 \\u043e\\u0442\\u0442\\u0430\\u043b\\u043a\\u0438\\u0432\\u0430\\u0435\\u0442 \\u043e\\u0442 \\u0441\\u0435\\u0431\\u044f. \\u041f\\u043e\\u043d\\u0430\\u0447\\u0430\\u043b\\u0443 \\u0433\\u043b\\u0430\\u0432\\u043d\\u0430\\u044f \\u0433\\u0435\\u0440\\u043e\\u0438\\u043d\\u044f \\u043a\\u0430\\u0436\\u0435\\u0442\\u0441\\u044f \\u0433\\u043b\\u0443\\u043f\\u043e\\u0439, \\u0436\\u0438\\u0437\\u043d\\u0435\\u0440\\u0430\\u0434\\u043e\\u0441\\u0442\\u043d\\u043e\\u0439 \\u0434\\u0443\\u0440\\u043e\\u0447\\u043a\\u043e\\u0439 \\u043e\\u043f\\u0442\\u0438\\u043c\\u0438\\u0441\\u0442\\u043a\\u043e\\u0439 \\u0438 \\u043c\\u0435\\u0441\\u0442\\u0430\\u043c\\u0438 \\u043e\\u0447\\u0435\\u043d\\u044c \\u0441\\u0438\\u043b\\u044c\\u043d\\u043e \\u0440\\u0430\\u0437\\u0434\\u0440\\u0430\\u0436\\u0430\\u0435\\u0442, \\u043d\\u043e \\u0432\\u043f\\u043e\\u0441\\u043b\\u0435\\u0434\\u0441\\u0442\\u0432\\u0438\\u0438 \\u044d\\u0442\\u043e \\u043e\\u043a\\u0430\\u0437\\u044b\\u0432\\u0430\\u0435\\u0442\\u0441\\u044f \\u0441\\u043e\\u0432\\u0441\\u0435\\u043c \\u043d\\u0435 \\u0442\\u0430\\u043a. \\u041e\\u043d\\u0430 \\u0438\\u043c\\u0435\\u043d\\u043d\\u043e \\u0442\\u043e\\u0442 \\u0447\\u0435\\u043b\\u043e\\u0432\\u0435\\u043a , \\u0441\\u043f\\u043b\\u043e\\u0442\\u0438\\u0432\\u0448\\u0438\\u0439 \\u0433\\u044d\\u0447\\u0430\\u043c\\u044d\\u043d\\u043e\\u0432, \\u0434\\u0430\\u0432\\u0448\\u0438\\u0439 \\u0438\\u043c \\u043d\\u0430\\u0434\\u0435\\u0436\\u0434\\u0443 \\u0438 \\u0438\\u0437\\u043c\\u0435\\u043d\\u0438\\u0432\\u0448\\u0438\\u0439 \\u0438\\u0445. \\u0427\\u0435\\u0441\\u0442\\u043d\\u043e \\u0433\\u043e\\u0432\\u043e\\u0440\\u044f, \\u044d\\u0442\\u043e \\u0430\\u043d\\u0438\\u043c\\u0435 \\u0438 \\u0441\\u0442\\u043e\\u0438\\u0442 \\u0441\\u043c\\u043e\\u0442\\u0440\\u0435\\u0442\\u044c \\u0442\\u043e\\u043b\\u044c\\u043a\\u043e \\u0438\\u0437-\\u0437\\u0430 \\u0433\\u0435\\u0440\\u043e\\u0435\\u0432, \\u0438\\u0431\\u043e \\u0441\\u044e\\u0436\\u0435\\u0442 \\u0442\\u0443\\u0442 \\u043e\\u0442\\u043a\\u0440\\u043e\\u0432\\u0435\\u043d\\u043d\\u043e \\u0441\\u043b\\u0430\\u0431\\u044b\\u0439 (\\u0425\\u043e\\u0442\\u044f \\u0438\\u0434\\u0435\\u044f \\u0441 \\\"\\u0413\\u0430\\u043b\\u0430\\u043a\\u0442\\u0438\\u043a\\u043e\\u0439\\\" \\u0432\\u0435\\u0441\\u044c\\u043c\\u0430 \\u043d\\u0435\\u043f\\u043b\\u043e\\u0445\\u0430). \\u041c\\u043e\\u0436\\u0435\\u0442 \\u0431\\u044b\\u0442\\u044c \\u043a\\u0442\\u043e-\\u0442\\u043e \\u0441\\u043a\\u0430\\u0436\\u0435\\u0442, \\u0447\\u0442\\u043e \\u044d\\u0442\\u0438 \\u043f\\u0435\\u0440\\u0441\\u043e\\u043d\\u0430\\u0436\\u0438 \\u0437\\u0430\\u0443\\u0440\\u044f\\u0434\\u043d\\u044b \\u0438 \\u0431\\u0430\\u043d\\u0430\\u043b\\u044c\\u043d\\u044b... \\u043c\\u043e\\u0436\\u0435\\u0442 \\u0438 \\u0442\\u0430\\u043a... \\u043d\\u043e \\u044d\\u0442\\u043e \\u043d\\u0435 \\u043c\\u0435\\u0448\\u0430\\u0435\\u0442 \\u0438\\u043c\\u0438 \\u043d\\u0430\\u0441\\u043b\\u0430\\u0436\\u0434\\u0430\\u0442\\u044c\\u0441\\u044f. \\u041f\\u0440\\u0435\\u043a\\u0440\\u0430\\u0441\\u043d\\u044b\\u0435 OP \\u0438 ED, \\u043a\\u043e\\u0442\\u043e\\u0440\\u044b\\u0435 \\u043d\\u0435 \\u0445\\u043e\\u0447\\u0435\\u0442\\u0441\\u044f \\u043f\\u0440\\u043e\\u043f\\u0443\\u0441\\u043a\\u0430\\u0442\\u044c \\u043d\\u0430 \\u043f\\u0440\\u043e\\u0442\\u044f\\u0436\\u0435\\u043d\\u0438\\u0435 \\u0432\\u0441\\u0435\\u0445 12 \\u0441\\u0435\\u0440\\u0438\\u0439. \\u041d\\u0435\\u043f\\u043b\\u043e\\u0445\\u043e\\u0435 \\u043c\\u0443\\u0437\\u044b\\u043a\\u0430\\u043b\\u044c\\u043d\\u043e\\u0435 \\u043e\\u0444\\u043e\\u0440\\u043c\\u043b\\u0435\\u043d\\u0438\\u0435 \\u0438 \\u043a\\u0440\\u0430\\u0441\\u0438\\u0432\\u0430\\u044f \\u043a\\u0430\\u0440\\u0442\\u0438\\u043d\\u043a\\u0430 \\u0442\\u043e\\u0436\\u0435 \\u0434\\u0435\\u043b\\u0430\\u044e\\u0442 \\u0441\\u0432\\u043e\\u0451 \\u0434\\u0435\\u043b\\u043e.\\u041d\\u043e \\u043e\\u0447\\u0435\\u043d\\u044c \\u0441\\u043a\\u043e\\u043c\\u043a\\u0430\\u043d\\u043d\\u044b\\u0439 \\u0438 \\u043d\\u0435\\u044f\\u0441\\u043d\\u044b\\u0439 \\u0444\\u0438\\u043d\\u0430\\u043b, \\u043a\\u043e\\u0442\\u043e\\u0440\\u044b\\u0439 \\u0442\\u0430\\u043a\\u0436\\u0435 \\u043c\\u043e\\u0436\\u0435\\u0442 \\u043f\\u043e\\u0434\\u043f\\u043e\\u0440\\u0442\\u0438\\u0442\\u044c \\u0432\\u043f\\u0435\\u0447\\u0430\\u0442\\u043b\\u0435\\u043d\\u0438\\u0435. \\u042f \\u0434\\u0443\\u043c\\u0430\\u044e, Gatchaman Crowds \\u0432\\u0441\\u0451 \\u0436\\u0435 \\u0441\\u0442\\u043e\\u0438\\u0442 \\u043f\\u043e\\u0441\\u043c\\u043e\\u0442\\u0440\\u0435\\u0442\\u044c. \\u0411\\u0443\\u0434\\u044c \\u0441\\u044e\\u0436\\u0435\\u0442 \\u0441\\u0438\\u043b\\u044c\\u043d\\u0435\\u0435 \\u0438 \\u0434\\u043e\\u0440\\u0430\\u0431\\u043e\\u0442\\u0430\\u043d\\u043d\\u0435\\u0435 ... \\u0438\\u0437 \\u043d\\u0435\\u0433\\u043e \\u043c\\u043e\\u0433\\u043b\\u043e \\u0431\\u044b \\u0432\\u044b\\u0439\\u0442\\u0438 \\u0447\\u0442\\u043e-\\u0442\\u043e \\u043e\\u0447\\u0435\\u043d\\u044c \\u0441\\u0442\\u043e\\u044f\\u0449\\u0435\\u0435, \\u0430 \\u0442\\u0430\\u043a \\u0442\\u043e\\u043b\\u044c\\u043a\\u043e 7.\"\n        ],\n        \"semantic_type\": \"\",\n        \"description\": \"\"\n      }\n    }\n  ]\n}"
            }
          },
          "metadata": {},
          "execution_count": 4
        }
      ]
    },
    {
      "cell_type": "code",
      "source": [
        "df.info()\n",
        "df.shape"
      ],
      "metadata": {
        "colab": {
          "base_uri": "https://localhost:8080/"
        },
        "id": "X1_mF-X8_KVC",
        "outputId": "8822f0ad-705e-4f5a-f938-24ad5218d327"
      },
      "execution_count": null,
      "outputs": [
        {
          "output_type": "stream",
          "name": "stdout",
          "text": [
            "<class 'pandas.core.frame.DataFrame'>\n",
            "RangeIndex: 73216 entries, 0 to 73215\n",
            "Data columns (total 3 columns):\n",
            " #   Column  Non-Null Count  Dtype \n",
            "---  ------  --------------  ----- \n",
            " 0   Anime   73216 non-null  object\n",
            " 1   Rate    73216 non-null  object\n",
            " 2   Text    73215 non-null  object\n",
            "dtypes: object(3)\n",
            "memory usage: 1.7+ MB\n"
          ]
        },
        {
          "output_type": "execute_result",
          "data": {
            "text/plain": [
              "(73216, 3)"
            ]
          },
          "metadata": {},
          "execution_count": 5
        }
      ]
    },
    {
      "cell_type": "code",
      "source": [
        "#проверяем число пропусков\n",
        "sum(df['Rate'].isna())"
      ],
      "metadata": {
        "colab": {
          "base_uri": "https://localhost:8080/"
        },
        "id": "RrG7k6N7_Npr",
        "outputId": "f11194e8-741c-44f4-c3d6-4276ed258bb0"
      },
      "execution_count": null,
      "outputs": [
        {
          "output_type": "execute_result",
          "data": {
            "text/plain": [
              "0"
            ]
          },
          "metadata": {},
          "execution_count": 6
        }
      ]
    },
    {
      "cell_type": "code",
      "source": [
        "sum(df['Text'].isna())"
      ],
      "metadata": {
        "colab": {
          "base_uri": "https://localhost:8080/"
        },
        "id": "W7tSXLZF_OVq",
        "outputId": "dd3a6e5a-4d1c-4635-bd3b-df4fbc9b1ac6"
      },
      "execution_count": null,
      "outputs": [
        {
          "output_type": "execute_result",
          "data": {
            "text/plain": [
              "1"
            ]
          },
          "metadata": {},
          "execution_count": 7
        }
      ]
    },
    {
      "cell_type": "code",
      "source": [
        "sum(df['Anime'].isna())"
      ],
      "metadata": {
        "colab": {
          "base_uri": "https://localhost:8080/"
        },
        "id": "2xGOs1qi_OKi",
        "outputId": "0e2a29de-6f5c-4ac2-c4f8-4dccfc73d764"
      },
      "execution_count": null,
      "outputs": [
        {
          "output_type": "execute_result",
          "data": {
            "text/plain": [
              "0"
            ]
          },
          "metadata": {},
          "execution_count": 8
        }
      ]
    },
    {
      "cell_type": "code",
      "source": [
        "# удаление строк с пропусками\n",
        "df = df.dropna(subset=['Text'])\n",
        "\n",
        "# удаление лишних пробелов\n",
        "df['Text'] = df['Text'].str.strip()\n",
        "\n",
        "# удаление дубликатов\n",
        "df = df.drop_duplicates(subset=['Text'])"
      ],
      "metadata": {
        "id": "4HOm7cBo_Qor"
      },
      "execution_count": null,
      "outputs": []
    },
    {
      "cell_type": "code",
      "source": [
        "df.shape"
      ],
      "metadata": {
        "colab": {
          "base_uri": "https://localhost:8080/"
        },
        "id": "Vuv-7sJe_Yfi",
        "outputId": "a93b15f6-09b2-4270-89ab-6f2571d9d4cf"
      },
      "execution_count": null,
      "outputs": [
        {
          "output_type": "execute_result",
          "data": {
            "text/plain": [
              "(73165, 3)"
            ]
          },
          "metadata": {},
          "execution_count": 10
        }
      ]
    },
    {
      "cell_type": "code",
      "source": [
        "# подсчёт количества категорий\n",
        "class_counts = df['Rate'].value_counts()\n",
        "\n",
        "\n",
        "plt.figure(figsize=(12, 6))\n",
        "plt.pie(class_counts, labels=[f'{label} ({count})' for label, count in zip(class_counts.index, class_counts)], autopct='%1.1f%%', startangle=90)\n",
        "plt.title('График процентной составляющей')\n",
        "plt.axis('equal')\n",
        "\n",
        "plt.show()"
      ],
      "metadata": {
        "colab": {
          "base_uri": "https://localhost:8080/",
          "height": 521
        },
        "id": "2cAjKAuj_SQ6",
        "outputId": "10fcb22c-1b13-4c0a-8188-ab00f3b61fe1"
      },
      "execution_count": null,
      "outputs": [
        {
          "output_type": "display_data",
          "data": {
            "text/plain": [
              "<Figure size 1200x600 with 1 Axes>"
            ],
            "image/png": "[encoded data removed]"
          },
          "metadata": {}
        }
      ]
    },
    {
      "cell_type": "markdown",
      "source": [
        "Предобработка\n"
      ],
      "metadata": {
        "id": "Gw1Jm76qVSVO"
      }
    },
    {
      "cell_type": "code",
      "source": [
        "nltk.download('punkt')\n",
        "nlp = spacy.load(\"ru_core_news_sm\")\n",
        "morph = pymorphy2.MorphAnalyzer()\n",
        "\n",
        "# загрузка кастомных словарей\n",
        "def load_anime_dict(file_path):\n",
        "    anime_dict = {}\n",
        "    with open('/content/drive/MyDrive/Colab Notebooks/anime_dict.txt', 'r', encoding='utf-8') as file:\n",
        "        for line in file:\n",
        "            key, value = line.strip().split(':')\n",
        "            anime_dict[key] = value\n",
        "    return anime_dict\n",
        "\n",
        "def load_swear_words(file_path):\n",
        "    with open('/content/drive/MyDrive/Colab Notebooks/swear_words.txt', 'r', encoding='utf-8') as file:\n",
        "        swear_words = file.read().splitlines()\n",
        "    return swear_words\n",
        "\n",
        "\n",
        "def remove_hyphens_from_numbers(text):\n",
        "    return re.sub(r'(\\d+)-(\\w+)', r'\\1\\2', text)\n",
        "\n",
        "def reduce_repeated_characters(text):\n",
        "    return re.sub(r'(.)\\1+', r'\\1', text)\n",
        "\n",
        "def replace_anime_terms(text, dictionary):\n",
        "    pattern = re.compile(r'\\b(' + '|'.join(re.escape(key) for key in dictionary.keys()) + r')\\b', re.IGNORECASE)\n",
        "    return pattern.sub(lambda x: dictionary[x.group().lower()], text)\n",
        "\n",
        "def remove_emojis(text):\n",
        "    return emoji.replace_emoji(text, replace='')\n",
        "\n",
        "def remove_smilies(text):\n",
        "    smilies_pattern = r'(:\\)|:\\(|:\\||:D|XD|:P|;P|:O|:3|:S|>.<|:-\\)|:-\\(|:-D|:-P|;\\)|\\^\\^|T_T|>_<|:-o|\\(\\( |=\\\\|O_o|o_O|;_;|:-\\|)'\n",
        "    return re.sub(smilies_pattern, '', text)\n",
        "\n",
        "def remove_mentions(text):\n",
        "    mentions_pattern = r'@\\w+'\n",
        "    return re.sub(mentions_pattern, '', text)\n",
        "\n",
        "def remove_urls(text):\n",
        "    urls_pattern = r'http\\S+|www\\.\\S+|i\\d+\\.\\S+'\n",
        "    return re.sub(urls_pattern, '', text)\n",
        "\n",
        "def remove_interjections(text):\n",
        "    interjections_pattern = r'\\b(м|кхм|хм|мм|вуху|мр|фу|ух|вау|вай|бвух|бр|бац|эк|хех|эх|эм|увы|ох|ах|ой|ы|гы|хе)\\b'\n",
        "    return re.sub(interjections_pattern, '', text, flags=re.IGNORECASE)\n",
        "\n",
        "def remove_acronyms_and_specific_words(text):\n",
        "    specific_words_pattern = r'\\b(tldr|laitqwerty)\\b'\n",
        "    return re.sub(specific_words_pattern, '', text, flags=re.IGNORECASE)\n",
        "\n",
        "def remove_kanji(text):\n",
        "    kanji_pattern = r'[一-龯ぁ-ゔァ-ヴー々〆〤]'\n",
        "    return re.sub(kanji_pattern, '', text)\n",
        "\n",
        "def remove_abbreviations(text):\n",
        "    abbreviations_pattern = r'\\b(P\\.S\\.)\\b'\n",
        "    return re.sub(abbreviations_pattern, '', text, flags=re.IGNORECASE)\n",
        "\n",
        "def remove_swear_words(text, swear_words):\n",
        "    pattern = r'\\b(' + '|'.join(swear_words) + r')\\b'\n",
        "    return re.sub(pattern, '', text, flags=re.IGNORECASE)\n",
        "\n",
        "def remove_censored_swear_words(text):\n",
        "    pattern = r'\\b\\w*\\*+\\w*\\b'\n",
        "    return re.sub(pattern, '', text, flags=re.IGNORECASE)\n",
        "\n",
        "def lemmatize_text(text):\n",
        "    tokens = word_tokenize(text)\n",
        "    lemmatized_tokens = [morph.parse(token)[0].normal_form for token in tokens]\n",
        "    return ' '.join(lemmatized_tokens)\n",
        "\n",
        "def remove_stopwords(text):\n",
        "    doc = nlp(text)\n",
        "    tokens = [token.text for token in doc if not token.is_stop]\n",
        "    return ' '.join(tokens)\n",
        "\n",
        "\n",
        "def preprocess_text(text, anime_dict, swear_words):\n",
        "    text = replace_anime_terms(text, anime_dict)\n",
        "    text = remove_swear_words(text, swear_words)\n",
        "    text = remove_censored_swear_words(text)\n",
        "    text = remove_hyphens_from_numbers(text)\n",
        "    text = re.sub(r'\\bх\\d\\b', '', text)\n",
        "    text = re.sub(r'\\b\\d{1,4}-(?:го|ое|ая|я|ые|е)\\b|\\b\\d{1,4}(?:го|ое|ая|я|ые|е)\\b', '', text)\n",
        "    text = text.lower()\n",
        "    text = re.sub(r'\\d+', '', text)\n",
        "    text = re.sub(r'[^а-яёА-ЯЁ\\s]', ' ', text)\n",
        "    text = reduce_repeated_characters(text)\n",
        "    text = remove_emojis(text)\n",
        "    text = remove_smilies(text)\n",
        "    text = remove_mentions(text)\n",
        "    text = remove_urls(text)\n",
        "    text = remove_interjections(text)\n",
        "    text = remove_acronyms_and_specific_words(text)\n",
        "    text = remove_kanji(text)\n",
        "    text = remove_abbreviations(text)\n",
        "\n",
        "\n",
        "    text = lemmatize_text(text)\n",
        "    text = remove_stopwords(text)\n",
        "\n",
        "    return text"
      ],
      "metadata": {
        "id": "v5NHQkY57fgL",
        "colab": {
          "base_uri": "https://localhost:8080/"
        },
        "outputId": "e6599246-3b34-41cd-df88-e60a704d3f02"
      },
      "execution_count": null,
      "outputs": [
        {
          "output_type": "stream",
          "name": "stderr",
          "text": [
            "[nltk_data] Downloading package punkt to /root/nltk_data...\n",
            "[nltk_data]   Unzipping tokenizers/punkt.zip.\n"
          ]
        }
      ]
    },
    {
      "cell_type": "code",
      "source": [
        "preprocess_column = lambda x: preprocess_text(str(x), anime_dict, swear_words)"
      ],
      "metadata": {
        "id": "5AejmoVJKHni"
      },
      "execution_count": null,
      "outputs": []
    },
    {
      "cell_type": "markdown",
      "source": [
        "Предобрабатываем и сохраняем данные частями"
      ],
      "metadata": {
        "id": "r3Bp4yUZWDhK"
      }
    },
    {
      "cell_type": "code",
      "source": [
        "chunk_size = len(df) // 20\n",
        "chunks = [df[i:i + chunk_size] for i in range(0, len(df), chunk_size)]\n",
        "\n",
        "if len(chunks) > 10:\n",
        "    chunks[-2] = pd.concat([chunks[-2], chunks[-1]])\n",
        "    chunks = chunks[:-1]\n",
        "\n",
        "processed_chunks = []\n",
        "\n",
        "for i, chunk in enumerate(chunks):\n",
        "    chunk['Cleaned_Text'] = chunk['Text'].apply(preprocess_column)\n",
        "    processed_chunks.append(chunk)\n",
        "    chunk.to_csv(f'processed_chunk_{i}.csv', index=False)\n",
        "    print(f'Chunk {i+1} processed and saved.')"
      ],
      "metadata": {
        "id": "pnHlHp3y8R4w",
        "colab": {
          "base_uri": "https://localhost:8080/"
        },
        "outputId": "9a27e443-ea73-4fb4-f1e4-59b5ea3db7fc"
      },
      "execution_count": null,
      "outputs": [
        {
          "output_type": "stream",
          "name": "stderr",
          "text": [
            "<ipython-input-11-33de3152deec>:18: SettingWithCopyWarning: \n",
            "A value is trying to be set on a copy of a slice from a DataFrame.\n",
            "Try using .loc[row_indexer,col_indexer] = value instead\n",
            "\n",
            "See the caveats in the documentation: https://pandas.pydata.org/pandas-docs/stable/user_guide/indexing.html#returning-a-view-versus-a-copy\n",
            "  chunk['Cleaned_Text'] = chunk['Text'].apply(preprocess_column)\n"
          ]
        },
        {
          "output_type": "stream",
          "name": "stdout",
          "text": [
            "Chunk 1 processed and saved.\n"
          ]
        },
        {
          "output_type": "stream",
          "name": "stderr",
          "text": [
            "<ipython-input-11-33de3152deec>:18: SettingWithCopyWarning: \n",
            "A value is trying to be set on a copy of a slice from a DataFrame.\n",
            "Try using .loc[row_indexer,col_indexer] = value instead\n",
            "\n",
            "See the caveats in the documentation: https://pandas.pydata.org/pandas-docs/stable/user_guide/indexing.html#returning-a-view-versus-a-copy\n",
            "  chunk['Cleaned_Text'] = chunk['Text'].apply(preprocess_column)\n"
          ]
        },
        {
          "output_type": "stream",
          "name": "stdout",
          "text": [
            "Chunk 2 processed and saved.\n"
          ]
        },
        {
          "output_type": "stream",
          "name": "stderr",
          "text": [
            "<ipython-input-11-33de3152deec>:18: SettingWithCopyWarning: \n",
            "A value is trying to be set on a copy of a slice from a DataFrame.\n",
            "Try using .loc[row_indexer,col_indexer] = value instead\n",
            "\n",
            "See the caveats in the documentation: https://pandas.pydata.org/pandas-docs/stable/user_guide/indexing.html#returning-a-view-versus-a-copy\n",
            "  chunk['Cleaned_Text'] = chunk['Text'].apply(preprocess_column)\n"
          ]
        },
        {
          "output_type": "stream",
          "name": "stdout",
          "text": [
            "Chunk 3 processed and saved.\n"
          ]
        },
        {
          "output_type": "stream",
          "name": "stderr",
          "text": [
            "<ipython-input-11-33de3152deec>:18: SettingWithCopyWarning: \n",
            "A value is trying to be set on a copy of a slice from a DataFrame.\n",
            "Try using .loc[row_indexer,col_indexer] = value instead\n",
            "\n",
            "See the caveats in the documentation: https://pandas.pydata.org/pandas-docs/stable/user_guide/indexing.html#returning-a-view-versus-a-copy\n",
            "  chunk['Cleaned_Text'] = chunk['Text'].apply(preprocess_column)\n"
          ]
        },
        {
          "output_type": "stream",
          "name": "stdout",
          "text": [
            "Chunk 4 processed and saved.\n"
          ]
        },
        {
          "output_type": "stream",
          "name": "stderr",
          "text": [
            "<ipython-input-11-33de3152deec>:18: SettingWithCopyWarning: \n",
            "A value is trying to be set on a copy of a slice from a DataFrame.\n",
            "Try using .loc[row_indexer,col_indexer] = value instead\n",
            "\n",
            "See the caveats in the documentation: https://pandas.pydata.org/pandas-docs/stable/user_guide/indexing.html#returning-a-view-versus-a-copy\n",
            "  chunk['Cleaned_Text'] = chunk['Text'].apply(preprocess_column)\n"
          ]
        },
        {
          "output_type": "stream",
          "name": "stdout",
          "text": [
            "Chunk 5 processed and saved.\n"
          ]
        },
        {
          "output_type": "stream",
          "name": "stderr",
          "text": [
            "<ipython-input-11-33de3152deec>:18: SettingWithCopyWarning: \n",
            "A value is trying to be set on a copy of a slice from a DataFrame.\n",
            "Try using .loc[row_indexer,col_indexer] = value instead\n",
            "\n",
            "See the caveats in the documentation: https://pandas.pydata.org/pandas-docs/stable/user_guide/indexing.html#returning-a-view-versus-a-copy\n",
            "  chunk['Cleaned_Text'] = chunk['Text'].apply(preprocess_column)\n"
          ]
        },
        {
          "output_type": "stream",
          "name": "stdout",
          "text": [
            "Chunk 6 processed and saved.\n"
          ]
        },
        {
          "output_type": "stream",
          "name": "stderr",
          "text": [
            "<ipython-input-11-33de3152deec>:18: SettingWithCopyWarning: \n",
            "A value is trying to be set on a copy of a slice from a DataFrame.\n",
            "Try using .loc[row_indexer,col_indexer] = value instead\n",
            "\n",
            "See the caveats in the documentation: https://pandas.pydata.org/pandas-docs/stable/user_guide/indexing.html#returning-a-view-versus-a-copy\n",
            "  chunk['Cleaned_Text'] = chunk['Text'].apply(preprocess_column)\n"
          ]
        },
        {
          "output_type": "stream",
          "name": "stdout",
          "text": [
            "Chunk 7 processed and saved.\n"
          ]
        },
        {
          "output_type": "stream",
          "name": "stderr",
          "text": [
            "<ipython-input-11-33de3152deec>:18: SettingWithCopyWarning: \n",
            "A value is trying to be set on a copy of a slice from a DataFrame.\n",
            "Try using .loc[row_indexer,col_indexer] = value instead\n",
            "\n",
            "See the caveats in the documentation: https://pandas.pydata.org/pandas-docs/stable/user_guide/indexing.html#returning-a-view-versus-a-copy\n",
            "  chunk['Cleaned_Text'] = chunk['Text'].apply(preprocess_column)\n"
          ]
        },
        {
          "output_type": "stream",
          "name": "stdout",
          "text": [
            "Chunk 8 processed and saved.\n"
          ]
        },
        {
          "output_type": "stream",
          "name": "stderr",
          "text": [
            "<ipython-input-11-33de3152deec>:18: SettingWithCopyWarning: \n",
            "A value is trying to be set on a copy of a slice from a DataFrame.\n",
            "Try using .loc[row_indexer,col_indexer] = value instead\n",
            "\n",
            "See the caveats in the documentation: https://pandas.pydata.org/pandas-docs/stable/user_guide/indexing.html#returning-a-view-versus-a-copy\n",
            "  chunk['Cleaned_Text'] = chunk['Text'].apply(preprocess_column)\n"
          ]
        },
        {
          "output_type": "stream",
          "name": "stdout",
          "text": [
            "Chunk 9 processed and saved.\n"
          ]
        },
        {
          "output_type": "stream",
          "name": "stderr",
          "text": [
            "<ipython-input-11-33de3152deec>:18: SettingWithCopyWarning: \n",
            "A value is trying to be set on a copy of a slice from a DataFrame.\n",
            "Try using .loc[row_indexer,col_indexer] = value instead\n",
            "\n",
            "See the caveats in the documentation: https://pandas.pydata.org/pandas-docs/stable/user_guide/indexing.html#returning-a-view-versus-a-copy\n",
            "  chunk['Cleaned_Text'] = chunk['Text'].apply(preprocess_column)\n"
          ]
        },
        {
          "output_type": "stream",
          "name": "stdout",
          "text": [
            "Chunk 10 processed and saved.\n"
          ]
        },
        {
          "output_type": "stream",
          "name": "stderr",
          "text": [
            "<ipython-input-11-33de3152deec>:18: SettingWithCopyWarning: \n",
            "A value is trying to be set on a copy of a slice from a DataFrame.\n",
            "Try using .loc[row_indexer,col_indexer] = value instead\n",
            "\n",
            "See the caveats in the documentation: https://pandas.pydata.org/pandas-docs/stable/user_guide/indexing.html#returning-a-view-versus-a-copy\n",
            "  chunk['Cleaned_Text'] = chunk['Text'].apply(preprocess_column)\n"
          ]
        },
        {
          "output_type": "stream",
          "name": "stdout",
          "text": [
            "Chunk 11 processed and saved.\n"
          ]
        },
        {
          "output_type": "stream",
          "name": "stderr",
          "text": [
            "<ipython-input-11-33de3152deec>:18: SettingWithCopyWarning: \n",
            "A value is trying to be set on a copy of a slice from a DataFrame.\n",
            "Try using .loc[row_indexer,col_indexer] = value instead\n",
            "\n",
            "See the caveats in the documentation: https://pandas.pydata.org/pandas-docs/stable/user_guide/indexing.html#returning-a-view-versus-a-copy\n",
            "  chunk['Cleaned_Text'] = chunk['Text'].apply(preprocess_column)\n"
          ]
        },
        {
          "output_type": "stream",
          "name": "stdout",
          "text": [
            "Chunk 12 processed and saved.\n"
          ]
        },
        {
          "output_type": "stream",
          "name": "stderr",
          "text": [
            "<ipython-input-11-33de3152deec>:18: SettingWithCopyWarning: \n",
            "A value is trying to be set on a copy of a slice from a DataFrame.\n",
            "Try using .loc[row_indexer,col_indexer] = value instead\n",
            "\n",
            "See the caveats in the documentation: https://pandas.pydata.org/pandas-docs/stable/user_guide/indexing.html#returning-a-view-versus-a-copy\n",
            "  chunk['Cleaned_Text'] = chunk['Text'].apply(preprocess_column)\n"
          ]
        },
        {
          "output_type": "stream",
          "name": "stdout",
          "text": [
            "Chunk 13 processed and saved.\n"
          ]
        },
        {
          "output_type": "stream",
          "name": "stderr",
          "text": [
            "<ipython-input-11-33de3152deec>:18: SettingWithCopyWarning: \n",
            "A value is trying to be set on a copy of a slice from a DataFrame.\n",
            "Try using .loc[row_indexer,col_indexer] = value instead\n",
            "\n",
            "See the caveats in the documentation: https://pandas.pydata.org/pandas-docs/stable/user_guide/indexing.html#returning-a-view-versus-a-copy\n",
            "  chunk['Cleaned_Text'] = chunk['Text'].apply(preprocess_column)\n"
          ]
        },
        {
          "output_type": "stream",
          "name": "stdout",
          "text": [
            "Chunk 14 processed and saved.\n"
          ]
        },
        {
          "output_type": "stream",
          "name": "stderr",
          "text": [
            "<ipython-input-11-33de3152deec>:18: SettingWithCopyWarning: \n",
            "A value is trying to be set on a copy of a slice from a DataFrame.\n",
            "Try using .loc[row_indexer,col_indexer] = value instead\n",
            "\n",
            "See the caveats in the documentation: https://pandas.pydata.org/pandas-docs/stable/user_guide/indexing.html#returning-a-view-versus-a-copy\n",
            "  chunk['Cleaned_Text'] = chunk['Text'].apply(preprocess_column)\n"
          ]
        },
        {
          "output_type": "stream",
          "name": "stdout",
          "text": [
            "Chunk 15 processed and saved.\n"
          ]
        },
        {
          "output_type": "stream",
          "name": "stderr",
          "text": [
            "<ipython-input-11-33de3152deec>:18: SettingWithCopyWarning: \n",
            "A value is trying to be set on a copy of a slice from a DataFrame.\n",
            "Try using .loc[row_indexer,col_indexer] = value instead\n",
            "\n",
            "See the caveats in the documentation: https://pandas.pydata.org/pandas-docs/stable/user_guide/indexing.html#returning-a-view-versus-a-copy\n",
            "  chunk['Cleaned_Text'] = chunk['Text'].apply(preprocess_column)\n"
          ]
        },
        {
          "output_type": "stream",
          "name": "stdout",
          "text": [
            "Chunk 16 processed and saved.\n"
          ]
        },
        {
          "output_type": "stream",
          "name": "stderr",
          "text": [
            "<ipython-input-11-33de3152deec>:18: SettingWithCopyWarning: \n",
            "A value is trying to be set on a copy of a slice from a DataFrame.\n",
            "Try using .loc[row_indexer,col_indexer] = value instead\n",
            "\n",
            "See the caveats in the documentation: https://pandas.pydata.org/pandas-docs/stable/user_guide/indexing.html#returning-a-view-versus-a-copy\n",
            "  chunk['Cleaned_Text'] = chunk['Text'].apply(preprocess_column)\n"
          ]
        },
        {
          "output_type": "stream",
          "name": "stdout",
          "text": [
            "Chunk 17 processed and saved.\n"
          ]
        },
        {
          "output_type": "stream",
          "name": "stderr",
          "text": [
            "<ipython-input-11-33de3152deec>:18: SettingWithCopyWarning: \n",
            "A value is trying to be set on a copy of a slice from a DataFrame.\n",
            "Try using .loc[row_indexer,col_indexer] = value instead\n",
            "\n",
            "See the caveats in the documentation: https://pandas.pydata.org/pandas-docs/stable/user_guide/indexing.html#returning-a-view-versus-a-copy\n",
            "  chunk['Cleaned_Text'] = chunk['Text'].apply(preprocess_column)\n"
          ]
        },
        {
          "output_type": "stream",
          "name": "stdout",
          "text": [
            "Chunk 18 processed and saved.\n"
          ]
        },
        {
          "output_type": "stream",
          "name": "stderr",
          "text": [
            "<ipython-input-11-33de3152deec>:18: SettingWithCopyWarning: \n",
            "A value is trying to be set on a copy of a slice from a DataFrame.\n",
            "Try using .loc[row_indexer,col_indexer] = value instead\n",
            "\n",
            "See the caveats in the documentation: https://pandas.pydata.org/pandas-docs/stable/user_guide/indexing.html#returning-a-view-versus-a-copy\n",
            "  chunk['Cleaned_Text'] = chunk['Text'].apply(preprocess_column)\n"
          ]
        },
        {
          "output_type": "stream",
          "name": "stdout",
          "text": [
            "Chunk 19 processed and saved.\n",
            "Chunk 20 processed and saved.\n"
          ]
        }
      ]
    },
    {
      "cell_type": "markdown",
      "source": [
        "Снова всё объединяем"
      ],
      "metadata": {
        "id": "D6fhfE61WpU4"
      }
    },
    {
      "cell_type": "code",
      "source": [
        "\"\"\"files = ['processed_chunk_0.csv', 'processed_chunk_1.csv', 'processed_chunk_2.csv', 'processed_chunk_3.csv',\n",
        "        'processed_chunk_4.csv','processed_chunk_5.csv','processed_chunk_6.csv','processed_chunk_7.csv',\n",
        "         'processed_chunk_8.csv','processed_chunk_9.csv','processed_chunk_10.csv','processed_chunk_11.csv',\n",
        "         'processed_chunk_12.csv','processed_chunk_13.csv','processed_chunk_14.csv','processed_chunk_15.csv',\n",
        "         'processed_chunk_16.csv','processed_chunk_17.csv','processed_chunk_18.csv','processed_chunk_19.csv',]\n",
        "\n",
        "dfs = [pd.read_csv(file) for file in files]\n",
        "combined_df = pd.concat(dfs, ignore_index=True)\n",
        "\n",
        "combined_df.to_csv('cleaned_data_anime.csv', index=False)\"\""
      ],
      "metadata": {
        "id": "wzBtAqQaDBQ2"
      },
      "execution_count": null,
      "outputs": []
    },
    {
      "cell_type": "code",
      "source": [
        "df = '/content/drive/MyDrive/Colab Notebooks/cleaned_data_anime.csv'\n",
        "df = pd.read_csv(df)\n",
        "\n",
        "df.head()"
      ],
      "metadata": {
        "colab": {
          "base_uri": "https://localhost:8080/",
          "height": 206
        },
        "id": "je8qpHPwGjcG",
        "outputId": "19f82831-855f-464c-a2af-69b91d6e0953"
      },
      "execution_count": 3,
      "outputs": [
        {
          "output_type": "execute_result",
          "data": {
            "text/plain": [
              "                                               Anime           Rate  \\\n",
              "0                           Нежный укус / Amagami SS    Нейтральный   \n",
              "1  Легенда о легендарных героях / Densetsu no Yuu...  Положительный   \n",
              "2  Мобильный воин Гандам: Единорог / Kidou Senshi...  Положительный   \n",
              "3  Невиданный цветок / Ano Hi Mita Hana no Namae ...  Положительный   \n",
              "4                      Принцесса-медуза / Kuragehime  Положительный   \n",
              "\n",
              "                                                Text  \\\n",
              "0  после первой арки несколько разочаровался, ожи...   \n",
              "1  Концовка какая-то мутная, ничего не понял. Над...   \n",
              "2  Что тут сказать? Никакого сравнени я с Seed, х...   \n",
              "3  Только что досмотрел и меня переполняют эмоции...   \n",
              "4  И правда не оторваться. Но, по-моему, то, что ...   \n",
              "\n",
              "                                        Cleaned_Text  \n",
              "0  первый арка разочароваться ожидать больший пят...  \n",
              "1  концовка мутный понять надеяться второй сезон ...  \n",
              "2  сказать сравненить пытаться подражать банаджер...  \n",
              "3  досмотреть переполнять эмоци шедевр затягивать...  \n",
              "4  правда оторваться медуза серия езмъ плюс начат...  "
            ],
            "text/html": [
              "\n",
              "  <div id=\"df-02cf0f5a-ad96-4d51-a5f9-91839e739200\" class=\"colab-df-container\">\n",
              "    <div>\n",
              "<style scoped>\n",
              "    .dataframe tbody tr th:only-of-type {\n",
              "        vertical-align: middle;\n",
              "    }\n",
              "\n",
              "    .dataframe tbody tr th {\n",
              "        vertical-align: top;\n",
              "    }\n",
              "\n",
              "    .dataframe thead th {\n",
              "        text-align: right;\n",
              "    }\n",
              "</style>\n",
              "<table border=\"1\" class=\"dataframe\">\n",
              "  <thead>\n",
              "    <tr style=\"text-align: right;\">\n",
              "      <th></th>\n",
              "      <th>Anime</th>\n",
              "      <th>Rate</th>\n",
              "      <th>Text</th>\n",
              "      <th>Cleaned_Text</th>\n",
              "    </tr>\n",
              "  </thead>\n",
              "  <tbody>\n",
              "    <tr>\n",
              "      <th>0</th>\n",
              "      <td>Нежный укус / Amagami SS</td>\n",
              "      <td>Нейтральный</td>\n",
              "      <td>после первой арки несколько разочаровался, ожи...</td>\n",
              "      <td>первый арка разочароваться ожидать больший пят...</td>\n",
              "    </tr>\n",
              "    <tr>\n",
              "      <th>1</th>\n",
              "      <td>Легенда о легендарных героях / Densetsu no Yuu...</td>\n",
              "      <td>Положительный</td>\n",
              "      <td>Концовка какая-то мутная, ничего не понял. Над...</td>\n",
              "      <td>концовка мутный понять надеяться второй сезон ...</td>\n",
              "    </tr>\n",
              "    <tr>\n",
              "      <th>2</th>\n",
              "      <td>Мобильный воин Гандам: Единорог / Kidou Senshi...</td>\n",
              "      <td>Положительный</td>\n",
              "      <td>Что тут сказать? Никакого сравнени я с Seed, х...</td>\n",
              "      <td>сказать сравненить пытаться подражать банаджер...</td>\n",
              "    </tr>\n",
              "    <tr>\n",
              "      <th>3</th>\n",
              "      <td>Невиданный цветок / Ano Hi Mita Hana no Namae ...</td>\n",
              "      <td>Положительный</td>\n",
              "      <td>Только что досмотрел и меня переполняют эмоции...</td>\n",
              "      <td>досмотреть переполнять эмоци шедевр затягивать...</td>\n",
              "    </tr>\n",
              "    <tr>\n",
              "      <th>4</th>\n",
              "      <td>Принцесса-медуза / Kuragehime</td>\n",
              "      <td>Положительный</td>\n",
              "      <td>И правда не оторваться. Но, по-моему, то, что ...</td>\n",
              "      <td>правда оторваться медуза серия езмъ плюс начат...</td>\n",
              "    </tr>\n",
              "  </tbody>\n",
              "</table>\n",
              "</div>\n",
              "    <div class=\"colab-df-buttons\">\n",
              "\n",
              "  <div class=\"colab-df-container\">\n",
              "    <button class=\"colab-df-convert\" onclick=\"convertToInteractive('df-02cf0f5a-ad96-4d51-a5f9-91839e739200')\"\n",
              "            title=\"Convert this dataframe to an interactive table.\"\n",
              "            style=\"display:none;\">\n",
              "\n",
              "  <svg xmlns=\"http://www.w3.org/2000/svg\" height=\"24px\" viewBox=\"0 -960 960 960\">\n",
              "    <path d=\"M120-120v-720h720v720H120Zm60-500h600v-160H180v160Zm220 220h160v-160H400v160Zm0 220h160v-160H400v160ZM180-400h160v-160H180v160Zm440 0h160v-160H620v160ZM180-180h160v-160H180v160Zm440 0h160v-160H620v160Z\"/>\n",
              "  </svg>\n",
              "    </button>\n",
              "\n",
              "  <style>\n",
              "    .colab-df-container {\n",
              "      display:flex;\n",
              "      gap: 12px;\n",
              "    }\n",
              "\n",
              "    .colab-df-convert {\n",
              "      background-color: #E8F0FE;\n",
              "      border: none;\n",
              "      border-radius: 50%;\n",
              "      cursor: pointer;\n",
              "      display: none;\n",
              "      fill: #1967D2;\n",
              "      height: 32px;\n",
              "      padding: 0 0 0 0;\n",
              "      width: 32px;\n",
              "    }\n",
              "\n",
              "    .colab-df-convert:hover {\n",
              "      background-color: #E2EBFA;\n",
              "      box-shadow: 0px 1px 2px rgba(60, 64, 67, 0.3), 0px 1px 3px 1px rgba(60, 64, 67, 0.15);\n",
              "      fill: #174EA6;\n",
              "    }\n",
              "\n",
              "    .colab-df-buttons div {\n",
              "      margin-bottom: 4px;\n",
              "    }\n",
              "\n",
              "    [theme=dark] .colab-df-convert {\n",
              "      background-color: #3B4455;\n",
              "      fill: #D2E3FC;\n",
              "    }\n",
              "\n",
              "    [theme=dark] .colab-df-convert:hover {\n",
              "      background-color: #434B5C;\n",
              "      box-shadow: 0px 1px 3px 1px rgba(0, 0, 0, 0.15);\n",
              "      filter: drop-shadow(0px 1px 2px rgba(0, 0, 0, 0.3));\n",
              "      fill: #FFFFFF;\n",
              "    }\n",
              "  </style>\n",
              "\n",
              "    <script>\n",
              "      const buttonEl =\n",
              "        document.querySelector('#df-02cf0f5a-ad96-4d51-a5f9-91839e739200 button.colab-df-convert');\n",
              "      buttonEl.style.display =\n",
              "        google.colab.kernel.accessAllowed ? 'block' : 'none';\n",
              "\n",
              "      async function convertToInteractive(key) {\n",
              "        const element = document.querySelector('#df-02cf0f5a-ad96-4d51-a5f9-91839e739200');\n",
              "        const dataTable =\n",
              "          await google.colab.kernel.invokeFunction('convertToInteractive',\n",
              "                                                    [key], {});\n",
              "        if (!dataTable) return;\n",
              "\n",
              "        const docLinkHtml = 'Like what you see? Visit the ' +\n",
              "          '<a target=\"_blank\" href=https://colab.research.google.com/notebooks/data_table.ipynb>data table notebook</a>'\n",
              "          + ' to learn more about interactive tables.';\n",
              "        element.innerHTML = '';\n",
              "        dataTable['output_type'] = 'display_data';\n",
              "        await google.colab.output.renderOutput(dataTable, element);\n",
              "        const docLink = document.createElement('div');\n",
              "        docLink.innerHTML = docLinkHtml;\n",
              "        element.appendChild(docLink);\n",
              "      }\n",
              "    </script>\n",
              "  </div>\n",
              "\n",
              "\n",
              "<div id=\"df-5ae709d5-df11-4ec5-854e-a9626ff5996d\">\n",
              "  <button class=\"colab-df-quickchart\" onclick=\"quickchart('df-5ae709d5-df11-4ec5-854e-a9626ff5996d')\"\n",
              "            title=\"Suggest charts\"\n",
              "            style=\"display:none;\">\n",
              "\n",
              "<svg xmlns=\"http://www.w3.org/2000/svg\" height=\"24px\"viewBox=\"0 0 24 24\"\n",
              "     width=\"24px\">\n",
              "    <g>\n",
              "        <path d=\"M19 3H5c-1.1 0-2 .9-2 2v14c0 1.1.9 2 2 2h14c1.1 0 2-.9 2-2V5c0-1.1-.9-2-2-2zM9 17H7v-7h2v7zm4 0h-2V7h2v10zm4 0h-2v-4h2v4z\"/>\n",
              "    </g>\n",
              "</svg>\n",
              "  </button>\n",
              "\n",
              "<style>\n",
              "  .colab-df-quickchart {\n",
              "      --bg-color: #E8F0FE;\n",
              "      --fill-color: #1967D2;\n",
              "      --hover-bg-color: #E2EBFA;\n",
              "      --hover-fill-color: #174EA6;\n",
              "      --disabled-fill-color: #AAA;\n",
              "      --disabled-bg-color: #DDD;\n",
              "  }\n",
              "\n",
              "  [theme=dark] .colab-df-quickchart {\n",
              "      --bg-color: #3B4455;\n",
              "      --fill-color: #D2E3FC;\n",
              "      --hover-bg-color: #434B5C;\n",
              "      --hover-fill-color: #FFFFFF;\n",
              "      --disabled-bg-color: #3B4455;\n",
              "      --disabled-fill-color: #666;\n",
              "  }\n",
              "\n",
              "  .colab-df-quickchart {\n",
              "    background-color: var(--bg-color);\n",
              "    border: none;\n",
              "    border-radius: 50%;\n",
              "    cursor: pointer;\n",
              "    display: none;\n",
              "    fill: var(--fill-color);\n",
              "    height: 32px;\n",
              "    padding: 0;\n",
              "    width: 32px;\n",
              "  }\n",
              "\n",
              "  .colab-df-quickchart:hover {\n",
              "    background-color: var(--hover-bg-color);\n",
              "    box-shadow: 0 1px 2px rgba(60, 64, 67, 0.3), 0 1px 3px 1px rgba(60, 64, 67, 0.15);\n",
              "    fill: var(--button-hover-fill-color);\n",
              "  }\n",
              "\n",
              "  .colab-df-quickchart-complete:disabled,\n",
              "  .colab-df-quickchart-complete:disabled:hover {\n",
              "    background-color: var(--disabled-bg-color);\n",
              "    fill: var(--disabled-fill-color);\n",
              "    box-shadow: none;\n",
              "  }\n",
              "\n",
              "  .colab-df-spinner {\n",
              "    border: 2px solid var(--fill-color);\n",
              "    border-color: transparent;\n",
              "    border-bottom-color: var(--fill-color);\n",
              "    animation:\n",
              "      spin 1s steps(1) infinite;\n",
              "  }\n",
              "\n",
              "  @keyframes spin {\n",
              "    0% {\n",
              "      border-color: transparent;\n",
              "      border-bottom-color: var(--fill-color);\n",
              "      border-left-color: var(--fill-color);\n",
              "    }\n",
              "    20% {\n",
              "      border-color: transparent;\n",
              "      border-left-color: var(--fill-color);\n",
              "      border-top-color: var(--fill-color);\n",
              "    }\n",
              "    30% {\n",
              "      border-color: transparent;\n",
              "      border-left-color: var(--fill-color);\n",
              "      border-top-color: var(--fill-color);\n",
              "      border-right-color: var(--fill-color);\n",
              "    }\n",
              "    40% {\n",
              "      border-color: transparent;\n",
              "      border-right-color: var(--fill-color);\n",
              "      border-top-color: var(--fill-color);\n",
              "    }\n",
              "    60% {\n",
              "      border-color: transparent;\n",
              "      border-right-color: var(--fill-color);\n",
              "    }\n",
              "    80% {\n",
              "      border-color: transparent;\n",
              "      border-right-color: var(--fill-color);\n",
              "      border-bottom-color: var(--fill-color);\n",
              "    }\n",
              "    90% {\n",
              "      border-color: transparent;\n",
              "      border-bottom-color: var(--fill-color);\n",
              "    }\n",
              "  }\n",
              "</style>\n",
              "\n",
              "  <script>\n",
              "    async function quickchart(key) {\n",
              "      const quickchartButtonEl =\n",
              "        document.querySelector('#' + key + ' button');\n",
              "      quickchartButtonEl.disabled = true;  // To prevent multiple clicks.\n",
              "      quickchartButtonEl.classList.add('colab-df-spinner');\n",
              "      try {\n",
              "        const charts = await google.colab.kernel.invokeFunction(\n",
              "            'suggestCharts', [key], {});\n",
              "      } catch (error) {\n",
              "        console.error('Error during call to suggestCharts:', error);\n",
              "      }\n",
              "      quickchartButtonEl.classList.remove('colab-df-spinner');\n",
              "      quickchartButtonEl.classList.add('colab-df-quickchart-complete');\n",
              "    }\n",
              "    (() => {\n",
              "      let quickchartButtonEl =\n",
              "        document.querySelector('#df-5ae709d5-df11-4ec5-854e-a9626ff5996d button');\n",
              "      quickchartButtonEl.style.display =\n",
              "        google.colab.kernel.accessAllowed ? 'block' : 'none';\n",
              "    })();\n",
              "  </script>\n",
              "</div>\n",
              "    </div>\n",
              "  </div>\n"
            ],
            "application/vnd.google.colaboratory.intrinsic+json": {
              "type": "dataframe",
              "variable_name": "df",
              "summary": "{\n  \"name\": \"df\",\n  \"rows\": 73165,\n  \"fields\": [\n    {\n      \"column\": \"Anime\",\n      \"properties\": {\n        \"dtype\": \"category\",\n        \"num_unique_values\": 8663,\n        \"samples\": [\n          \"\\u0401\\u0438\\u0442\\u0438 \\u0437\\u0430\\u0432\\u0442\\u0440\\u0430\\u0448\\u043d\\u0435\\u0433\\u043e \\u0434\\u043d\\u044f / Asu no Yoichi!\",\n          \"\\u0414\\u0438 \\u2014 \\u043e\\u0445\\u043e\\u0442\\u043d\\u0438\\u043a \\u043d\\u0430 \\u0432\\u0430\\u043c\\u043f\\u0438\\u0440\\u043e\\u0432: \\u0416\\u0430\\u0436\\u0434\\u0430 \\u043a\\u0440\\u043e\\u0432\\u0438 / Vampire Hunter D (2000)\",\n          \"\\u041b\\u044e\\u043f\\u0435\\u043d III: \\u041f\\u0435\\u0440\\u0432\\u044b\\u0439 / Lupin III: The First\"\n        ],\n        \"semantic_type\": \"\",\n        \"description\": \"\"\n      }\n    },\n    {\n      \"column\": \"Rate\",\n      \"properties\": {\n        \"dtype\": \"category\",\n        \"num_unique_values\": 3,\n        \"samples\": [\n          \"\\u041d\\u0435\\u0439\\u0442\\u0440\\u0430\\u043b\\u044c\\u043d\\u044b\\u0439\",\n          \"\\u041f\\u043e\\u043b\\u043e\\u0436\\u0438\\u0442\\u0435\\u043b\\u044c\\u043d\\u044b\\u0439\",\n          \"\\u041e\\u0442\\u0440\\u0438\\u0446\\u0430\\u0442\\u0435\\u043b\\u044c\\u043d\\u044b\\u0439\"\n        ],\n        \"semantic_type\": \"\",\n        \"description\": \"\"\n      }\n    },\n    {\n      \"column\": \"Text\",\n      \"properties\": {\n        \"dtype\": \"string\",\n        \"num_unique_values\": 73165,\n        \"samples\": [\n          \"\\u043a\\u0430\\u043a \\u043f\\u043e \\u043c\\u043d\\u0435 \\u0441\\u043a\\u0443\\u0447\\u043d\\u044b\\u0439 \\u0441\\u0435\\u0437\\u043e\\u043d. \\u0410\\u043d\\u0438\\u043c\\u0430\\u0446\\u0438\\u044f \\u0443\\u043f\\u0430\\u043b\\u0430, \\u0441\\u044e\\u0436\\u0435\\u0442 \\u0441\\u0442\\u0430\\u043b \\u0441\\u043a\\u0443\\u0447\\u043d\\u0435\\u0435, \\u043f\\u0435\\u0440\\u0441\\u043e\\u043d\\u0430\\u0436\\u0438 \\u0441\\u0442\\u0430\\u043b\\u0438 \\u0441\\u043a\\u0443\\u0447\\u043d\\u0435\\u0435 \\u0438\\u043b\\u0438 \\u0441\\u0442\\u0430\\u043b\\u0438 \\u0431\\u0435\\u0441\\u0438\\u0442(\\u043d\\u0430\\u043f\\u0440\\u0438\\u043c\\u0435\\u0440: \\u043c\\u0438\\u043a\\u0430\\u0441\\u0430). \\u0427\\u0442\\u043e \\u043c\\u043d\\u0435 \\u043f\\u043e\\u043d\\u0440\\u0430\\u0432\\u0438\\u043b\\u043e\\u0441\\u044c\\u0440\\u0438\\u0441\\u043e\\u0432\\u043a\\u0430: \\u043f\\u0440\\u043e\\u0440\\u0438\\u0441\\u043e\\u0432\\u043a\\u0430 \\u043d\\u0430 \\u0432\\u044b\\u0441\\u0448\\u0435\\u043c \\u0443\\u0440\\u043e\\u0432\\u043d\\u0435, \\u0444\\u043e\\u043d\\u044b \\u043d\\u0430\\u0440\\u0438\\u0441\\u043e\\u0432\\u0430\\u043d\\u044b \\u043a\\u0430\\u0447\\u0435\\u0441\\u0442\\u0432\\u0435\\u043d\\u043d\\u043e. \\u043c\\u0443\\u0437\\u044b\\u043a\\u0430: \\u043c\\u0443\\u0437\\u044b\\u043a\\u0430 \\u0432 \\u0441\\u0430\\u043c\\u043e\\u043c \\u0441\\u0435\\u0440\\u0438\\u0430\\u043b\\u0435 \\u0437\\u0430\\u043c\\u0435\\u0447\\u0430\\u0442\\u0435\\u043b\\u044c\\u043d\\u0430\\u044f. \\u041a\\u043e\\u043d\\u0435\\u0447\\u043d\\u043e, \\u043d\\u0435 \\u0448\\u0435\\u0434\\u0435\\u0432\\u0440, \\u043d\\u043e \\u0443\\u0448\\u0430\\u043c \\u043f\\u0440\\u0438\\u044f\\u0442\\u043d\\u043e. \\u043e\\u043f\\u0435\\u043d\\u0438\\u043d\\u0433: \\u043e\\u043f\\u0435\\u043d\\u0438\\u043d\\u0433 \\u043c\\u043d\\u0435 \\u043f\\u043e\\u043d\\u0440\\u0430\\u0432\\u0438\\u043b\\u0441\\u044f, \\u043d\\u043e \\u043f\\u043e\\u0434 \\u043a\\u043e\\u043d\\u0435\\u0446 \\u0441\\u0435\\u0440\\u0438\\u0430\\u043b\\u0430 \\u0441\\u0442\\u0430\\u043b \\u0431\\u0435\\u0441\\u0438\\u0442\\u044c \\u0447\\u0442\\u043e \\u043c\\u043d\\u0435 \\u043d\\u0435 \\u043f\\u043e\\u043d\\u0440\\u0430\\u0432\\u0438\\u043b\\u043e\\u0441\\u044c: \\u044d\\u043d\\u0434: \\u043a\\u0430\\u043a \\u043f\\u043e \\u043c\\u043d\\u0435 \\u0443\\u0436\\u0430\\u0441\\u043d\\u044b\\u0439 \\u044d\\u043d\\u0434 \\u043a\\u043e\\u0442\\u043e\\u0440\\u044b\\u0439 \\u044f \\u043a\\u043e\\u0433\\u0434\\u0430 \\u043b\\u0438\\u0431\\u043e \\u0441\\u043b\\u044b\\u0448\\u0430\\u043b.. \\u041c\\u0443\\u0437\\u044b\\u043a\\u0430 \\u043c\\u043d\\u0435 \\u043d\\u0430\\u0441\\u0442\\u043e\\u043b\\u044c\\u043a\\u043e \\u043d\\u0435 \\u043f\\u043e\\u043d\\u0440\\u0430\\u0432\\u0438\\u043b\\u043e\\u0441\\u044c, \\u0447\\u0442\\u043e \\u043a\\u043e\\u0433\\u0434\\u0430 \\u043e\\u043d \\u043d\\u0430\\u0447\\u0438\\u043d\\u0430\\u043b\\u0441\\u044f, \\u044f \\u043f\\u0440\\u043e\\u0441\\u0442\\u043e \\u0441\\u0442\\u0430\\u0432\\u0438\\u043b \\u043d\\u0430 \\u043f\\u0430\\u0443\\u0437\\u0443, \\u0447\\u0442\\u043e\\u0431 \\u043d\\u0435 \\u0441\\u043b\\u0443\\u0448\\u0430\\u0442\\u044c \\u044d\\u0442\\u043e \\u0443\\u0436\\u0430\\u0441\\u043d\\u043e\\u0435 \\u043d\\u0430\\u0447\\u0430\\u043b\\u043e. \\u0412\\u0438\\u0437\\u0443\\u0430\\u043b\\u044c\\u043d\\u0430\\u044f \\u0447\\u0430\\u0441\\u0442\\u044c \\u0442\\u0430\\u043a \\u0436\\u0435 \\u0440\\u0430\\u0437\\u043e\\u0447\\u0430\\u0440\\u043e\\u0432\\u0430\\u043b\\u0430 \\u043f\\u0440\\u0435\\u0434\\u0441\\u043a\\u0430\\u0437\\u0443\\u0435\\u043c\\u043e: \\u0422\\u0443\\u0442 \\u0433\\u043e\\u0432\\u043e\\u0440\\u0438\\u0442\\u044c \\u043d\\u0438\\u0447\\u0435\\u0433\\u043e \\u0438 \\u043d\\u0435 \\u043d\\u0443\\u0436\\u043d\\u043e.. \\u0412\\u0441\\u0435 \\u0441\\u044e\\u0436\\u0435\\u0442\\u043d\\u044b\\u0435 \\u043f\\u043e\\u0432\\u043e\\u0440\\u043e\\u0442\\u044b \\u043d\\u0430\\u0441\\u0442\\u043e\\u043b\\u044c\\u043a\\u043e \\u043f\\u0440\\u0435\\u0434\\u0441\\u043a\\u0430\\u0437\\u0443\\u0435\\u043c\\u044b\\u0435, \\u0447\\u0442\\u043e \\u0441\\u0442\\u0430\\u043d\\u043e\\u0432\\u0438\\u0442\\u044c\\u0441\\u044f \\u0443\\u0436\\u0435 \\u043d\\u0435\\u0438\\u043d\\u0442\\u0435\\u0440\\u0435\\u0441\\u043d\\u043e \\u0441\\u043c\\u043e\\u0442\\u0440\\u0435\\u0442\\u044c \\u0438 \\u0445\\u043e\\u0447\\u0435\\u0442\\u0441\\u044f \\u0434\\u043e\\u0431\\u0430\\u0432\\u0438\\u0442\\u044c \\u0432 \\u0431\\u0440\\u043e\\u0448\\u0435\\u043d\\u043e \\u0432\\u044b\\u0432\\u043e\\u0434: \\u041f\\u0435\\u0440\\u0432\\u044b\\u0439 \\u0441\\u0435\\u0437\\u043e\\u043d \\u043d\\u0430 \\u0433\\u043e\\u043b\\u043e\\u0432\\u0443 \\u0432\\u044b\\u0448\\u0435. \\u041f\\u043e\\u0441\\u043e\\u0432\\u0435\\u0442\\u0443\\u044e \\u043b\\u0438 \\u044f \\u043a\\u043e\\u043c\\u0443-\\u0442\\u043e \\u044d\\u0442\\u043e \\u0430\\u043d\\u0438\\u043c\\u0435? \\u0434\\u0430, \\u043d\\u043e \\u0432\\u043e\\u0437\\u043c\\u043e\\u0436\\u043d\\u043e \\u0434\\u0430\\u043d\\u043d\\u044b\\u0439 \\u0441\\u0435\\u0437\\u043e\\u043d \\u0441\\u0442\\u0430\\u043d\\u0435\\u0442 \\u0440\\u0430\\u0437\\u043e\\u0447\\u0430\\u0440\\u043e\\u0432\\u0430\\u043d\\u0438\\u0435\\u043c \\u043a\\u043e\\u043c\\u0443 \\u043f\\u043e\\u043d\\u0440\\u0430\\u0432\\u0438\\u043b\\u0441\\u044f \\u043f\\u0435\\u0440\\u0432\\u044b\\u0439 \\u0441\\u0435\\u0437\\u043e\\u043d. 7 \\u0438\\u0437 10\",\n          \"\\u041a\\u0440\\u0443\\u0442\\u043e) \\u041c\\u043d\\u0435 \\u043f\\u043e\\u043d\\u0440\\u0430\\u0432\\u0438\\u043b\\u043e\\u0441\\u044c. \\u042f \\u0431\\u044b, \\u043c\\u043e\\u0436\\u0435\\u0442 \\u0431\\u044b\\u0442\\u044c, \\u0431\\u044b\\u043b \\u0431\\u044b \\u0431\\u043e\\u043b\\u044c\\u0448\\u0435 \\u043f\\u043e\\u0434\\u0432\\u0435\\u0440\\u0436\\u0435\\u043d \\u044d\\u043c\\u043e\\u0446\\u0438\\u044f\\u043c, \\u0435\\u0441\\u043b\\u0438 \\u0431\\u044b \\u043f\\u0435\\u0440\\u0435\\u0434 \\u044d\\u0442\\u0438\\u043c \\u0441\\u043c\\u043e\\u0442\\u0440\\u0435\\u043b \\u0432\\u0435\\u0441\\u044c \\u0441\\u0435\\u0440\\u0438\\u0430\\u043b, \\u043d\\u043e... \\u043f\\u0435\\u0440\\u0435\\u0441\\u043c\\u0430\\u0442\\u0440\\u0438\\u0432\\u0430\\u0442\\u044c \\u0442\\u0430\\u0439\\u0442\\u043b\\u044b \\u043d\\u0435 \\u043e\\u0447\\u0435\\u043d\\u044c \\u043b\\u044e\\u0431\\u043b\\u044e. \\u041a\\u0430\\u043a \\u0432\\u0441\\u0435\\u0433\\u0434\\u0430 \\u0431\\u044b\\u043b \\u0440\\u0430\\u0434 \\u0443\\u0432\\u0438\\u0434\\u0435\\u0442\\u044c \\u043f\\u0440\\u043e\\u044f\\u0432\\u043b\\u0435\\u043d\\u0438\\u0435 \\u0441\\u0438\\u043b\\u044c\\u043d\\u044b\\u0445 \\u0447\\u0443\\u0432\\u0441\\u0442\\u0432 \\u043f\\u0435\\u0440\\u0441\\u043e\\u043d\\u0430\\u0436\\u0435\\u0439, \\u0445\\u043e\\u0442\\u044f \\u0438 \\u0433\\u0440\\u0443\\u0441\\u0442\\u043d\\u0435\\u043d\\u044c\\u043a\\u043e \\u0441\\u0442\\u0430\\u043b\\u043e \\u043f\\u043e\\u0441\\u043b\\u0435 \\u044d\\u0442\\u043e\\u0433\\u043e. \\u0415\\u0441\\u043b\\u0438 \\u0431\\u044b \\u043d\\u0435 \\u0442\\u0438\\u0442\\u0440\\u044b, \\u043e\\u0441\\u0442\\u0430\\u043b\\u0441\\u044f \\u0431\\u044b \\u043d\\u0435\\u043f\\u0440\\u0438\\u044f\\u0442\\u043d\\u044b\\u0439 \\u043e\\u0441\\u0430\\u0434\\u043e\\u043a. \\u041f\\u043e\\u0442\\u043e\\u043c\\u0443 \\u0447\\u0442\\u043e \\u0441\\u043f\\u043e\\u0439\\u043b\\u0435\\u0440\\u043e\\u0434\\u043d\\u0430 \\u043f\\u043e\\u043f\\u044b\\u0442\\u043a\\u0430 \\u0443 \\u043d\\u0435\\u0433\\u043e \\u0432\\u0441\\u0451 \\u0436\\u0435 \\u0431\\u044b\\u043b\\u0430. \\u041c\\u043d\\u0435, \\u043a\\u043e\\u043d\\u0435\\u0447\\u043d\\u043e, \\u0442\\u0440\\u0443\\u0434\\u043d\\u043e \\u0441\\u0443\\u0434\\u0438\\u0442\\u044c \\u043e \\u0442\\u043e\\u043c, \\u0442\\u044f\\u0436\\u0435\\u043b\\u0435\\u0435 \\u043b\\u0438 \\u0434\\u0443\\u043c\\u0430\\u0442\\u044c \\u043e\\u0441\\u0442\\u0430\\u0442\\u043e\\u043a \\u0436\\u0438\\u0437\\u043d\\u0438 \\u043e \\u0442\\u043e\\u043c, \\u0447\\u0442\\u043e \\u0442\\u044b \\u0432\\u0441\\u0451 \\u0437\\u0430\\u043f\\u043e\\u0440\\u043e\\u043b(\\u0432\\u043e\\u0437\\u043c\\u043e\\u0436\\u043d\\u043e), \\u0438\\u043b\\u0438 \\u0447\\u0442\\u043e \\u043d\\u0435 \\u0438\\u0441\\u043f\\u043e\\u043b\\u044c\\u0437\\u043e\\u0432\\u0430\\u043b \\u0432\\u043e\\u0437\\u043c\\u043e\\u0436\\u043d\\u043e\\u0441\\u0442\\u044c \\u0432\\u0441\\u0451 \\u0438\\u0441\\u043f\\u0440\\u0430\\u0432\\u0438\\u0442\\u044c. \\u041d\\u043e, \\u043a\\u0430\\u043a \\u0437\\u0440\\u0438\\u0442\\u0435\\u043b\\u044f, \\u043c\\u0435\\u043d\\u044f \\u043f\\u0440\\u043e\\u0441\\u0442\\u043e \\u0435\\u0441\\u0442 \\u0438\\u0437\\u043d\\u0443\\u0442\\u0440\\u0438 ._.\\u041d\\u043e \\u0441 \\u0434\\u0440\\u0443\\u0433\\u043e\\u0439 \\u0441\\u0442\\u043e\\u0440\\u043e\\u043d\\u044b \\u044d\\u0442\\u043e \\u0434\\u043e\\u0432\\u043e\\u043b\\u044c\\u043d\\u043e \\u043d\\u0435\\u043f\\u043b\\u043e\\u0445\\u043e\\u0439 \\u043f\\u043e\\u0432\\u043e\\u0440\\u043e\\u0442 \\u0441\\u044e\\u0436\\u0435\\u0442\\u0430. \\u041f\\u0440\\u0430\\u0432\\u0434\\u0430, \\u0445\\u0435\\u0439\\u0442\\u0435\\u0440\\u043e\\u0432 \\u0442\\u0430\\u043a\\u043e\\u0439 \\u0432\\u044b\\u0445\\u043e\\u0434\\u043a\\u0438 \\u0442\\u043e\\u0436\\u0435 \\u0431\\u044b \\u043f\\u0440\\u0435\\u0434\\u043e\\u0441\\u0442\\u0430\\u0442\\u043e\\u0447\\u043d\\u043e \\u043d\\u0430\\u0448\\u043b\\u043e\\u0441\\u044c)\",\n          \"\\u042d\\u0442\\u043e \\u0430\\u043d\\u0438\\u043c\\u0435 \\u0438\\u0437 \\u0440\\u043e\\u0434\\u0430 \\u0442\\u0435\\u0445, \\u043a\\u043e\\u0442\\u043e\\u0440\\u044b\\u0435 \\u0441\\u0442\\u043e\\u0438\\u0442 \\u0441\\u043c\\u043e\\u0442\\u0440\\u0435\\u0442\\u044c \\u0442\\u043e\\u0433\\u0434\\u0430, \\u043a\\u043e\\u0433\\u0434\\u0430 \\u0442\\u0435\\u0431\\u0435 \\u0445\\u043e\\u0447\\u0435\\u0442\\u0441\\u044f \\u043f\\u0440\\u043e\\u0441\\u0442\\u043e \\u0440\\u0430\\u0441\\u0441\\u043b\\u0430\\u0431\\u0438\\u0442\\u0441\\u044f \\u0438 \\u043d\\u0435\\u0442 \\u0436\\u0435\\u043b\\u0430\\u043d\\u0438\\u044f \\u043d\\u0430\\u043f\\u0440\\u044f\\u0433\\u0430\\u0442\\u044c \\u0433\\u043e\\u043b\\u043e\\u0432\\u0443, \\u0432\\u043d\\u0438\\u043a\\u0430\\u044f \\u0432 \\u0441\\u043b\\u043e\\u0436\\u043d\\u044b\\u0435 \\u0444\\u0438\\u043b\\u043e\\u0441\\u043e\\u0444\\u0441\\u043a\\u0438\\u0435 \\u0441\\u044e\\u0436\\u0435\\u0442\\u044b.\\u042f \\u043d\\u0430\\u0447\\u0430\\u043b\\u0430 \\u0441\\u043c\\u043e\\u0442\\u0440\\u0435\\u0442\\u044c \\u0435\\u0433\\u043e \\u0438\\u0437-\\u0437\\u0430 \\u0442\\u043e\\u0433\\u043e, \\u0447\\u0442\\u043e \\u043f\\u043e\\u043f\\u0440\\u043e\\u0441\\u0442\\u0443 \\u043d\\u0435 \\u043c\\u043e\\u0433\\u043b\\u0430 \\u0432\\u044b\\u0431\\u0440\\u0430\\u0442\\u044c \\u0430\\u043d\\u0438\\u043c\\u0435 \\u0434\\u043b\\u044f \\u043f\\u0440\\u043e\\u0441\\u043c\\u043e\\u0442\\u0440\\u0430. \\u042f \\u043a\\u0430\\u043a \\u0440\\u0430\\u0437 \\u0442\\u0430\\u043a\\u0438 \\u0438 \\u0435\\u0441\\u0442\\u044c \\u0442\\u043e\\u0442 \\u043b\\u044e\\u0431\\u0438\\u0442\\u0435\\u043b\\u044c \\u0441\\u0435\\u0440\\u044c\\u0451\\u0437\\u043d\\u044b\\u0445 \\u0444\\u0438\\u043b\\u043e\\u0441\\u043e\\u0444\\u0441\\u043a\\u0438\\u0445 \\u0441\\u044e\\u0436\\u0435\\u0442\\u043e\\u0432, \\u0430 Gatchaman Crowds \\u0442\\u043e\\u0447\\u043d\\u043e \\u043d\\u0435 \\u043f\\u043e\\u0434\\u0445\\u043e\\u0434\\u0438\\u043b \\u043f\\u043e\\u0434 \\u044d\\u0442\\u043e \\u043e\\u043f\\u0438\\u0441\\u0430\\u043d\\u0438\\u0435. \\u041d\\u043e \\u044f \\u0432\\u0441\\u0451 \\u0442\\u0430\\u043a\\u0438 \\u0440\\u0435\\u0448\\u0438\\u043b\\u0430 \\u0434\\u0430\\u0442\\u044c \\u0435\\u043c\\u0443 \\u0448\\u0430\\u043d\\u0441, \\u0445\\u043e\\u0442\\u044f \\u0438 \\u043e\\u0442\\u043d\\u043e\\u0448\\u0443\\u0441\\u044c \\u043a \\u0442\\u0430\\u043a\\u0438\\u043c \\u0430\\u043d\\u0438\\u043c\\u0435 \\u043e\\u0447\\u0435\\u043d\\u044c \\u0441\\u043a\\u0435\\u043f\\u0442\\u0438\\u0447\\u0435\\u0441\\u043a\\u0438. \\u0421\\u0440\\u0430\\u0437\\u0443 \\u0441\\u043a\\u0430\\u0436\\u0443, \\u0447\\u0442\\u043e \\u043d\\u0438\\u0447\\u0435\\u0433\\u043e \\u043e\\u0441\\u043e\\u0431\\u0435\\u043d\\u043d\\u043e\\u0433\\u043e \\u043e\\u0442 \\u043d\\u0435\\u0433\\u043e \\u043d\\u0435 \\u0436\\u0434\\u0430\\u043b\\u0430 \\u0438 \\u043d\\u0435 \\u043d\\u0430\\u0434\\u0435\\u044f\\u043b\\u0430\\u0441\\u044c, \\u0447\\u0442\\u043e \\u0441\\u0438\\u0435 \\u0442\\u0432\\u043e\\u0440\\u0435\\u043d\\u0438\\u0435 \\u043e\\u043a\\u0430\\u0436\\u0435\\u0442\\u0441\\u044f \\u0447\\u0435\\u043c-\\u0442\\u043e \\u0432\\u044b\\u0434\\u0430\\u044e\\u0449\\u0438\\u043c\\u0441\\u044f. \\u042f \\u043e\\u043a\\u0430\\u0437\\u0430\\u043b\\u0430\\u0441\\u044c \\u043f\\u0440\\u0430\\u0432\\u0430 \\u0438 \\u043d\\u0435 \\u043f\\u0440\\u0430\\u0432\\u0430 \\u043e\\u0434\\u043d\\u043e\\u0432\\u0440\\u0435\\u043c\\u0435\\u043d\\u043d\\u043e.\\u041f\\u0435\\u0440\\u0432\\u0430\\u044f \\u0441\\u0435\\u0440\\u0438\\u044f \\u043d\\u0435 \\u043f\\u0440\\u0435\\u0434\\u0441\\u0442\\u0430\\u0432\\u043b\\u044f\\u0435\\u0442 \\u0438\\u0437 \\u0441\\u0435\\u0431\\u044f \\u043f\\u043e\\u0447\\u0442\\u0438 \\u043d\\u0438\\u0447\\u0435\\u0433\\u043e, \\u0447\\u0442\\u043e \\u043c\\u043e\\u0436\\u0435\\u0442 \\u043f\\u0440\\u0438\\u0442\\u044f\\u043d\\u0443\\u0442\\u044c \\u0437\\u0440\\u0438\\u0442\\u0435\\u043b\\u044f, \\u043d\\u043e \\u043e\\u043d\\u0430 \\u0438 \\u043d\\u0435 \\u043e\\u0442\\u0442\\u0430\\u043b\\u043a\\u0438\\u0432\\u0430\\u0435\\u0442 \\u043e\\u0442 \\u0441\\u0435\\u0431\\u044f. \\u041f\\u043e\\u043d\\u0430\\u0447\\u0430\\u043b\\u0443 \\u0433\\u043b\\u0430\\u0432\\u043d\\u0430\\u044f \\u0433\\u0435\\u0440\\u043e\\u0438\\u043d\\u044f \\u043a\\u0430\\u0436\\u0435\\u0442\\u0441\\u044f \\u0433\\u043b\\u0443\\u043f\\u043e\\u0439, \\u0436\\u0438\\u0437\\u043d\\u0435\\u0440\\u0430\\u0434\\u043e\\u0441\\u0442\\u043d\\u043e\\u0439 \\u0434\\u0443\\u0440\\u043e\\u0447\\u043a\\u043e\\u0439 \\u043e\\u043f\\u0442\\u0438\\u043c\\u0438\\u0441\\u0442\\u043a\\u043e\\u0439 \\u0438 \\u043c\\u0435\\u0441\\u0442\\u0430\\u043c\\u0438 \\u043e\\u0447\\u0435\\u043d\\u044c \\u0441\\u0438\\u043b\\u044c\\u043d\\u043e \\u0440\\u0430\\u0437\\u0434\\u0440\\u0430\\u0436\\u0430\\u0435\\u0442, \\u043d\\u043e \\u0432\\u043f\\u043e\\u0441\\u043b\\u0435\\u0434\\u0441\\u0442\\u0432\\u0438\\u0438 \\u044d\\u0442\\u043e \\u043e\\u043a\\u0430\\u0437\\u044b\\u0432\\u0430\\u0435\\u0442\\u0441\\u044f \\u0441\\u043e\\u0432\\u0441\\u0435\\u043c \\u043d\\u0435 \\u0442\\u0430\\u043a. \\u041e\\u043d\\u0430 \\u0438\\u043c\\u0435\\u043d\\u043d\\u043e \\u0442\\u043e\\u0442 \\u0447\\u0435\\u043b\\u043e\\u0432\\u0435\\u043a , \\u0441\\u043f\\u043b\\u043e\\u0442\\u0438\\u0432\\u0448\\u0438\\u0439 \\u0433\\u044d\\u0447\\u0430\\u043c\\u044d\\u043d\\u043e\\u0432, \\u0434\\u0430\\u0432\\u0448\\u0438\\u0439 \\u0438\\u043c \\u043d\\u0430\\u0434\\u0435\\u0436\\u0434\\u0443 \\u0438 \\u0438\\u0437\\u043c\\u0435\\u043d\\u0438\\u0432\\u0448\\u0438\\u0439 \\u0438\\u0445. \\u0427\\u0435\\u0441\\u0442\\u043d\\u043e \\u0433\\u043e\\u0432\\u043e\\u0440\\u044f, \\u044d\\u0442\\u043e \\u0430\\u043d\\u0438\\u043c\\u0435 \\u0438 \\u0441\\u0442\\u043e\\u0438\\u0442 \\u0441\\u043c\\u043e\\u0442\\u0440\\u0435\\u0442\\u044c \\u0442\\u043e\\u043b\\u044c\\u043a\\u043e \\u0438\\u0437-\\u0437\\u0430 \\u0433\\u0435\\u0440\\u043e\\u0435\\u0432, \\u0438\\u0431\\u043e \\u0441\\u044e\\u0436\\u0435\\u0442 \\u0442\\u0443\\u0442 \\u043e\\u0442\\u043a\\u0440\\u043e\\u0432\\u0435\\u043d\\u043d\\u043e \\u0441\\u043b\\u0430\\u0431\\u044b\\u0439 (\\u0425\\u043e\\u0442\\u044f \\u0438\\u0434\\u0435\\u044f \\u0441 \\\"\\u0413\\u0430\\u043b\\u0430\\u043a\\u0442\\u0438\\u043a\\u043e\\u0439\\\" \\u0432\\u0435\\u0441\\u044c\\u043c\\u0430 \\u043d\\u0435\\u043f\\u043b\\u043e\\u0445\\u0430). \\u041c\\u043e\\u0436\\u0435\\u0442 \\u0431\\u044b\\u0442\\u044c \\u043a\\u0442\\u043e-\\u0442\\u043e \\u0441\\u043a\\u0430\\u0436\\u0435\\u0442, \\u0447\\u0442\\u043e \\u044d\\u0442\\u0438 \\u043f\\u0435\\u0440\\u0441\\u043e\\u043d\\u0430\\u0436\\u0438 \\u0437\\u0430\\u0443\\u0440\\u044f\\u0434\\u043d\\u044b \\u0438 \\u0431\\u0430\\u043d\\u0430\\u043b\\u044c\\u043d\\u044b... \\u043c\\u043e\\u0436\\u0435\\u0442 \\u0438 \\u0442\\u0430\\u043a... \\u043d\\u043e \\u044d\\u0442\\u043e \\u043d\\u0435 \\u043c\\u0435\\u0448\\u0430\\u0435\\u0442 \\u0438\\u043c\\u0438 \\u043d\\u0430\\u0441\\u043b\\u0430\\u0436\\u0434\\u0430\\u0442\\u044c\\u0441\\u044f. \\u041f\\u0440\\u0435\\u043a\\u0440\\u0430\\u0441\\u043d\\u044b\\u0435 OP \\u0438 ED, \\u043a\\u043e\\u0442\\u043e\\u0440\\u044b\\u0435 \\u043d\\u0435 \\u0445\\u043e\\u0447\\u0435\\u0442\\u0441\\u044f \\u043f\\u0440\\u043e\\u043f\\u0443\\u0441\\u043a\\u0430\\u0442\\u044c \\u043d\\u0430 \\u043f\\u0440\\u043e\\u0442\\u044f\\u0436\\u0435\\u043d\\u0438\\u0435 \\u0432\\u0441\\u0435\\u0445 12 \\u0441\\u0435\\u0440\\u0438\\u0439. \\u041d\\u0435\\u043f\\u043b\\u043e\\u0445\\u043e\\u0435 \\u043c\\u0443\\u0437\\u044b\\u043a\\u0430\\u043b\\u044c\\u043d\\u043e\\u0435 \\u043e\\u0444\\u043e\\u0440\\u043c\\u043b\\u0435\\u043d\\u0438\\u0435 \\u0438 \\u043a\\u0440\\u0430\\u0441\\u0438\\u0432\\u0430\\u044f \\u043a\\u0430\\u0440\\u0442\\u0438\\u043d\\u043a\\u0430 \\u0442\\u043e\\u0436\\u0435 \\u0434\\u0435\\u043b\\u0430\\u044e\\u0442 \\u0441\\u0432\\u043e\\u0451 \\u0434\\u0435\\u043b\\u043e.\\u041d\\u043e \\u043e\\u0447\\u0435\\u043d\\u044c \\u0441\\u043a\\u043e\\u043c\\u043a\\u0430\\u043d\\u043d\\u044b\\u0439 \\u0438 \\u043d\\u0435\\u044f\\u0441\\u043d\\u044b\\u0439 \\u0444\\u0438\\u043d\\u0430\\u043b, \\u043a\\u043e\\u0442\\u043e\\u0440\\u044b\\u0439 \\u0442\\u0430\\u043a\\u0436\\u0435 \\u043c\\u043e\\u0436\\u0435\\u0442 \\u043f\\u043e\\u0434\\u043f\\u043e\\u0440\\u0442\\u0438\\u0442\\u044c \\u0432\\u043f\\u0435\\u0447\\u0430\\u0442\\u043b\\u0435\\u043d\\u0438\\u0435. \\u042f \\u0434\\u0443\\u043c\\u0430\\u044e, Gatchaman Crowds \\u0432\\u0441\\u0451 \\u0436\\u0435 \\u0441\\u0442\\u043e\\u0438\\u0442 \\u043f\\u043e\\u0441\\u043c\\u043e\\u0442\\u0440\\u0435\\u0442\\u044c. \\u0411\\u0443\\u0434\\u044c \\u0441\\u044e\\u0436\\u0435\\u0442 \\u0441\\u0438\\u043b\\u044c\\u043d\\u0435\\u0435 \\u0438 \\u0434\\u043e\\u0440\\u0430\\u0431\\u043e\\u0442\\u0430\\u043d\\u043d\\u0435\\u0435 ... \\u0438\\u0437 \\u043d\\u0435\\u0433\\u043e \\u043c\\u043e\\u0433\\u043b\\u043e \\u0431\\u044b \\u0432\\u044b\\u0439\\u0442\\u0438 \\u0447\\u0442\\u043e-\\u0442\\u043e \\u043e\\u0447\\u0435\\u043d\\u044c \\u0441\\u0442\\u043e\\u044f\\u0449\\u0435\\u0435, \\u0430 \\u0442\\u0430\\u043a \\u0442\\u043e\\u043b\\u044c\\u043a\\u043e 7.\"\n        ],\n        \"semantic_type\": \"\",\n        \"description\": \"\"\n      }\n    },\n    {\n      \"column\": \"Cleaned_Text\",\n      \"properties\": {\n        \"dtype\": \"string\",\n        \"num_unique_values\": 73150,\n        \"samples\": [\n          \"\\u0430\\u043d\\u0438\\u043c\\u0435 \\u0441\\u043a\\u0443\\u0447\\u043d\\u043e\\u0432\\u0430\\u0442\\u044b\\u0439 \\u0446\\u0435\\u043f\\u043b\\u044f\\u0442\\u044c \\u043f\\u043e\\u043d\\u0440\\u0430\\u0432\\u0438\\u0442\\u044c\\u0441\\u044f \\u0441\\u0442\\u0438\\u043b\\u044c \\u0440\\u0438\\u0441\\u043e\\u0432\\u0430\\u043d\\u0438\\u0435 \\u0433\\u043b\\u0430\\u0432\\u043d\\u044b\\u0439 \\u0433\\u0435\\u0440\\u043e\\u0439 \\u043f\\u043e\\u043b\\u0443\\u0447\\u0438\\u0442\\u044c\\u0441\\u044f \\u0441\\u0438\\u043c\\u043f\\u0430\\u0442\\u0438\\u0447\\u043d\\u044b\\u0439 \\u0438\\u0441\\u0442\\u043e\\u0440\\u0438\\u044f \\u0446\\u0435\\u043b\\u043e\\u0435 \\u043d\\u0435\\u043f\\u043b\\u043e\\u0445\\u043e\\u0439 \\u043f\\u043e\\u043b\\u0443\\u0447\\u0438\\u0442\\u044c\\u0441\\u044f \\u0442\\u0438\\u043f \\u0442\\u0440\\u0430\\u0434\\u0438\\u0446\\u0438\\u043e\\u043d\\u043e\\u0439 \\u0434\\u0438\\u0441\\u043d\\u0435\\u0432\\u0441\\u043a\\u0438\\u0439 \\u0438\\u0441\\u0442\\u043e\\u0440\\u0438\\u044f \\u043f\\u0440\\u0438\\u043d\\u0446\\u0435\\u0441 \\u043f\\u0440\\u043e\\u0441\\u0442\\u043e\\u0439 \\u043f\\u0430\\u0440\\u0435\\u043d\\u044c \\u043a\\u043e\\u043d\\u0446\\u043e\\u0432\\u043a\\u0430 \\u043f\\u043e\\u0434\\u043a\\u0430\\u0447\\u0430\\u0442\\u044c \\u043f\\u043e\\u043b\\u0443\\u0447\\u0438\\u0442\\u044c\\u0441\\u044f \\u043d\\u0438 \\u043d\\u0438 \\u0441\\u043f\\u043e\\u0439\\u043b\\u0435\\u0440 \\u043e\\u0441\\u0442\\u0430\\u0442\\u044c\\u0441\\u044f \\u0432\\u043c\\u0435\\u0441\\u0442\\u0435 \\u043f\\u043e\\u043b\\u0443\\u0447\\u0438\\u0442\\u044c\\u0441\\u044f \\u043b\\u0451\\u0433\\u043a\\u0438\\u0439 \\u0440\\u043e\\u043c\\u0430\\u043d\\u0442\\u0438\\u043a\\u0430 \\u0430\\u0432\\u0442\\u043e\\u0440 \\u0440\\u0435\\u0448\\u0438\\u0442\\u044c \\u0440\\u0430\\u0437\\u043b\\u0443\\u0447\\u0438\\u0442\\u044c \\u0433\\u0435\\u0440\\u043e\\u0439 \\u043e\\u043a\\u0435\\u0439 \\u043f\\u0440\\u043e\\u0431\\u043b\\u0435\\u043c\\u0430 \\u0434\\u0440\\u0430\\u043c\\u0430\\u0442\\u0438\\u0437\\u043c \\u0434\\u043e\\u0431\\u0430\\u0432\\u0438\\u0442\\u044c \\u043e\\u0431\\u0449\\u0438\\u0439 \\u0440\\u0430\\u0437\\u043e\\u043a \\u043a\\u0438\\u043d\\u0446\\u043e\",\n          \"\\u0441\\u043e\\u043c\\u043d\\u0435\\u043d\\u0438\\u0435 \\u0441\\u043a\\u0430\\u0437\\u0430\\u0442\\u044c \\u0445\\u043e\\u0440\\u043e\\u0448\\u0438\\u0439 \\u0447\\u0430\\u0441\\u0442\\u044c \\u0442\\u0451\\u043c\\u043d\\u044b\\u0439 \\u0434\\u0432\\u043e\\u0440\\u0435\\u0446\\u043a\\u0438\\u0439 \\u0441\\u0435\\u0440\\u0438\\u0430\\u043b \\u043e\\u0432\\u044b \\u0444\\u0438\\u043b\\u044c\\u043c \\u0444\\u0438\\u043b\\u044c\\u043c \\u043b\\u0438\\u0447\\u043d\\u043e \\u043e\\u0432\\u0430\\u0448\\u043a\\u0430 \\u043e\\u0431\\u0449\\u0438\\u0439 \\u0441\\u0447\\u0451\\u0442 \\u0434\\u043b\\u0438\\u0442\\u044c\\u0441\\u044f \\u043f\\u043e\\u043b\\u043d\\u043e\\u043c\\u0435\\u0442\\u0440\\u0430\\u0436\\u043d\\u044b\\u0439 \\u0444\\u0438\\u043b\\u044c\\u043c \\u0441\\u0438\\u044d\\u043b\\u044c \\u0441\\u043c\\u043e\\u0447\\u044c \\u043f\\u0440\\u043e\\u044f\\u0432\\u0438\\u0442\\u044c \\u0445\\u043e\\u0440\\u043e\\u0448\\u0438\\u0439 \\u043f\\u0435\\u0440\\u0441\\u043e\\u043d\\u0430\\u0436 \\u043b\\u044e\\u0431\\u0438\\u0442\\u044c \\u0434\\u0435\\u0442\\u0435\\u043a\\u0442\\u0438\\u0432 \\u0437\\u0430\\u043a\\u0440\\u044b\\u0442\\u044b\\u0439 \\u043f\\u043e\\u043c\\u0435\\u0449\\u0435\\u043d\\u0438\\u0435 \\u0440\\u0430\\u0434 \\u0444\\u0438\\u043b\\u044c\\u043c \\u043d\\u0438 \\u0441\\u0435\\u043a\\u0443\\u043d\\u0434\\u0430 \\u043e\\u0441\\u0442\\u0430\\u0432\\u043b\\u044f\\u0442\\u044c \\u0441\\u043a\\u0443\\u0447\\u0430\\u0442\\u044c \\u0432\\u0440\\u0435\\u043c\\u044f \\u043f\\u0440\\u043e\\u0441\\u043c\\u043e\\u0442\\u0440 \\u043a\\u043e\\u043d\\u0446\\u043e\\u0432\\u043a\\u0430 \\u0445\\u043e\\u0440\\u043e\\u0448\\u0438\\u0439 \\u0430\\u043d\\u0438\\u043c\\u0430\\u0446\\u0438\\u044f \\u043d\\u0435\\u043f\\u043b\\u043e\\u0445\\u043e\\u0439 \\u0432\\u043d\\u0438\\u043c\\u0430\\u043d\\u0438\\u0435 \\u0434\\u0435\\u0442\\u0430\\u043b\\u044c \\u043f\\u0440\\u043e\\u0441\\u0435\\u0434\\u0430\\u0442\\u044c \\u043a\\u0440\\u0430\\u0439\\u043d\\u0438\\u0439 \\u043c\\u0435\\u0440\\u0430 \\u0437\\u0430\\u043c\\u0435\\u0442\\u0438\\u0442\\u044c \\u043f\\u0430\\u0440\\u0430 \\u0438\\u043d\\u0442\\u0435\\u0440\\u0435\\u0441\\u043d\\u044b\\u0439 \\u043c\\u043e\\u043c\\u0435\\u043d\\u0442 \\u0441\\u043e\\u043c\\u043d\\u0435\\u043d\\u0438\\u0435 \\u0441\\u0442\\u0430\\u0432\\u0438\\u0442\\u044c \\u0430\\u043d\\u0438\\u043c\\u0435 \\u0442\\u0432\\u0451\\u0440\\u0434\\u044b\\u0439 \\u0432\\u043e\\u0441\\u044c\\u043c\\u0451\\u0440\\u043a\\u0430\",\n          \"\\u0442\\u0440\\u0435\\u0442\\u0438\\u0439 \\u043e\\u0432\\u0430 \\u0445\\u043e\\u0440\\u043e\\u0448\\u0438\\u0439 \\u0434\\u043e\\u0431\\u0440\\u044b\\u0439 \\u043f\\u043e\\u0437\\u0438\\u0442\\u0438\\u0432\\u043d\\u044b\\u0439 \\u0432\\u0435\\u0441\\u0451\\u043b\\u044b\\u0439 \\u044d\\u043f\\u0438\\u0437\\u043e\\u0434 \\u0445\\u043e\\u0440\\u043e\\u0448\\u0438\\u0439 \\u043c\\u0443\\u0437\\u044b\\u043a\\u0430\\u043b\\u044c\\u043d\\u044b\\u0439 \\u0441\\u043e\\u0441\\u0442\\u0430\\u0432\\u043b\\u044f\\u0442\\u044c \\u0441\\u043a\\u043e\\u0440\\u0430 \\u044d\\u043f\\u0438\\u0437\\u043e\\u0434 \\u0441\\u0434\\u0435\\u043b\\u0430\\u0442\\u044c \\u043b\\u044e\\u0431\\u0438\\u0442\\u0435\\u043b\\u044c \\u043a\\u0430\\u043d\\u043e\\u043d \\u044d\\u043f\\u0438\\u0437\\u043e\\u0434 \\u043d\\u0435\\u043e\\u0431\\u044b\\u0447\\u043d\\u044b\\u0439 \\u0438\\u0441\\u043a\\u0430\\u0442\\u044c \\u0441\\u044e\\u0436\\u0435\\u0442 \\u043d\\u0430\\u0439\\u0442\\u0438 \\u043d\\u0435\\u043a\\u0438\\u0439 \\u0441\\u0442\\u043e\\u0440\\u043e\\u043d\\u0438\\u0442\\u044c \\u0438\\u0441\\u0442\\u043e\\u0440\\u0438\\u044f \\u043f\\u043e\\u0441\\u0442\\u0440\\u043e\\u0451\\u043d\\u044b\\u0439 \\u043e\\u0441\\u043d\\u043e\\u0432\\u043d\\u043e\\u0435 \\u0441\\u044e\\u0436\\u0435\\u0442 \\u044d\\u043f\\u0438\\u0437\\u043e\\u0434 \\u0442\\u0435\\u0447\\u044c \\u0438\\u043d\\u0442\\u0435\\u0440\\u0435\\u0441\\u043d\\u044b\\u0439 \\u043a\\u0430\\u043d\\u043e\\u043d \\u043d\\u0440\\u0430\\u0432\\u0438\\u0442\\u044c\\u0441\\u044f \\u043c\\u0443\\u0437\\u044b\\u043a\\u0430 \\u043e\\u0432\\u0430 \\u0437\\u0430\\u0441\\u043b\\u0443\\u0436\\u0438\\u0442\\u044c \\u0445\\u043e\\u0440\\u043e\\u0448\\u0438\\u0439 \\u043e\\u0446\\u0435\\u043d\\u043a\\u0430 \\u043f\\u043e\\u043a\\u0430\\u0437\\u0430\\u0442\\u044c \\u0441\\u0438\\u043b\\u0430 \\u043c\\u0443\\u0437\\u044b\\u043a\\u0430 \\u0434\\u043e\\u0431\\u0440\\u043e \\u0438\\u043d\\u0442\\u0435\\u0440\\u0435\\u0441\\u043d\\u044b\\u0439 \\u0441\\u044e\\u0436\\u0435\\u0442 \\u043e\\u0441\\u043d\\u043e\\u0432\\u043d\\u043e\\u0439 \\u043b\\u0438\\u043d\\u0435\\u0439\\u043a\\u0430 \\u0430\\u043d\\u0438\\u043c\\u0435 \\u0441\\u043a\\u0438\\u043f\\u0430\\u0442\\u044c \\u044d\\u043f\\u0438\\u0437\\u043e\\u0434 \\u0442\\u0435\\u0440\\u044f\\u0442\\u044c \\u043e\\u0446\\u0435\\u043d\\u043a\\u0430\"\n        ],\n        \"semantic_type\": \"\",\n        \"description\": \"\"\n      }\n    }\n  ]\n}"
            }
          },
          "metadata": {},
          "execution_count": 3
        }
      ]
    },
    {
      "cell_type": "code",
      "source": [
        "df.info()\n",
        "df.shape"
      ],
      "metadata": {
        "colab": {
          "base_uri": "https://localhost:8080/"
        },
        "id": "xsEOWpy7Hdkr",
        "outputId": "642e5ff8-4a05-4868-aef2-ee72ddc61f4f"
      },
      "execution_count": null,
      "outputs": [
        {
          "output_type": "stream",
          "name": "stdout",
          "text": [
            "<class 'pandas.core.frame.DataFrame'>\n",
            "RangeIndex: 73165 entries, 0 to 73164\n",
            "Data columns (total 4 columns):\n",
            " #   Column        Non-Null Count  Dtype \n",
            "---  ------        --------------  ----- \n",
            " 0   Anime         73165 non-null  object\n",
            " 1   Rate          73165 non-null  object\n",
            " 2   Text          73165 non-null  object\n",
            " 3   Cleaned_Text  73165 non-null  object\n",
            "dtypes: object(4)\n",
            "memory usage: 2.2+ MB\n"
          ]
        },
        {
          "output_type": "execute_result",
          "data": {
            "text/plain": [
              "(73165, 4)"
            ]
          },
          "metadata": {},
          "execution_count": 4
        }
      ]
    },
    {
      "cell_type": "markdown",
      "source": [
        "Разделение данных на обучающую и тестовую выборки"
      ],
      "metadata": {
        "id": "5d5XSCHLWv_4"
      }
    },
    {
      "cell_type": "code",
      "source": [
        "X = df['Cleaned_Text']\n",
        "y = df['Rate']"
      ],
      "metadata": {
        "id": "VS8g20BGQ6hq"
      },
      "execution_count": 4,
      "outputs": []
    },
    {
      "cell_type": "code",
      "source": [
        "label_encoder = LabelEncoder()\n",
        "y = label_encoder.fit_transform(y)"
      ],
      "metadata": {
        "id": "u1ndjxAMRC0d"
      },
      "execution_count": 5,
      "outputs": []
    },
    {
      "cell_type": "code",
      "source": [
        "X_train, X_test, y_train, y_test = train_test_split(X, y, test_size=0.2, random_state=42, stratify=y)"
      ],
      "metadata": {
        "id": "hpa8Rj02IV15"
      },
      "execution_count": 6,
      "outputs": []
    },
    {
      "cell_type": "code",
      "source": [
        "print(f\"Размер обучающей выборки: {X_train.shape}\")\n",
        "print(f\"Размер тестовой выборки: {X_test.shape}\")"
      ],
      "metadata": {
        "colab": {
          "base_uri": "https://localhost:8080/"
        },
        "id": "dlhYXNZJP5ML",
        "outputId": "03f301e1-71ee-4a82-9ab3-1fe9595b30a8"
      },
      "execution_count": null,
      "outputs": [
        {
          "output_type": "stream",
          "name": "stdout",
          "text": [
            "Размер обучающей выборки: (58532,)\n",
            "Размер тестовой выборки: (14633,)\n"
          ]
        }
      ]
    },
    {
      "cell_type": "markdown",
      "source": [
        "Эмбеддинг ruBert"
      ],
      "metadata": {
        "id": "SHvToZ7eW16Y"
      }
    },
    {
      "cell_type": "code",
      "source": [
        "tokenizer = AutoTokenizer.from_pretrained(\"ai-forever/ruBert-base\")\n",
        "model = AutoModel.from_pretrained(\"ai-forever/ruBert-base\")"
      ],
      "metadata": {
        "id": "nFiwbVCCfr3I",
        "colab": {
          "base_uri": "https://localhost:8080/",
          "height": 222,
          "referenced_widgets": [
            "972e196258544a8ca4d24e1eca323962",
            "cc36eaf937de4df7a3d2f11f7ffaf736",
            "9b3dd016b07a44a2ad65b959ae3bab94",
            "03e81ab9373c4e46a30179c4ed92db21",
            "1e45e16b236e428395f3f1f3890c73f2",
            "a59e5053e67b481eaae38fd3f469ce60",
            "9b517ddca1c64091a354d78da7ec10d0",
            "bb982ac314b441bfb59c4542ee77d18e",
            "909f2d4aa46346d5844bdcd59dd30197",
            "41edb4e51fe243eda1088341aa30f8ab",
            "807400aa67f941c78f44dcdd52acf782",
            "00f651fad28e4f8b82f11f09ab26ab68",
            "66e08db66a8e4d18995d1200cd8c085d",
            "fa8123dd6e854979bbb9612b353b28c6",
            "6facc2008ba2486698e05fe427ece59a",
            "9d100c963a854aba88ed2106b4d6abe1",
            "52ea75695a44411b9d1496f4c941854b",
            "01c917df3b634c679d6b00670200908f",
            "41b53bff58d148918a6bfbdb66e15cd5",
            "5474c5a22e72458598e94ff977dda574",
            "523b08f7658949f8bd4342de463d4130",
            "18cfcce420904f618e36d9f29411f252",
            "5ac346f515484939aaa07c285adb91f8",
            "ddbd6257502248a7af1e36ae2a346d86",
            "19a30c0dc173498aa388439e99454a5c",
            "352e4119bb01482f94b0247bd3c507fb",
            "b706935941954ba2a1b1796831e6fea2",
            "8c2b66b035e2414fa48b602ba788d091",
            "d82583cb3426451a8be948d7fb0f67cc",
            "f57b97dc38874daa8ce65d15130d22a8",
            "1a8a368809fc408b89a50fc7608bcd6b",
            "35e1ee83e39340db9402e795d5ae1bc7",
            "0a251ee65e8f449fb37074302d468934"
          ]
        },
        "outputId": "09209cc3-64f0-4e04-ffc4-7be9cf10d525"
      },
      "execution_count": 7,
      "outputs": [
        {
          "output_type": "stream",
          "name": "stderr",
          "text": [
            "/usr/local/lib/python3.10/dist-packages/huggingface_hub/utils/_token.py:89: UserWarning: \n",
            "The secret `HF_TOKEN` does not exist in your Colab secrets.\n",
            "To authenticate with the Hugging Face Hub, create a token in your settings tab (https://huggingface.co/settings/tokens), set it as secret in your Google Colab and restart your session.\n",
            "You will be able to reuse this secret in all of your notebooks.\n",
            "Please note that authentication is recommended but still optional to access public models or datasets.\n",
            "  warnings.warn(\n"
          ]
        },
        {
          "output_type": "display_data",
          "data": {
            "text/plain": [
              "config.json:   0%|          | 0.00/590 [00:00<?, ?B/s]"
            ],
            "application/vnd.jupyter.widget-view+json": {
              "version_major": 2,
              "version_minor": 0,
              "model_id": "972e196258544a8ca4d24e1eca323962"
            }
          },
          "metadata": {}
        },
        {
          "output_type": "display_data",
          "data": {
            "text/plain": [
              "vocab.txt:   0%|          | 0.00/1.78M [00:00<?, ?B/s]"
            ],
            "application/vnd.jupyter.widget-view+json": {
              "version_major": 2,
              "version_minor": 0,
              "model_id": "00f651fad28e4f8b82f11f09ab26ab68"
            }
          },
          "metadata": {}
        },
        {
          "output_type": "display_data",
          "data": {
            "text/plain": [
              "pytorch_model.bin:   0%|          | 0.00/716M [00:00<?, ?B/s]"
            ],
            "application/vnd.jupyter.widget-view+json": {
              "version_major": 2,
              "version_minor": 0,
              "model_id": "5ac346f515484939aaa07c285adb91f8"
            }
          },
          "metadata": {}
        }
      ]
    },
    {
      "cell_type": "code",
      "source": [
        "def get_bert_embeddings_batch(texts, tokenizer, model, batch_size=32):\n",
        "    embeddings = []\n",
        "    model.eval()\n",
        "    with torch.no_grad():\n",
        "        for i in range(0, len(texts), batch_size):\n",
        "            batch_texts = texts[i:i + batch_size]\n",
        "            inputs = tokenizer(batch_texts, return_tensors=\"pt\", padding=True, truncation=True, max_length=128)\n",
        "            inputs = {key: value.to(device) for key, value in inputs.items()}\n",
        "            outputs = model(**inputs)\n",
        "            batch_embeddings = outputs.last_hidden_state.mean(dim=1).cpu().numpy()\n",
        "            embeddings.append(batch_embeddings)\n",
        "    return np.vstack(embeddings)"
      ],
      "metadata": {
        "id": "_Ypswh7BevqZ"
      },
      "execution_count": 8,
      "outputs": []
    },
    {
      "cell_type": "code",
      "source": [
        "device = torch.device(\"cuda\" if torch.cuda.is_available() else \"cpu\")\n",
        "model.to(device)"
      ],
      "metadata": {
        "colab": {
          "base_uri": "https://localhost:8080/"
        },
        "id": "hccVDQT4ji-B",
        "outputId": "2f5c9630-2aa4-43b7-c23a-503041d4608d"
      },
      "execution_count": 9,
      "outputs": [
        {
          "output_type": "execute_result",
          "data": {
            "text/plain": [
              "BertModel(\n",
              "  (embeddings): BertEmbeddings(\n",
              "    (word_embeddings): Embedding(120138, 768, padding_idx=0)\n",
              "    (position_embeddings): Embedding(512, 768)\n",
              "    (token_type_embeddings): Embedding(2, 768)\n",
              "    (LayerNorm): LayerNorm((768,), eps=1e-12, elementwise_affine=True)\n",
              "    (dropout): Dropout(p=0.1, inplace=False)\n",
              "  )\n",
              "  (encoder): BertEncoder(\n",
              "    (layer): ModuleList(\n",
              "      (0-11): 12 x BertLayer(\n",
              "        (attention): BertAttention(\n",
              "          (self): BertSdpaSelfAttention(\n",
              "            (query): Linear(in_features=768, out_features=768, bias=True)\n",
              "            (key): Linear(in_features=768, out_features=768, bias=True)\n",
              "            (value): Linear(in_features=768, out_features=768, bias=True)\n",
              "            (dropout): Dropout(p=0.1, inplace=False)\n",
              "          )\n",
              "          (output): BertSelfOutput(\n",
              "            (dense): Linear(in_features=768, out_features=768, bias=True)\n",
              "            (LayerNorm): LayerNorm((768,), eps=1e-12, elementwise_affine=True)\n",
              "            (dropout): Dropout(p=0.1, inplace=False)\n",
              "          )\n",
              "        )\n",
              "        (intermediate): BertIntermediate(\n",
              "          (dense): Linear(in_features=768, out_features=3072, bias=True)\n",
              "          (intermediate_act_fn): GELUActivation()\n",
              "        )\n",
              "        (output): BertOutput(\n",
              "          (dense): Linear(in_features=3072, out_features=768, bias=True)\n",
              "          (LayerNorm): LayerNorm((768,), eps=1e-12, elementwise_affine=True)\n",
              "          (dropout): Dropout(p=0.1, inplace=False)\n",
              "        )\n",
              "      )\n",
              "    )\n",
              "  )\n",
              "  (pooler): BertPooler(\n",
              "    (dense): Linear(in_features=768, out_features=768, bias=True)\n",
              "    (activation): Tanh()\n",
              "  )\n",
              ")"
            ]
          },
          "metadata": {},
          "execution_count": 9
        }
      ]
    },
    {
      "cell_type": "code",
      "source": [
        "X_train_embeddings = get_bert_embeddings_batch(X_train.tolist(), tokenizer, model)\n",
        "X_test_embeddings = get_bert_embeddings_batch(X_test.tolist(), tokenizer, model)"
      ],
      "metadata": {
        "id": "I7xMKhBujnJZ"
      },
      "execution_count": 10,
      "outputs": []
    },
    {
      "cell_type": "code",
      "source": [
        "embeddings_df = pd.DataFrame(X_train_embeddings)\n",
        "embeddings_df['Rate'] = y_train"
      ],
      "metadata": {
        "id": "_WVNvYVjjppy"
      },
      "execution_count": 11,
      "outputs": []
    },
    {
      "cell_type": "code",
      "source": [
        "# балансировка\n",
        "smote = SMOTE(random_state=42)\n",
        "X_train_balanced, y_train_balanced = smote.fit_resample(X_train_embeddings, y_train)"
      ],
      "metadata": {
        "id": "l26wqzcpjsLa"
      },
      "execution_count": 12,
      "outputs": []
    },
    {
      "cell_type": "markdown",
      "source": [
        "Обучение моделей\n",
        "\n",
        "- RandomForest"
      ],
      "metadata": {
        "id": "5WJgerqLXSe6"
      }
    },
    {
      "cell_type": "code",
      "source": [
        "rf_model = RandomForestClassifier(n_estimators=100, max_depth=3, random_state=42) # пыталась переобучить, но всё сбросилось\n",
        "rf_model.fit(X_train_balanced, y_train_balanced)\n",
        "\n",
        "rf_predictions = rf_model.predict(X_test_embeddings)\n",
        "print(\"RandomForest Accuracy:\", accuracy_score(y_test, rf_predictions))\n",
        "print(\"RandomForest Classification Report:\\n\", classification_report(y_test, rf_predictions))"
      ],
      "metadata": {
        "id": "n9JY3CqIIgNy"
      },
      "execution_count": null,
      "outputs": []
    },
    {
      "cell_type": "markdown",
      "source": [
        "- Бустинг"
      ],
      "metadata": {
        "id": "BqkE0Ipuvk-v"
      }
    },
    {
      "cell_type": "code",
      "source": [
        "from xgboost import XGBClassifier"
      ],
      "metadata": {
        "id": "9ORDavWClXao"
      },
      "execution_count": 14,
      "outputs": []
    },
    {
      "cell_type": "code",
      "source": [
        "xgb_model = XGBClassifier(random_state=42)\n",
        "xgb_model.fit(X_train_balanced, y_train_balanced)\n",
        "\n",
        "xgb_predictions = xgb_model.predict(X_test_embeddings)\n",
        "print(\"XGBoost Accuracy:\", accuracy_score(y_test, xgb_predictions))\n",
        "print(\"XGBoost Classification Report:\\n\", classification_report(y_test, xgb_predictions))"
      ],
      "metadata": {
        "id": "PDbI2cYxIgiM",
        "colab": {
          "base_uri": "https://localhost:8080/"
        },
        "outputId": "99d44894-b913-4256-8ecf-6800261de6e1"
      },
      "execution_count": 15,
      "outputs": [
        {
          "output_type": "stream",
          "name": "stdout",
          "text": [
            "XGBoost Accuracy: 0.4873915123351329\n",
            "XGBoost Classification Report:\n",
            "               precision    recall  f1-score   support\n",
            "\n",
            "           0       0.41      0.36      0.38      5049\n",
            "           1       0.47      0.53      0.50      3575\n",
            "           2       0.56      0.56      0.56      6009\n",
            "\n",
            "    accuracy                           0.49     14633\n",
            "   macro avg       0.48      0.49      0.48     14633\n",
            "weighted avg       0.48      0.49      0.49     14633\n",
            "\n"
          ]
        }
      ]
    },
    {
      "cell_type": "markdown",
      "source": [
        "Результаты"
      ],
      "metadata": {
        "id": "YpB8G2uBnn9k"
      }
    },
    {
      "cell_type": "code",
      "source": [
        "import seaborn as sns\n",
        "from sklearn.metrics import confusion_matrix\n",
        "\n",
        "def plot_confusion_matrix(y_true, y_pred, title):\n",
        "    cm = confusion_matrix(y_true, y_pred)\n",
        "    plt.figure(figsize=(8, 6))\n",
        "    sns.heatmap(cm, annot=True, fmt='d', cmap='Blues')\n",
        "    plt.title(title)\n",
        "    plt.xlabel('Predicted')\n",
        "    plt.ylabel('True')\n",
        "    plt.show()\n",
        "\n",
        "plot_confusion_matrix(y_test, rf_predictions, 'RandomForest Confusion Matrix')\n",
        "\n",
        "plot_confusion_matrix(y_test, xgb_predictions, 'XGBoost Confusion Matrix')"
      ],
      "metadata": {
        "colab": {
          "base_uri": "https://localhost:8080/",
          "height": 1000
        },
        "id": "pRnYG4U8nFvg",
        "outputId": "56c7b257-f135-4822-e87b-b197d7bf53cb"
      },
      "execution_count": 17,
      "outputs": [
        {
          "output_type": "display_data",
          "data": {
            "text/plain": [
              "<Figure size 800x600 with 2 Axes>"
            ],
            "image/png": "[encoded data removed]"
          },
          "metadata": {}
        },
        {
          "output_type": "display_data",
          "data": {
            "text/plain": [
              "<Figure size 800x600 with 2 Axes>"
            ],
            "image/png": "[encoded data removed]"
          },
          "metadata": {}
        }
      ]
    },
    {
      "cell_type": "markdown",
      "source": [
        "Отрисовать рисунки обученных деревьев из случайного леса и бустинга с указанием текста влияющего на ветвление дерева\n"
      ],
      "metadata": {
        "id": "pY2N-w3XXtN9"
      }
    },
    {
      "cell_type": "code",
      "source": [
        "from sklearn.tree import export_graphviz\n",
        "import graphviz\n",
        "from xgboost import XGBClassifier, plot_tree"
      ],
      "metadata": {
        "id": "RoymN95gvh3K"
      },
      "execution_count": 29,
      "outputs": []
    },
    {
      "cell_type": "code",
      "source": [
        "def visualize_random_forest_tree(rf_model, feature_names):\n",
        "    estimator = rf_model.estimators_[0]\n",
        "    dot_data = export_graphviz(estimator,\n",
        "                               feature_names=feature_names,\n",
        "                               filled=True,\n",
        "                               rounded=True,\n",
        "                               special_characters=True)\n",
        "    graph = graphviz.Source(dot_data)\n",
        "    graph.render(\"random_forest_tree\", format='png')\n",
        "    return graph\n",
        "\n",
        "def visualize_xgboost_tree(xgb_model):\n",
        "    plt.figure(figsize=(20, 10))\n",
        "    plot_tree(xgb_model, num_trees=0, rankdir='LR')\n",
        "    plt.savefig('xgboost_tree.png')\n",
        "    plt.show()\n",
        "\n",
        "graph = visualize_random_forest_tree(rf_model, feature_names)\n",
        "\n",
        "visualize_xgboost_tree(xgb_model)"
      ],
      "metadata": {
        "id": "ZUMfhRyWXto0",
        "colab": {
          "base_uri": "https://localhost:8080/",
          "height": 442
        },
        "outputId": "1471342f-6108-43f8-c2f9-b40bd182f460"
      },
      "execution_count": 30,
      "outputs": [
        {
          "output_type": "stream",
          "name": "stderr",
          "text": [
            "dot: graph is too large for cairo-renderer bitmaps. Scaling by 0.0507532 to fit\n"
          ]
        },
        {
          "output_type": "display_data",
          "data": {
            "text/plain": [
              "<Figure size 2000x1000 with 0 Axes>"
            ]
          },
          "metadata": {}
        },
        {
          "output_type": "display_data",
          "data": {
            "text/plain": [
              "<Figure size 640x480 with 1 Axes>"
            ],
            "image/png": "[encoded data removed]"
          },
          "metadata": {}
        }
      ]
    }
  ]
}