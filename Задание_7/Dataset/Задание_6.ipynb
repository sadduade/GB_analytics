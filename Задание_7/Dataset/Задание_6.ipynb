{
 "cells": [
  {
   "cell_type": "markdown",
   "id": "05f4d481",
   "metadata": {},
   "source": [
    "###  раннее в гугл-коллабе была произведена векторизация с DeepPavlov (и небольшой рисёрч в файле Задание_6_рисерч)"
   ]
  },
  {
   "cell_type": "code",
   "execution_count": 125,
   "id": "2b99d100",
   "metadata": {},
   "outputs": [
    {
     "name": "stdout",
     "output_type": "stream",
     "text": [
      "Объединенный массив векторов имеет форму: (4405, 768)\n"
     ]
    }
   ],
   "source": [
    "import os\n",
    "\n",
    "vector_files = sorted([f for f in os.listdir('vector_chunks1')])\n",
    "\n",
    "all_vectors = []\n",
    "for vf in vector_files:\n",
    "    vectors = np.load(os.path.join('vector_chunks1', vf))\n",
    "    all_vectors.append(vectors)\n",
    "\n",
    "all_vectors = np.vstack(all_vectors)\n",
    "\n",
    "print(\"Объединенный массив векторов имеет форму:\", all_vectors.shape)"
   ]
  },
  {
   "cell_type": "code",
   "execution_count": 126,
   "id": "efed13d7",
   "metadata": {},
   "outputs": [],
   "source": [
    "np.save('VectorDatabase.npy',all_vectors)"
   ]
  },
  {
   "cell_type": "code",
   "execution_count": 36,
   "id": "7e02a63f",
   "metadata": {},
   "outputs": [
    {
     "name": "stdout",
     "output_type": "stream",
     "text": [
      "# 8 В книге собраны рекомендации по профилактике и лечению наиболее распространенных инфекционных, инвазионных, грибковых, гельминтовых, а также незаразных болезней сельскохозяйственных животных, пчел и птиц, домашних животных: собак, кошек, певчих и декоративных птиц, аквариумных рыбок и т. д.\n",
      "# 9 Рассматриваются вопросы ветеринарной санитарии и зоогигиены, приводятся рекомендации по организации правильного питания животных и их содержанию. Рассмотрены вопросы по организации ветеринарного бизнеса, маркетинга, менеджмента, а также вопросы планирования и определения экономической эффективности ветеринарных предприятий.\n",
      "# 10 Для ветеринарных специалистов и широкого круга читателей.\n"
     ]
    }
   ],
   "source": [
    "filepath = 'books/hs.docx'\n",
    "doc = docx.Document(filepath)\n",
    "\"\"\"for num,para in enumerate(doc.paragraphs[:14]):\n",
    "    if len(para.text.strip().split()) >= 4:\n",
    "        print('#',num,para.text.strip())\"\"\"\n",
    "paragraphs = [p.text.strip() for p in doc.paragraphs]"
   ]
  },
  {
   "cell_type": "markdown",
   "id": "29d0f6f0",
   "metadata": {},
   "source": [
    "### Об источниках \n",
    "\n",
    "Было собран 5 книг в виде docx файлов. Удалены оглавление, список источников, ненужные символы и тп. Далее были выбрали абзацы, где содержится больше 80 \"слов\" (цифры и проблелы могут попадаться тоэе), чтобы чанки содержали качественную информацию."
   ]
  },
  {
   "cell_type": "code",
   "execution_count": 85,
   "id": "85e5160c",
   "metadata": {},
   "outputs": [],
   "source": [
    "from docx import Document\n",
    "import numpy as np\n",
    "import pandas as pd\n",
    "import string\n",
    "import re\n",
    "\n",
    "def get_paragraphs_from_docx(filename,cut_range):\n",
    "    doc = Document(filename)\n",
    "    paragraphs = [\n",
    "        p.text.strip() \n",
    "        for p in doc.paragraphs[cut_range[0]:cut_range[1]] \n",
    "        if len(p.text.strip().split()) >= 80\n",
    "    ]\n",
    "    \n",
    "    return paragraphs"
   ]
  },
  {
   "cell_type": "code",
   "execution_count": 86,
   "id": "eed4d99f",
   "metadata": {},
   "outputs": [
    {
     "name": "stdout",
     "output_type": "stream",
     "text": [
      "4405\n"
     ]
    }
   ],
   "source": [
    "cut_list = [(49,-375),(16,-67),(94,-100),(14,-1),(1082,-152)] # топорно, но убираем страницы с оглавлением и источниками\n",
    "\n",
    "filepath_list = ['books/1.docx','books/2.docx','books/3.docx','books/4.docx','books/5.docx']\n",
    "Data = sum([get_paragraphs_from_docx(filepath,cut_range) for cut_range,filepath in zip(cut_list,filepath_list)],[])\n",
    "print(len(Data))"
   ]
  },
  {
   "cell_type": "code",
   "execution_count": 87,
   "id": "461830eb",
   "metadata": {},
   "outputs": [],
   "source": [
    "# предобработка\n",
    "\n",
    "import re\n",
    "\n",
    "def clean_data(data):\n",
    "    cleaned_data = []\n",
    "    for line in data:\n",
    "        cleaned_line = line.replace('\\xa0', ' ')  \n",
    "        cleaned_line = re.sub(r'[^\\w\\s.,;:!?\"\\'-]', '', cleaned_line)  \n",
    "        cleaned_line = re.sub(r'\\s+', ' ', cleaned_line).strip()  \n",
    "        cleaned_data.append(cleaned_line)\n",
    "    return cleaned_data"
   ]
  },
  {
   "cell_type": "code",
   "execution_count": 92,
   "id": "1f012c38",
   "metadata": {},
   "outputs": [],
   "source": [
    "CleanedData = clean_data(Data)"
   ]
  },
  {
   "cell_type": "code",
   "execution_count": 93,
   "id": "8ee2fe06",
   "metadata": {},
   "outputs": [
    {
     "data": {
      "text/plain": [
       "'ишемия от греч. ischō задерживаю, останавливаю и háima кровь, местная анемия, недостаточное кровенаполнение какого-либо участка организма, органа или ткани вследствие ослабления или прекращения притока артериальной крови; Компрессионная И. возникает в результате сдавливания приводящей артерии наложением жгута, опухолью, рубцом, инородным телом. Обтурационная И. вызывается внутрисосудистыми факторами закупорка артерии эмболом, тромбом, закрытие просвета сосуда вследствие облитерации его стенки. Ангиоспастическая И. возникает в результате рефлекторного спазма сосудов под влиянием эмоциональных аффектов, механических, физических, химических и биологических факторов. При И. наблюдают бледность ишемического участка, понижение его температуры. В нём нарушается обмен веществ, возникает гипоксия, приводящая к некрозу ткани. Острая И. обычно заканчивается восстановлением функции ткани. Однако И. миокарда см. Инфаркт или мозга может вызвать тяжёлое расстройство их функции, иногда смерть. Хроническая И. вызывает атрофию органа.'"
      ]
     },
     "execution_count": 93,
     "metadata": {},
     "output_type": "execute_result"
    }
   ],
   "source": [
    "CleanedData[1000]"
   ]
  },
  {
   "cell_type": "code",
   "execution_count": 94,
   "id": "19ed270f",
   "metadata": {},
   "outputs": [
    {
     "data": {
      "text/plain": [
       "4405"
      ]
     },
     "execution_count": 94,
     "metadata": {},
     "output_type": "execute_result"
    }
   ],
   "source": [
    "len(Data)"
   ]
  },
  {
   "cell_type": "code",
   "execution_count": 95,
   "id": "76f59b87",
   "metadata": {},
   "outputs": [
    {
     "data": {
      "text/plain": [
       "0       А, список А, группа ядовитых высоко токсичных ...\n",
       "1       А. овец производят под сочетанным наркозом. Бр...\n",
       "2       А. крупного рогатого скота. Животное фиксируют...\n",
       "3       Симптоматические А. инфекционные, инвазионные ...\n",
       "4       Течение и симптомы. Различают: полный А. — изг...\n",
       "                              ...                        \n",
       "4400    За 5-6 дней до окрола клетки и гнездовое отдел...\n",
       "4401    На кролиководческих фермах применяется наружно...\n",
       "4402    Племенная работа основана на тщательном отборе...\n",
       "4403    Нутрия. Родина нутрии – Южная Америка, местооб...\n",
       "4404    В рационе плотоядных зверей основными кормами ...\n",
       "Length: 4405, dtype: object"
      ]
     },
     "execution_count": 95,
     "metadata": {},
     "output_type": "execute_result"
    }
   ],
   "source": [
    "DataSeries = pd.Series(Data)\n",
    "DataSeries"
   ]
  },
  {
   "cell_type": "markdown",
   "id": "74fd02eb",
   "metadata": {},
   "source": [
    "### Сохраняем, чтобы потом в гугл каллаб загрузить (to be continued)"
   ]
  },
  {
   "cell_type": "code",
   "execution_count": 96,
   "id": "16657004",
   "metadata": {},
   "outputs": [],
   "source": [
    "DataSeries.to_csv('books/Data.csv', index=False)"
   ]
  },
  {
   "cell_type": "code",
   "execution_count": 97,
   "id": "2284c0e4",
   "metadata": {},
   "outputs": [],
   "source": [
    "df = pd.read_csv('books/Data.csv')['0']"
   ]
  },
  {
   "cell_type": "code",
   "execution_count": 98,
   "id": "23b86a3d",
   "metadata": {},
   "outputs": [
    {
     "data": {
      "text/plain": [
       "0       А, список А, группа ядовитых высоко токсичных ...\n",
       "1       А. овец производят под сочетанным наркозом. Бр...\n",
       "2       А. крупного рогатого скота. Животное фиксируют...\n",
       "3       Симптоматические А. инфекционные, инвазионные ...\n",
       "4       Течение и симптомы. Различают: полный А. — изг...\n",
       "                              ...                        \n",
       "4400    За 5-6 дней до окрола клетки и гнездовое отдел...\n",
       "4401    На кролиководческих фермах применяется наружно...\n",
       "4402    Племенная работа основана на тщательном отборе...\n",
       "4403    Нутрия. Родина нутрии – Южная Америка, местооб...\n",
       "4404    В рационе плотоядных зверей основными кормами ...\n",
       "Name: 0, Length: 4405, dtype: object"
      ]
     },
     "execution_count": 98,
     "metadata": {},
     "output_type": "execute_result"
    }
   ],
   "source": [
    "df"
   ]
  },
  {
   "cell_type": "code",
   "execution_count": 67,
   "id": "15e1f9f1",
   "metadata": {},
   "outputs": [
    {
     "data": {
      "text/plain": [
       "8724"
      ]
     },
     "execution_count": 67,
     "metadata": {},
     "output_type": "execute_result"
    }
   ],
   "source": [
    "len(Data)"
   ]
  },
  {
   "cell_type": "code",
   "execution_count": 7,
   "id": "83d35da3",
   "metadata": {},
   "outputs": [
    {
     "name": "stdout",
     "output_type": "stream",
     "text": [
      "# 0 А, список А, группа ядовитых высоко токсичных лекарственных средств, предусматриваемая Государственной фармакопеей СССР; дополняется и изменяется приказами Министерства здравоохранения СССР. При обращении с этими лекарственными средствами необходимо соблюдать особую осторожность. Медикаменты списка хранятся в аптеках под замком в отдельных шкафах с надписью «А — venena» (ядовитые). Перед закрытием аптеки шкафы опечатывают и пломбируют. Для ветеринарных целей ядовитые лекарства отпускаются непосредственно ветеринарному врачу, ветеринарному фельдшеру или другим лицам по их доверенности с отметкой на этикетке или сигнатуре «Для ветеринарных целей». Ветеринарный врач или фельдшер несут полную ответственность за использование ядовитых лекарственных средств по прямому назначению. См. также Б.\n",
      "# 1 +++\n",
      "# 2 абдукторы (от лат. abduco — отвожу, отклоняю), мышцы, отводящие какую-либо часть тела (в основном конечности) от его срединной плоскости. Ср. Аддукторы.\n",
      "# 3 +++\n",
      "# 4 абиотические факторы среды, совокупность условий неорганической среды, влияющих на организм. Химические А. ф.: химический состав атмосферы, морских и пресных вод, почвы или донных отложений. Физические А. ф.: температура, свет, барометрическое давление, ветер, радиационный режим и т. п. Рельеф, геологические, климатические и др. особенности земной поверхности создают разнообразные А. ф. Ср. Биотические факторы.\n",
      "# 5 +++\n",
      "# 6 абк, то же, что ацидофильная бульонная культура.\n",
      "# 7 +++\n",
      "# 8 абоиазотомия (от новолат. abomasum — сычуг и греч. tom{{ḗ}} — рассечение), операция вскрытия сычуга. Применяется у овец для удаления безоаров, у крупного рогатого скота — при завороте и смещении сычуга или закупорке его плотными кормовыми массами.\n",
      "# 9 А. овец производят под сочетанным наркозом. Брюшную полость вскрывают по белой линии сзади мечевидного хряща. Длина разреза 10—15 см. Пилорическую часть сычуга извлекают наружу, изолируя стерильными салфетками. Сычуг разрезают параллельно его кривизне в том месте, где сосуды большой и малой кривизны не доходят друг до друга. Следует остерегаться загрязнения раны брюшной стенки и сычуга содержимым последнего. После удаления безоаров рану сычуга растягивают провизорными лигатурами по длине и накладывают шов ёлочкой по Шмидену (через все слои стенок сычуга), а затем непрерывный по Ламберу (на серозно-мышечный слой). Рану брюшной полости закрывают непрерывным швом (на белую линию живота с брюшиной) и узловатым (на кожу с поверхностной фасцией и подкожной клетчаткой). Снаружи на рану накладывают коллоидную повязку. Внутрибрюшинно вводят антибиотики в 0,25%ном растворе новокаина.\n",
      "# 10 А. крупного рогатого скота. Животное фиксируют в стоячем положении. Операцию выполняют после паралюмбальной анестезии брюшной стенки. Последнюю рассекают с правой стороны послойным разрезом до брюшины, отступив на 4—5 см от последнего ребра и на ладонь ниже поперечнорёберных отростков. Длина разреза 15—18 см. Брюшину надрезают и тупоконечными ножницами увеличивают разрез на 10—15 см. Края раны изолируют стерильной простынёй. На стенку сычуга накладывают в виде круга диаметром 5—7 см два (наружный и внутренний) серозно-мышечных кисетных шва. За свободные концы их нитей сычуг фиксируют. В центре участка, изолированного кисетным швом, стенку сычуга разрезают на 2—3 см и вводят в его полость резиновый шланг. Внутренний кисетный шов стягивают, не завязывая узел, и фиксируют пинцетом Пеана. Содержимое сычуга откачивают по принципу сифона. Если ток жидкости задерживается, то шланг промывают из кружки Эсмарха или большим шприцем. Затем шланг удаляют, кисетный шов затягивают и завязывают узел. Наружный кисетный шов снимают. Рану орошают антибиотиками в 0,25%ном растворе новокаина. Снаружи кисетного шва накладывают серозно-мышечные швы по Ламберу. Сычуг вправляют в брюшную полость, рану брюшной стенки зашивают двух- или трёхэтажным швом, введя в неё предварительно раствор антибиотиков.\n",
      "# 11 Послеоперационное лечение. Назначают кофеин, внутривенно хлорид кальция с глюкозой, внутрь желудочный сок, молочный сахар, антибиотики по показанию. Первые сут — голодная диета, затем в течение 6—7 сут, постепенно увеличивая норму, дают легкопереваримый корм (морковь, хорошее сено). См. также Лапаротомия, Швы хирургические.\n",
      "# 12 Лит.: Магда И. И., Иткин Б. 3., Воронин И. И., Оперативная хирургия с основами топографической анатомии домашних животных, 3 изд., М., 1979.\n",
      "# 13 +++\n",
      "# 14 аборальный (от лат. ab — от и os, род. п. oris — рот), анатомический термин, применяемый для обозначения направления от рта к задней части черепа. Ср. Оральный.\n",
      "# 15 +++\n",
      "# 16 аборт (лат. aborttus, от aborior — рождаюсь преждевременно), прерывание беременности с последующим полным или частичным рассасыванием зародыша либо с изгнанием из матки мёртвого (выкидыша) или незрелого (недоноска) плода.\n",
      "# 17 Этиология. А. может возникать вследствие воздействия специфических факторов на плод, плодные оболочки или на матку (идиопатический А.), вследствие заболевания матери или ненормальных условий её существования (симптоматический А.).\n",
      "# 18 Идиопатические незаразные А. возникают при биологической неполноценности гамет (яйца и спермия) самки или производителя, нарушении обмена веществ.\n",
      "# 19 Биологическая неполноценность половых клеток и нарушение обмена веществ между плодом и матерью могут быть причиной аномалий, уродств и гибели зародыша. Идиопатические незаразные А. возникают также вследствие патологических изменений плаценты и плодных оболочек (воспаление, водянка плодовых оболочек, инфаркт плаценты и др.). Идиопатические инфекционные и инвазионные А. — следствие болезни матери бруцеллёзом, паратифом (сальмонеллёзом), вибриозом и трихомонозом.\n"
     ]
    }
   ],
   "source": [
    "for num,i in enumerate(Data[:20]):\n",
    "    print('#',num,i)"
   ]
  },
  {
   "cell_type": "code",
   "execution_count": 9,
   "id": "c5b73bc4",
   "metadata": {},
   "outputs": [
    {
     "name": "stdout",
     "output_type": "stream",
     "text": [
      "38.576924223010224 47.64595770555461\n"
     ]
    }
   ],
   "source": [
    "count_of_words_in_paragraph = [len(i.split()) for i in Data]\n",
    "print(np.mean(count_of_words_in_paragraph),np.std(count_of_words_in_paragraph))"
   ]
  },
  {
   "cell_type": "code",
   "execution_count": 11,
   "id": "4e002bd8",
   "metadata": {},
   "outputs": [
    {
     "data": {
      "text/plain": [
       "0        97\n",
       "1         1\n",
       "2        21\n",
       "3         1\n",
       "4        52\n",
       "         ..\n",
       "33554     2\n",
       "33555    25\n",
       "33556    47\n",
       "33557    65\n",
       "33558    32\n",
       "Length: 33559, dtype: int64"
      ]
     },
     "execution_count": 11,
     "metadata": {},
     "output_type": "execute_result"
    }
   ],
   "source": [
    "series_data =  pd.Series(Data)\n",
    "series_count_of_words_in_paragraph = pd.Series(count_of_words_in_paragraph)\n",
    "series_count_of_words_in_paragraph"
   ]
  },
  {
   "cell_type": "code",
   "execution_count": 12,
   "id": "19c0c46f",
   "metadata": {},
   "outputs": [
    {
     "data": {
      "text/plain": [
       "'детергенты (от лат. detergeo\\xa0— очищаю), синтетические вещества, обладающие высокой поверхностной активностью и в связи с этим моющим, дезинфицирующим и растворяющим действием. Молекулы Д. представляют собой длинные углеводородные цепи (от 8 до 20\\xa0атомов углерода), на одном конце которых находятся диссоциирующие ионогенные или полярные группы. Поэтому Д. делят на анионные, катионные и неионогенные. Имеются и амфолитные Д., которые содержат одновременно карбоксильную (сульфоэфирную) группу и аминогруппу. Д. применяют при приготовлении различных дезинфицирующих средств, фармацевтических и фунгицидных препаратов, как моющие и моюще-дезинфицирующие средства, в практике биохимических (например, при очистке ферментов) и вирусологических (при очистке и концентрировании вирусов) лабораторий. На молочных фермах из Д. используют сульфанол, порошки А, Б, В, содержащие сульфанол, метилсиликат натрия и\\xa0др., дезмол и\\xa0др. Д.; на предприятиях молочной промышленности\\xa0— «Триас-А», «Вимол», моющие смеси 1, 2, 3. 4; на мясокомбинатах\\xa0— «Демп», ДПК-1, ДПК-2. После применения Д. помещения, оборудование, инвентарь тщательно моют горячей водой.'"
      ]
     },
     "execution_count": 12,
     "metadata": {},
     "output_type": "execute_result"
    }
   ],
   "source": [
    "series_data[3167]"
   ]
  },
  {
   "cell_type": "code",
   "execution_count": 110,
   "id": "51586372",
   "metadata": {},
   "outputs": [],
   "source": [
    "X = np.arange(1,100)"
   ]
  },
  {
   "cell_type": "code",
   "execution_count": 111,
   "id": "723dc45e",
   "metadata": {},
   "outputs": [],
   "source": [
    "Y = [len(series_data[series_count_of_words_in_paragraph>i]) for i in X]"
   ]
  },
  {
   "cell_type": "code",
   "execution_count": 112,
   "id": "cd742904",
   "metadata": {},
   "outputs": [
    {
     "data": {
      "text/plain": [
       "array([-976. , -848. , -722. , -758.5, -693. , -553. , -501.5, -481.5,\n",
       "       -450. , -437. , -434.5, -438.5, -469.5, -476. , -458.5, -424.5,\n",
       "       -430. , -466. , -464. , -442.5, -455.5, -466. , -438. , -414.5,\n",
       "       -389. , -378. , -378. , -375.5, -387.5, -400. , -378.5, -362.5,\n",
       "       -343. , -336.5, -349.5, -334.5, -315. , -308. , -297.5, -281.5,\n",
       "       -287.5, -274. , -254. , -261. , -262.5, -249.5, -243.5, -236.5,\n",
       "       -215.5, -222.5, -228. , -200.5, -184.5, -177. , -191.5, -199.5,\n",
       "       -172.5, -158. , -154. , -150. , -153.5, -156.5, -146. , -138.5,\n",
       "       -146. , -136.5, -122. , -114. , -109.5, -119.5, -108.5, -100. ,\n",
       "       -105. , -100.5,  -98. ,  -93.5,  -91.5,  -93. ,  -92. ,  -93.5,\n",
       "        -97.5,  -96.5,  -87. ,  -83.5,  -85. ,  -75. ,  -75. ,  -75.5,\n",
       "        -66. ,  -74.5,  -88. ,  -75. ,  -60. ,  -62.5,  -63.5,  -71. ,\n",
       "        -68.5,  -53. ,  -49. ])"
      ]
     },
     "execution_count": 112,
     "metadata": {},
     "output_type": "execute_result"
    }
   ],
   "source": [
    "np.gradient(Y,X)"
   ]
  },
  {
   "cell_type": "markdown",
   "id": "ab0d0a8f",
   "metadata": {},
   "source": [
    "### производная стабилизируется после значений 30-40. Это может свидетельствовует о том, что данные состоящие меньше, чем из 30-40 слов содержат много выбросов. Но для 40 набор данных слишком большой, поэтому я выбрала значение 80."
   ]
  },
  {
   "cell_type": "code",
   "execution_count": 113,
   "id": "c5d72d3d",
   "metadata": {},
   "outputs": [
    {
     "data": {
      "text/plain": [
       "[<matplotlib.lines.Line2D at 0x200db68d990>]"
      ]
     },
     "execution_count": 113,
     "metadata": {},
     "output_type": "execute_result"
    },
    {
     "data": {
      "image/png": "[encoded data removed]",
      "text/plain": [
       "<Figure size 640x480 with 1 Axes>"
      ]
     },
     "metadata": {},
     "output_type": "display_data"
    }
   ],
   "source": [
    "plt.plot(X,np.gradient(Y,X),'o')"
   ]
  },
  {
   "cell_type": "code",
   "execution_count": 103,
   "id": "fb879e60",
   "metadata": {},
   "outputs": [
    {
     "data": {
      "text/plain": [
       "[<matplotlib.lines.Line2D at 0x200da7387d0>]"
      ]
     },
     "execution_count": 103,
     "metadata": {},
     "output_type": "execute_result"
    },
    {
     "data": {
      "image/png": "[encoded data removed]",
      "text/plain": [
       "<Figure size 640x480 with 1 Axes>"
      ]
     },
     "metadata": {},
     "output_type": "display_data"
    }
   ],
   "source": [
    "plt.plot(X,Y,'o')"
   ]
  },
  {
   "cell_type": "code",
   "execution_count": 16,
   "id": "b37e728b",
   "metadata": {},
   "outputs": [
    {
     "data": {
      "text/plain": [
       "544"
      ]
     },
     "execution_count": 16,
     "metadata": {},
     "output_type": "execute_result"
    }
   ],
   "source": [
    "np.max(count_of_words_in_paragraph)"
   ]
  },
  {
   "cell_type": "code",
   "execution_count": 123,
   "id": "ee2d8295",
   "metadata": {},
   "outputs": [
    {
     "data": {
      "text/plain": [
       "(0.0, 1200.0)"
      ]
     },
     "execution_count": 123,
     "metadata": {},
     "output_type": "execute_result"
    },
    {
     "data": {
      "image/png": "[encoded data removed]",
      "text/plain": [
       "<Figure size 640x480 with 1 Axes>"
      ]
     },
     "metadata": {},
     "output_type": "display_data"
    }
   ],
   "source": [
    "import matplotlib.pyplot as plt\n",
    "series_count_of_words_in_paragraph.hist(bins=1200)\n",
    "plt.xlim(0,20)\n",
    "plt.ylim(0,1200)"
   ]
  },
  {
   "cell_type": "code",
   "execution_count": 121,
   "id": "dba064be",
   "metadata": {},
   "outputs": [
    {
     "data": {
      "text/plain": [
       "(0.0, 500.0)"
      ]
     },
     "execution_count": 121,
     "metadata": {},
     "output_type": "execute_result"
    },
    {
     "data": {
      "image/png": "[encoded data removed]",
      "text/plain": [
       "<Figure size 640x480 with 1 Axes>"
      ]
     },
     "metadata": {},
     "output_type": "display_data"
    }
   ],
   "source": [
    "import matplotlib.pyplot as plt\n",
    "series_count_of_words_in_paragraph.hist(bins=1200)\n",
    "plt.xlim(20,120)\n",
    "plt.ylim(0,500)"
   ]
  },
  {
   "cell_type": "code",
   "execution_count": 45,
   "id": "4d8f4142",
   "metadata": {},
   "outputs": [
    {
     "name": "stdout",
     "output_type": "stream",
     "text": [
      "# 0 Александр Александрович Ханников\n",
      "# 1 Справочник ветеринарного специалиста\n",
      "# 2 Аннотация\n",
      "# 3 В книге собраны рекомендации по профилактике и лечению наиболее распространенных инфекционных, инвазионных, грибковых, гельминтовых, а также незаразных болезней сельскохозяйственных животных, пчел и птиц, домашних животных: собак, кошек, певчих и декоративных птиц, аквариумных рыбок и т. д.\n",
      "# 4 Рассматриваются вопросы ветеринарной санитарии и зоогигиены, приводятся рекомендации по организации правильного питания животных и их содержанию. Рассмотрены вопросы по организации ветеринарного бизнеса, маркетинга, менеджмента, а также вопросы планирования и определения экономической эффективности ветеринарных предприятий.\n",
      "# 5 Для ветеринарных специалистов и широкого круга читателей.\n",
      "# 6 Александр Александрович Ханников\n",
      "# 7 Справочник ветеринарного специалиста\n",
      "# 8 Введение\n",
      "# 9 В книге рассмотрены причины возникновения, механизмы развития, клинико-морфологические проявления, принципы лечения и профилактики многих болезней животных. В своей деятельности ветеринарный специалист постоянно сталкивается со здоровьем и болезнью – двумя формами жизненного процесса животных. На протяжении жизни эти формы могут меняться и переходить друг в друга. Здоровье животного является состоянием организма, обеспечивающее наиболее оптимальную его деятельность и продуктивность, адекватную условиям обитания в данной окружающей среде.\n"
     ]
    }
   ],
   "source": [
    "for num,i in enumerate(data[:10]):\n",
    "    print('#',num,i)"
   ]
  },
  {
   "cell_type": "code",
   "execution_count": 7,
   "id": "dd0a0787",
   "metadata": {},
   "outputs": [
    {
     "name": "stdout",
     "output_type": "stream",
     "text": [
      "ev.doc\n",
      "hs.docx\n"
     ]
    }
   ],
   "source": [
    "import os\n",
    "\n",
    "docpath = 'books' \n",
    "\n",
    "files = [f for f in os.listdir(docpath) if os.path.isfile(os.path.join(docpath, f))]\n",
    "\n",
    "for file in files:\n",
    "    print(file)"
   ]
  },
  {
   "cell_type": "markdown",
   "id": "31248061",
   "metadata": {},
   "source": [
    "### Работа с моделью и агентами"
   ]
  },
  {
   "cell_type": "code",
   "execution_count": 138,
   "id": "96c981d2",
   "metadata": {},
   "outputs": [],
   "source": [
    "from langchain_community.llms import Ollama\n",
    "\n",
    "mn_model = Ollama(base_url='http://localhost:11434', model=\"mistral-nemo\")"
   ]
  },
  {
   "cell_type": "code",
   "execution_count": 139,
   "id": "0deb1fad",
   "metadata": {},
   "outputs": [],
   "source": [
    "import pandas as pd\n",
    "dfprompt = pd.read_csv('prompt_to_mn.csv')['0']"
   ]
  },
  {
   "cell_type": "code",
   "execution_count": 141,
   "id": "a52a628d",
   "metadata": {},
   "outputs": [],
   "source": [
    "import time"
   ]
  },
  {
   "cell_type": "code",
   "execution_count": 142,
   "id": "831d542b",
   "metadata": {},
   "outputs": [
    {
     "name": "stdout",
     "output_type": "stream",
     "text": [
      "# 0 28.07770299911499 У кошки наблюдается воспаление уха, сопровождающееся сильным зудом и покраснением слухового прохода. Животное часто наклоняет голову набок и трет ухо лапой. При осмотре ветеринар обнаруживает гнойные выделения из ушного канала. Кошка реагирует на прикосновение к больному уху, хлопает им и отдергивается. Кроме того, отмечается неприятный запах из уха животного.\n",
      "# 1 84.49609422683716 Пациент: собака, полтора года. Врач обнаружил у животного воспаление уха, отмеченное покраснение барабанной перепонки и гнойные выделения из ушного канала. Лабораторный анализ показал присутствие сероводорода в образце ушной слизи, что свидетельствует о наличии инфекции. Животное проявляет признаки боли при пальпации уха и теряет аппетит.\n",
      "# 2 89.32560324668884 У кошки воспаление уха. Беспрестанно трет лапой за ухом и встряхивает головой. Из уха заметен гнойный выделениями, неприятный запах. При пальпации область вокруг уха болезненна. Поведение животного стало агрессивным из-за причиняемого боли дискомфорта.\n",
      "# 3 96.48620772361755 У собаки отмечаются частые приступы слезотечения из одного или обоих глаз. Животное проявляет светобоязнь, прячет морду лапами, веки спадают и слипаются из-за обильной жидкости. При осмотре глаза видны гиперемия конъюнктивы и дымчатый оттенок роговицы. В тяжелых случаях наблюдается помутнение радужной оболочки или отслоение сетчатки. Состояние улучшается самостоятельно, но через время рецидивы повторяются. Собака постепенно теряет зрение.\n",
      "# 4 81.15812420845032 У птицы из носа течет гной. Она трясет головой и чешет лапой за ухом. Уши красные, воспаленные, с плохим запахом. Аппетит снижен, может быть рвота. Птица отказывается от корма, но пьет много воды.\n",
      "# 5 76.56112456321716 Собака, 5 лет, постоянно трет ухо о пол и вздрагивает при прикосновении к голове. Из уха слышен гул, как будто там что-то бурлит. Пахнет гнилью, как тухлая рыба.\n",
      "# 6 70.5501971244812 У птицы воспаление уха: гнойные выделения из ушного прохода, зуд и дискомфорт, наклон головы на больную сторону, потеря равновесия.\n",
      "# 7 116.556960105896 Жвачное животное поносит, отказывается от корма. При осмотре выпячена левая голодная ямка, стенка рубца упругая и быстро выравнивается при пальпации. Перкуссия дает тимпанический звук, движения рубца ослаблены. Животное испытывает одышку и учащенный сердечный ритм.\n",
      "# 8 98.10717868804932 Кошка постоянно трет одной лапой ухо и трясет головой, из уха пахнет гноем и вытекает жидкость. При осмотре ветеринар обнаруживает покраснение и отек слухового прохода, а также наличие серозного экссудата в среднем ухе. Кошка избегает контакта с хозяевами и не реагирует на привычные звуки из-за сильной боли.\n",
      "# 9 109.27753639221191 У коровы наблюдается вздутие левой стороны брюшной полости. При прощупывании рубец твердый и быстро возвращается в исходное состояние. При простукивании слышен тимпанический звук, движения рубца ослаблены. Животное испытывает одышку, учащенное сердцебиение и возможны колики. Температура тела в норме.\n",
      "# 10 86.1436550617218 Животное страдает от сильного зуда и покраснения кожи, особенно в области живота и паха. На коже видны гнойные корочки и язвочки, которые вызывают боль при пальпации. В некоторых местах наблюдается выпадение шерсти. Температура тела повышена, аппетит снижен. Животное становится вялым и апатичным.\n",
      "# 11 133.7712528705597 У коровы Observe появились покраснение и отечность на кожном покрове в районе живота и груди. В этих местах наблюдаются участки облысения, а также образование гнойничков и язв. Животное проявляет беспокойство и часто расчесывает пораженные участки, что приводит к дальнейшему распространению воспаления и зуду. При пальпации этих областей корова реагирует на боль и дискомфорт. Температура тела животного в норме, но наблюдается снижение аппетита и общего состояния здоровья.\n",
      "# 12 92.8605260848999 У коровы появилась хромота на левой задней ноге. В области сухожилия сгибателя пальцев наблюдается горячая, болезненная припухлость. При пальпации животное вздрагивает. Температура тела повышена.\n",
      "# 13 110.14974331855774 Корова в последнее время стала плохо есть и пить. Живот сильно вздут, при прослушивании определяется тимпанический звук. При пальпации животное реагирует на давление. Сердечная деятельность учащена, дыхание поверхностное. Слизистые оболочки бледные или цианотичные. За последние дни рацион коровы не менялся и она не выходила на пастбище.\n",
      "# 14 114.67101955413818 Животное проявляет беспокойство и отказывается от еды. При осмотре отмечено вздутие левой стороны живота, стенка рубца упругая при пальпации и быстро выравнивается. При перкуссии слышен тимпанический звук, движения рубца ослаблены. Животное испытывает боль при надавливании на область рубца, но нет повышения температуры тела. Замечены проблемы с пищеварением и периодические колики.\n",
      "# 15 99.8362832069397 Кошка по кличке Маркиз два дня назад съела неизвестное растение во дворе. Сегодня у кошки появилось покраснение на коже вокруг рта и глаз, а также на животе и лапах. В течение часа после еды у кошки началась рвота, запор, затем диарея. Маркиз отказывается от еды и воды, вялый, температура тела 39,5°. К вечеру появились пузырьки на коже, Маркиз чешет лапами и языком, пытаясь расчесать места зуда.\n",
      "# 16 88.11681866645813 У кошки на животе и внутренних поверхностях бедер появились красные, воспаленные пятна. Кожа в этих местах шелушится и зудит, кошка часто облизывает эти участки и может иметь неприятный запах от кожи. В некоторых случаях могут наблюдаться мокнущие раны или корочки на коже.\n",
      "# 17 92.08187484741211 Собака сильно чешется, особенно за ушами и на животе. Кожа красная и воспаленная, есть небольшие язвочки. Шерсть взъерошена и грязная. Животное часто лижет проблемные места, что приводит к еще большему раздражению кожи. У собаки может быть повышенная температура и вялость.\n",
      "# 18 93.97677183151245 Лошадь хромает на правую переднюю ногу, понижен аппетит, температура тела 39°С, наблюдается припухлость вдоль сухожилия в области скакательного сустава. При пальпации животное проявляет болезненность в этой области, имеются признаки воспаления суставной капсулы.\n",
      "# 19 116.91066312789917 У кошки наблюдается воспаление кожи с покраснением и зудом. В местах расчесов виден экссудат и корки. Потеря аппетита и снижение активности. Температура тела в пределах нормы.\n",
      "# 20 107.90847420692444 Молодая курица вялая, потеряла аппетит, кожный покров матовый. Начинается с кашля, который усиливается и становится болезненным. Аускультация выявляет влажные хрипы, затем сухие и громкие. ЧСС до 140 в мин, температура bodies slightly elevated (до 40,8°C). Животное теряет упитанность, кожа синюшная перед смертью. В крови лейкоцитоз, лимфоцитоз, эозинофилия.\n",
      "# 21 87.92339205741882 Корова отравилась трихлорметафосом, обрабатываясь против клещей. Вначале вела себя беспокойно, затем стала вялой, косит глаза и часто ходит по-большому. Дыхание тяжелое, кожные покровы синеют. В последнее время аппетит отсутствует, дыхание затруднено, понос длится уже несколько дней.\n",
      "# 22 79.89927244186401 Лошадь отказывается от корма, имеет жидкий стул с примесью крови и слизи, часто пьет воду и страдает вздутием живота.\n",
      "# 23 91.61448955535889 Животное отказывается от корма, наблюдаются рвота и диарея. Животное может быть вялым или беспокойным. Температура тела повышена. При пальпации живота возможны болевые ощущения в области кишечника.\n",
      "# 24 102.37435817718506 Корова, получившая обработку трихлорметафосом, проявляет беспокойство и угнетение. У неё наблюдается нарушение координации движений, слезотечение, частая дефекация и затруднённое дыхание с цианозом. Состояние животного ухудшается, развивается асфиксия и анемия. У коровы отсутствует аппетит, наблюдаются длительные поносы.\n",
      "# 25 90.5363278388977 Животное откашливается и чихает часто; его температура тела выше нормы; оно плохо ест и испытывает слабость; стул жидкий и водянистый, содержащий кровь или слизь.\n",
      "# 26 95.73561429977417 У кошки наблюдается вялость, потеря аппетита и веса. Из глаз текут слезы, а из носа - сопли. Иногда она дрожит и прячется в укромные места. При пальпации живота животное проявляет признаки боли и дискомфорта. В фекалиях присутствуют примеси крови или слизи.\n",
      "# 27 86.92672753334045 У собаки диарея, рвота и беспокойство на протяжении трех дней. Она плохо ест и пьет мало воды. При осмотре отмечено слезотечение и затрудненное дыхание с цианозом. Животное ранее контактировало с больными клещами и обрабатывалось инсектоакарицидом.\n"
     ]
    },
    {
     "name": "stdout",
     "output_type": "stream",
     "text": [
      "# 28 96.49071168899536 Молодая овца отказывается от еды, у нее рвота и диарея водянистого характера. Животное вялое, температура тела повышена. При пальпации живота животное проявляет болевые реакции. Врач ветеринарной клиники ставит предварительный диагноз гастроэнтерит.\n",
      "# 29 105.80723214149475 Клиническая картина: У коровы внезапно начались частые, жидкие дефекации, содержимое кала имел желтый цвет и зловонный запах. Животное стало вялым, отказывалось от еды, дыхание было затруднено, слышалось хрипение. Кожа вокруг глаз и носа приобрела синюшный оттенок. При осмотре ротовой полости замечены следы слизи и пены. Температура тела повысилась до 40,5°C. С течением времени корова стала лежать большую часть времени, не проявляя интереса к окружающему миру.\n",
      "# 30 121.01026964187622 У собаки плохой запах изо рта, она неохотно ест и теряет вес. При осмотре выявляется зубной камень на зубах и воспаление десен (гингивит). Нарушенные ткани кровоточат даже при легком давлении.\n",
      "# 31 144.69670486450195 Пациентом является собака, которой 5 лет. В течение последних нескольких месяцев владелец заметил неприятный запах изо рта животного. При осмотре полости рта ветеринарным врачом были обнаружены желтоватые отложения на зубах и деснах, которые легко можно было снять при помощи инструмента. Десны выглядели отечными и воспаленными, кровоточили при легком воздействии. Собака стала есть медленно и с трудом, иногда отказывалась от еды вообще. Владелец также заметил, что животное стало меньше пить воды. При пальпации области шеи были обнаружены увеличенные лимфатические узлы.\n",
      "# 32 135.88416624069214 У коровы наблюдается увеличение живота и выпячивание левой голодной ямки. При пальпации стенка рубца имеет упругую консистенцию и быстро выравнивается, при перкуссии звук тимпанический, движения рубца ослаблены. Животное отказывается от корма, у него отмечаются одышка и цианоз слизистых оболочек.\n",
      "# 33 109.44269609451294 У кошки дурно пахнет изо рта, зубы желтые и шершавые, десны воспалены и кровоточат при еде. У животного плохой аппетит, возможна потеря веса. При осмотре обнаруживается налет на зубах, который трудно удалить.\n",
      "# 34 91.75342273712158 У коровы появился неприятный запах из пасти. Слюна стала густой и желтой. При осмотре tongues видим темный налет на зубах, который трудно удалить. Десны покраснели и кровоточат при легком касании. Животное плохо ест и теряет вес.\n",
      "# 35 117.04600787162781 У кошки плохой запах изо рта, кровоточивость десен и налет на зубах. Врач-ветеринар диагностировал зубной камень и гингивит. Рекомендовано лечение антибиотиками и процедуры чистки зубов у ветеринара.\n",
      "# 36 72.20961999893188 У собаки плохой запах из пасти, зубы покрыты желтым налетом, десны воспалены и кровоточат. При еде животное проявляет беспокойство и может отказаться от пищи. В некоторых случаях наблюдается отек десен и подвижность зубов.\n",
      "# 37 75.23158001899719 У собаки дурной запах из пасти, зубы желтые с налетом, десна воспалены и кровоточат. При жевании она проявляет беспокойство и может отказываться от еды.\n",
      "# 38 118.24347591400146 Жвачное животное испытывает дискомфорт при глотании, его аппетит снизился. При осмотре ротовой полости заметен толстый слой зубного камня на зубах, а десна воспалены и кровоточат при контакте. Животное избегает твердую пищу и предпочитает жидкую. Иногда отмечается неприятный запах изо рта.\n",
      "# 39 131.99895691871643 У собаки плохое состояние полости рта: на зубах заметен желтый налет, десна воспалены и кровоточат. Животное испытывает дискомфорт при жевании и поедании пищи, из пасти исходит неприятный запах.\n",
      "# 40 129.22771573066711 Клиническая картина: У коровы внезапно появилась диарея, саливация и тремор мышц. Животное начало испытывать беспокойство, угнетение и адинамию. Сердечная деятельность и дыхание нарушились, что привело к судорогам и параличу дыхательного центра. Смерть наступила в течение нескольких часов после проявления симптомов.\n",
      "# 41 89.6803846359253 Клиническая картина: У курицы, возрастом 6 месяцев, наблюдаются вялость и потеря аппетита. Через три дня появляется понос желтого цвета со слизью, птице становится трудно ходить из-за слабости в ногах. Температура тела повышена до 42°C. Вокруг клюва и глаз заметны воспалительные отеки, птица чихает и хрипит при дыхании. Через неделю перья вокруг клоаки выпадают, а самопроизвольное оперение замедляется или прекращается полностью.\n",
      "# 42 207.52471446990967 Клиническая картина: у коровы внезапно появились беспокойство, пена изо рта, тремор конечностей и диарея. Животное стало апатичным и слабым. При осмотре ветеринарным врачом были обнаружены нарушения дыхания и сердечного ритма. В результате лабораторных исследований был выявлен высокий уровень гексахлорциклогексана в организме коровы, что свидетельствует об отравлении данным инсектицидом.\n",
      "# 43 88.92665719985962 Собака, живущая на ферме, страдает от поноса и рвоты уже три дня. У нее наблюдается потеря аппетита и вялость. При осмотре发现 она имеет бледную слизистую оболочку полости рта и желтые белки глаз. В анамнезе отмечается, что собака имела контакт с другими животными на ферме и могла заразиться паразитарной инфекцией через испражнения или воду.\n",
      "# 44 79.74858283996582 У молодой собаки в течение трех дней отмечается повышение температуры тела, апатия, рвота и диарея. Слизистые оболочки бледные, пульс учащенный. В течение недели эти симптомы сохраняются, при этом наблюдается судороги конечностей и паралич мышц лица. Через неделю собака погибает.\n",
      "# 45 122.33801794052124 Животное вялое, температура повышена, аппетит снижен. При осмотре обнаружены черви в фекалиях. С помощью туревича метода найдены внутриклеточные включения в тканях печени и кишечника. Животному назначена противопаразитарная терапия.\n",
      "# 46 201.7145688533783 Собака с наружным паразитарным заражением: шерсть грязная и свалявшаяся, на коже заметны темно-коричневые блохи и яйца, животное испытывает зуд и расчесывает кожу до крови. В кале присутствуют беловатые нитевидные глисты, собака теряет вес несмотря на нормальный аппетит.\n",
      "# 47 79.69725561141968 Свинья проявляет вялость, отказ от еды, диарею, затрудненное дыхание и кашель уже две недели. Ранее замечены следы крови в стуле и слизистой конъюнктивы глаз. Также отмечено увеличение лимфоузлов и снижение веса животного.\n",
      "# 48 137.35511922836304 Клиническая картина: У коровы внезапно появились беспокойство и обильное слюнотечение. Через несколько часов развился тремор мышц, диарея и судороги. Сердечный ритм стал учащенным, а дыхание затрудненным. Животное начало испытывать слабость и адинамию. Симптомы усугублялись в течение дня, несмотря на симптоматическое лечение. К вечеру корова перестала реагировать на внешние стимулы и умерла от паралича дыхательного центра.\n",
      "# 49 97.7629075050354 Молодая собака по кличке Бонни в последние дни стала вялой и апатичной, отказывается от еды. На коже появились аллергические высыпания, особенно заметные на животе и внутренней стороне бедер. Вчера у нее начался жидкий стул с кровью, температура повышена до 40°C. Сегодня заметили наличие блох на теле собаки. Животное содержится в вольере вместе с другими собаками, все они выглядят здоровыми. Бонни получила все положенные прививки и не контактировала с дикими животными.\n",
      "# 50 125.00591540336609 У взрослого пса внезапно появились признаки боли при мочеиспускании - он пронзительно кричит и поджимает хвост во время мочеиспускания, имеются кровяные вкрапления в моче. При пальпации живота животное проявляет болезненность в области мочевого пузыря. В последнее время замечена повышенная жажда и частое мочеиспускание.\n",
      "# 51 94.0302402973175 Лошадь проявляет слабость, теряет аппетит, температура тела высокая (около 41 °С). Дыхание учащено, походка шаткая, возможны судороги и возбуждение. Отмечаются запоры или поносы, животное может падать и вытягивать конечности. Внешне видны розовые пятна на коже живота. Состояние ухудшается, вплоть до комы с пенистой жидкостью из носа и рта. Продолжительность заболевания от 2 до 6 дней.\n",
      "# 52 106.41764521598816 Кошка отказывается есть и пить в течение двух дней, часто посещает лоток с явным дискомфортом при мочеиспускании, отмечается наличие крови в моче, температура тела слегка повышена.\n",
      "# 53 91.62511467933655 Кошка хромает, избегает воду. Часто ходит в лоток, но небольшими порциями. Иногда бывает кровь в моче.\n"
     ]
    },
    {
     "name": "stdout",
     "output_type": "stream",
     "text": [
      "# 54 94.29414510726929 У коровы внезапно повысилась температура, появились затрудненное мочеиспускание с кровью в конце акта, постоянные позывы в туалет. Животное отказывается от еды и воды, становится вялой и апатичной.\n",
      "# 55 82.6321382522583 Кот стал часто посещать лоток, испытывает боль при мочеиспускании, моча мутная и имеет неприятный запах. В некоторых случаях в моче присутствуют кровяные примеси. Животное проявляет беспокойство и раздражительность.\n",
      "# 56 86.34273171424866 Кошка отказывается от еды уже несколько дней. Сегодня она начала странно себя вести - ходит кругами и пугается своего отражения в зеркале. Температура тела повышена до 41°C, дыхание учащено. Внезапно у животного начались судороги с оскалом и скрежетом зубов. На коже живота появились небольшие розовые пятна. Через несколько часов кошка впала в кому, из пасти течет пенистая жидкость.\n",
      "# 57 102.93716597557068 Кошка начала чаще посещать лоток, но мочится малыми порциями. Во время мочеиспускания проявляет признаки боли, испытывает затруднения и может издавать жалобные крики. В ряде случаев в моче могут присутствовать кровянистые примеси. Иногда наблюдается повышение температуры тела животного.\n",
      "# 58 130.55740451812744 Клиническая картина: Кошка отказывается от воды и еды, часто присаживается на лоток с явным беспокойством, моча имеет мутный или кровавый вид, животное поджимает хвост и проявляет агрессию при прикосновении к нижней части живота.\n",
      "# 59 96.22866702079773 Кошка, 3 года. В последние дни стала пить много воды и часто ходить в лоток, моча розоватого цвета. При осмотре живота отмечено болезненное напряжение мышц в области мочевого пузыря. Температура тела повышена.\n",
      "# 60 115.87811207771301 У коровы увеличен живот, выпирает левая голодная ямка. При пальпации стенка рубца упругая и быстро возвращается в исходное положение. При перкуссии слышен тимпанический звук. Движения рубца ослаблены. Животное проявляет признаки беспокойства, возможны колики. Температура тела в норме или слегка повышена. В анамнезе - резкая смена рациона корма или поедание испорченного корма.\n",
      "# 61 91.29977893829346 Собака, 5 лет, крупной породы. Хозяева заметили хромоту на задней правой конечности неделю назад. Сейчас собака еле передвигается, прихрамывает даже в покое. Сустав колена увеличен и горячий на ощупь, движения ограничены из-за боли. Лапа отечна, кожные складки над суставом гиперемированы. Замечено снижение аппетита, но температура тела в норме. Лечение не проводилось.\n",
      "# 62 92.97209048271179 Клиническая картина: у собаки наблюдается высокая температура (41°C), слабость, полное отсутствие аппетита, запоры чередуются с поносами. Она передвигается шатко, вытягивает конечности и запрокидывает голову, координация движений нарушена. Приступы возбуждения сопровождаются агрессией и пугливостью, дыхание учащено. Отмечаются розовые пятна на коже живота. Состояние ухудшается, возникают судороги, животное может падать в обморочное состояние с пенистой жидкостью изо рта и носа. Продолжительность болезни составляет от 2 до 6 дней.\n",
      "# 63 105.77232456207275 Собака 5 лет, порода лабрадор, владельцы отмечают хромоту на правую заднюю лапу в течение последних двух недель. При осмотре выявлено покраснение и припухлость сустава колена правой конечности, животное испытывает болезненность при пальпации и движении суставом. Рентгенограмма показывает изменения костной ткани в области сустава и наличие жидкости внутрисуставного пространства. Собака ограничена в движениях, отмечается хромота на больную конечность, температура тела нормальная. В общем анализе крови лейкоцитоз со сдвигом влево, повышение СОЭ. Животное нуждается в проведении дополнительных исследований и лечении у ветеринарного врача.\n",
      "# 64 172.720636844635 Собака среднего размера, 4 года, поступившая с жалобой на хромоту левой задней конечности в течение последних трех дней. Собака избегает наступать на лапу и держит ее высоко при движении. При осмотре отмечается отек и покраснение вокруг сустава, а также местное повышение температуры кожи над пораженной областью. Сустав болезненный при пальпации, но движения в нем сохранены. животное передвигается с трудом, имеет неустойчивую походку и может испытывать боль даже в покое.\n",
      "# 65 78.7716932296753 Собака старше 7 лет, хромота на задней правой лапе более двух недель. При пальпации сустава отмечается болезненность и опухание коленного сустава. Собака испытывает трудности при подъеме по лестнице и во время длительной ходьбы.\n",
      "# 66 132.0749740600586 У собаки наблюдаются отек век и конъюнктивы, кратковременные судороги и параличи, опухание пятачка, ушей и дистальной части конечностей. Также отмечается рвота, затрудненное дыхание, учащенный пульс и застойная гиперемия кожи. В продромальный период температура тела повышена до 41°C, затем снижается до нормы. При пальпации обнаруживается студенистый отек подкожной клетчатки в области лба, вокруг глаз и у основания ушей.\n",
      "# 67 80.1715452671051 Собака старше 7 лет начала хромать на правую заднюю лапу. При пальпации сустава отмечается боль и отек. Рентгенограмма показала изменения костной ткани и суставные выпоты. Лабораторные исследования крови выявили увеличение количества лейкоцитов и СОЭ.\n",
      "# 68 102.83165884017944 Собака, 5 лет, неактивная на последних двух неделях. Отмечается хромота на правую заднюю лапу. В области сустава наблюдается припухлость и местное повышение температуры. При пальпации отмечается болезненность и ограниченная подвижность сустава. Собака испытывает трудности при вставании и передвижении, предпочитает лежать с вытянутой лапой. Рентгенограмма показывает изменения в структуре кости и хряща сустава.\n",
      "# 69 80.65811324119568 Собака по кличке Марли в последнее время начала хромать на заднюю лапу и проявляет нежелание двигаться. При пальпации суставов отмечается припухлость коленного сустава, а также болезненность при движениях. Взволнованный владелец замечает, что его питомец начал меньше есть из-за боли в шее, где наблюдается увеличение лимфоузлов и трудности при глотании.\n",
      "# 70 102.34907984733582 Животное, страдающее пиометрой, демонстрирует признаки недомогания и апатичности, отказывается от корма и воды. Из влагалища могут появляться выделения с неприятным запахом. Животное испытывает дискомфорт при пальпации живота в области матки и может проявлять агрессию или беспокойство во время осмотра. В некоторых случаях возможно повышение температуры тела, вплоть до лихорадки. При отсутствии лечения состояние животного ухудшается, возможны сопутствующие инфекции и сепсис.\n",
      "# 71 76.50794625282288 Собака старше 5 лет, владельцы отмечают постоянную вялость и повышенную температуру тела. При пальпации живота выявляется болезненность в области таза. Из половых органов наблюдаются гнойные выделения.\n",
      "# 72 85.48465728759766 Самаяя крупная свиноматка из группы стала вдруг отказываться от еды и пить много воды. Она стала часто вылизываться и у нее появился неприятный запах из влагалища. При осмотре ветеринар обнаружил гнойные выделения из половых путей, что может указывать на воспаление матки.\n",
      "# 73 129.44723081588745 У собаки наблюдается повышенная температура тела, вялость, снижение аппетита. Во время пальпации влагалища обнаружены гнойные выделения с неприятным запахом. При ультразвуковом обследовании выявлена толстостенная полость в малом тазу, заполненная жидкостью. Животное отказывается от еды и питья, возможно развитие сепсиса без своевременного лечения.\n",
      "# 74 122.77984714508057 Корова поступила в ветеринарную клинику с повышением температуры тела до 41°C и снижением аппетита. При пальпации выявилось наличие абсцесса в области влагалища, сопровождающееся гнойными выделениями из половых путей.\n",
      "# 75 37.64904022216797 У коровы повышенная температура тела, снижение аппетита, вялость, выделения из влагалища с неприятным запахом. При пальпации обнаружены уплотнения в области матки.\n",
      "# 76 89.69475936889648 Самка крупного рогатого скота вялая, температура тела повышена. Из влагалища вытекает гнойный экссудат с неприятным запахом. Аппетит отсутствует, дыхание затруднено, отмечаются длительные поносы и цианоз слизистых оболочек. Животное испытывает беспокойство, затем угнетение и нарушение координации движений.\n",
      "# 77 110.06415843963623 Самка крупного рогатого скота на 7-м месяце беременности в течение двух недель испытывает общую слабость и аппетит, наблюдается повышение температуры тела до 41°C. Наружу выходит кровянистый секрет из влагалища, который имеет неприятный запах. Животное проявляет признаки дискомфорта при пальпации живота в области таза и половых органов, отмечается увеличение размеров матки и болезненность при palpation. В данном случае речь идет о гнойном воспалении матки, или пиометре.\n"
     ]
    },
    {
     "name": "stdout",
     "output_type": "stream",
     "text": [
      "# 78 120.52913784980774 Лапки у свиньи грязные, пахнет гнилью. Живот увеличен, опущен. Гуляет температура тела 40-42°C. Аппетит снижен или отсутствует совсем. Влагалище выделяет желтый гнойный секрет с неприятным запахом.\n",
      "# 79 92.75224924087524 Клиническая картина: Свиноматка с вялостью, отсутствием аппетита, матовым оттенком кожного покрова. Пневмония прослушивается при аускультации, температура тела слегка повышена, наблюдается лейкоцитоз и лимфоцитоз в крови.\n",
      "# 80 120.88591718673706 Овца начала часто чесаться и чихать после переезда на новую ферму. У нее появились покраснения на коже и она стала чаще тереться о предметы, пытаясь облегчить зуд. Ветврач диагностировал аллергическую реакцию, вероятно вызванную новым кормом или средой обитания. Овце назначили антигистаминные препараты и рекомендовали тщательно следить за гигиеной на ферме для профилактики подобных реакций в будущем.\n",
      "# 81 88.84477496147156 Корова после приема пищи начала чесаться, появились сыпь и отеки на коже шеи и морды. Дыхание стало частым и шумным, температура тела повысилась. В течение часа состояние ухудшилось, появился кашель и затрудненное дыхание. Немедленно исключили подозрительные корма из рациона.\n",
      "# 82 49.95690965652466 Лошадь страдает воспалением кожных покровов, сопровождающимся зудом и выпадением шерсти. Несмотря на обильное питание, потеря веса очевидна. Врач-ветеринар обнаруживает повышенную чувствительность к некоторым антибиотикам при проведении аллергопроб.\n",
      "# 83 119.27862572669983 У молодого свиньи 4 месяца Observe приступ сильного кашля, который усиливается и учащается. Температура тела слегка повышается до 40,8°C, затем падает ниже нормы за несколько дней до смерти. Животное становится вялым, теряет аппетит и упитанность, кожа приобретает матовый оттенок. При аускультации прослушиваются влажные хрипы, которые становятся сухими и громкими по мере развития болезни. Сердечный ритм увеличивается до 216 ударов в минуту во время обострения. Свинья имеет лейкоцитоз, лимфоцитоз и эозинофилию в крови. Через несколько дней после начала заболевания свинья погибает от катаральной пневмонии с геморрагическим компонентом.\n",
      "# 84 83.96990370750427 Клиническая картина: Овца с приступом чиханья и слезоточением, после поедания концентрированного корма в загоне с плохими условиями содержания. На коже заметны покраснения и высыпания, копытца грязные и плохо расчищенные. Животное находится в апатичном состоянии, аппетит снижен.\n",
      "# 85 102.59950590133667 Корова стала беспокоиться, затем угнетение, нарушение координации движений, слезотечение. Частая дефекация, затруднённое дыхание, цианоз, асфиксия. Отказ от корма, бледность слизистых оболочек, длительные поносы.\n",
      "# 86 108.48795509338379 Клиническая картина: У коровы, содержащейся на откорме с преобладанием травяных кормов и добавлением мочевины и минеральных солей, внезапно появился кашель, который стал учащаться и усиливаться. При прослушивании отмечаются влажные хрипы в легких, которые позже становятся сухими и громкими. Частота сердечных сокращений повысилась до 216 ударов в минуту. Корова стала вялой, потеряла аппетит, кожа приобрела матовый оттенок. При лабораторном исследовании крови выявлен лейкоцитоз, лимфоцитоз и эозинофилия.\n",
      "# 87 90.15516996383667 Клиническая картина: У собаки внезапное появление зуда, покраснения кожи и припухлости вокруг глаз. Приблизительно через час после контакта с травой в парке начались чиханье и отек носа. В течение следующих двух часов симптомы усугубились, появилась рвота и диарея. Животное стало вялым и апатичным.\n",
      "# 88 92.16735672950745 Корова, обработанная препаратом от клещей, проявляет признаки аллергии: беспокойство, зуд, слезотечение. Через несколько часов появляются отечность лица и шеи, затрудненное дыхание и учащенный пульс. Животное теряет аппетит, у него отмечаются жидкий стул и вялость.\n",
      "# 89 88.37500429153442 Животное начинает чесаться, появляются красные пятна на коже. При осмотре обнаруживаются небольшие язвочки и припухлости на теле. Животное отказывается от корма, но выпивает много воды. Из носа текут прозрачные жидкие сопли, из глаз - слезы. Температура тела повышена.\n",
      "# 90 90.52938556671143 Свинья отказывается от корма, лежит в лежачем положении, живот вздут, температура тела повышена. При пальпации живота наблюдается болезненность в области желудка и кишечника. Аппетит отсутствует, стул жидкий с неприятным запахом. Животное отказывается пить воду, что указывает на сильную боль.\n",
      "# 91 91.74192833900452 Собака отказывается от еды, худеет, имеет желтушный оттенок склер и кожных покровов. Живот увеличен, пальпация вызывает болезненность. Рвота с примесью желчи и кала. Аппетит отсутствует, температура тела повышена.\n",
      "# 92 83.82023358345032 У коровы наблюдается вялость и снижение аппетита. Животное проявляет беспокойство при движении, испытывает трудности с глотанием и имеет вздутый живот. Резь в животе вызывает частую дефекацию и потерю веса. Наблюдается желтушность слизистых оболочек глаз и повышенное слюноотделение.\n",
      "# 93 89.93496203422546 Пациент: взрослый кобель собаки. Резкая боль в животе, плохой аппетит, рвота желчью, диарея с примесью крови, обезвоживание, учащенное дыхание и сердцебиение, слабость.\n",
      "# 94 74.23476457595825 У собаки внезапно появились рвота и диарея, животное начало тяжело дышать, появилась желтушность склер и слизистых оболочек. В области живота пальпируется твердый болезненный отек, температура тела повышена.\n",
      "# 95 78.14383935928345 Собака отказывается от еды и воды на протяжении трех дней. Рвота желчью после каждого кормления, болезненный живот при пальпации. Животное апатичное, температура bodies повышена, пульс учащен.\n",
      "# 96 87.99511671066284 У кошки внезапно появились боли в животе, рвота и диарея. Она стала отказываться от еды, а ее поведение изменилось на летаргическое. В ходе обследования у животного были обнаружены повышенные уровни амилазы и липазы в крови, что указывает на воспаление поджелудочной железы. Кошке был поставлен диагноз панкреатит.\n",
      "# 97 112.0689013004303 Собака, 5 лет, мужского пола, замечена в слабости и потере аппетита. В течение последних двух дней наблюдается рвота желчью после каждого приема пищи. Живот собаки напряжен и болезненный при пальпации, особенно в области желудка. Лапы собаки становятся холодными и влажными, дыхание учащено и поверхностно. Собака отказывается двигаться самостоятельно и просит помощи, чтобы встать и передвигаться.\n",
      "# 98 93.30393743515015 У коровы наблюдается снижение аппетита, вялость, тусклая шерсть. Животное лежит на бок, поджимая ноги к животу. Отмечается вздутие живота, рвота пищей или желчью, диарея с сильным неприятным запахом. При пальпации живот чувствителен в области желудка и кишечника, температура тела повышена. Лабораторные исследования показали увеличение активности амилазы в крови и моче.\n",
      "# 99 73.56751561164856 У кошки в течение дня появилась резкая рвота и диарея, живот твердый на ощупь и болезненный при пальпации, аппетит отсутствует. Животное находится в угнетенном состоянии, температура тела повышена до 40°C. В анамнезе отмечается недавнее потребление испорченной пищи.\n"
     ]
    }
   ],
   "source": [
    "# агент номер один\n",
    "responce_list = []\n",
    "for num,prompt in enumerate(dfprompt.values):\n",
    "    st = time.time()\n",
    "    responce = mn_model.invoke(prompt)\n",
    "    responce_list.append(responce)\n",
    "    et = time.time()\n",
    "    print(\"#\",num,et-st,responce)"
   ]
  },
  {
   "cell_type": "code",
   "execution_count": 143,
   "id": "075a0530",
   "metadata": {},
   "outputs": [],
   "source": [
    "# агент номер два\n",
    "main_promt_a2 = 'Сейчас я отправлю тебе клиническую картинку больного животного. Ты должен выделить из нее основные симптомы.\\nВот пример как должен выглядеть твой ответ:\\\"симптомы:боль в ухе,гнойные выделения из уха,зуд и дискомфорт\\\". Твой ответ должен строго следовать такому формату!\\nКлиническая картина:'\n",
    "responce_list_a2 = []\n",
    "for responce_a1 in responce_list:\n",
    "    responce_a2 = mn_model.invoke(main_promt_a2+responce_a1)\n",
    "    responce_list_a2.append(responce_a2)"
   ]
  },
  {
   "cell_type": "code",
   "execution_count": 144,
   "id": "080305b1",
   "metadata": {},
   "outputs": [],
   "source": [
    "# собираем датасет\n",
    "diesis = (['отит']*10+[\"Дерматит\"]*10+[\"Гастроэнтерит\"]*10+\n",
    " [\"Зубной камень и гингивит\"]*10+[\"Паразитарные инфекции\"]*10+[\"Цистит\"]*10+\n",
    " [\"Артикулярные заболевания (артрит)\"]*10+[\"Пиометра\"]*10+[\"Аллергические реакции\"]*10+[\"Панкреатит\"]*10)\n",
    "dffinal = pd.DataFrame({\"диагноз\":diesis,'клиническая картина':responce_list,'симптомы':responce_list_a2 })"
   ]
  },
  {
   "cell_type": "code",
   "execution_count": 146,
   "id": "f1d4c55e",
   "metadata": {},
   "outputs": [
    {
     "data": {
      "text/html": [
       "<div>\n",
       "<style scoped>\n",
       "    .dataframe tbody tr th:only-of-type {\n",
       "        vertical-align: middle;\n",
       "    }\n",
       "\n",
       "    .dataframe tbody tr th {\n",
       "        vertical-align: top;\n",
       "    }\n",
       "\n",
       "    .dataframe thead th {\n",
       "        text-align: right;\n",
       "    }\n",
       "</style>\n",
       "<table border=\"1\" class=\"dataframe\">\n",
       "  <thead>\n",
       "    <tr style=\"text-align: right;\">\n",
       "      <th></th>\n",
       "      <th>диагноз</th>\n",
       "      <th>клиническая картина</th>\n",
       "      <th>симптомы</th>\n",
       "    </tr>\n",
       "  </thead>\n",
       "  <tbody>\n",
       "    <tr>\n",
       "      <th>0</th>\n",
       "      <td>отит</td>\n",
       "      <td>У кошки наблюдается воспаление уха, сопровожда...</td>\n",
       "      <td>Симптомы: воспаление уха, гнойные выделения из...</td>\n",
       "    </tr>\n",
       "    <tr>\n",
       "      <th>1</th>\n",
       "      <td>отит</td>\n",
       "      <td>Пациент: собака, полтора года. Врач обнаружил ...</td>\n",
       "      <td>Симптомы: боль в ухе, гнойные выделения из уха...</td>\n",
       "    </tr>\n",
       "    <tr>\n",
       "      <th>2</th>\n",
       "      <td>отит</td>\n",
       "      <td>У кошки воспаление уха. Беспрестанно трет лапо...</td>\n",
       "      <td>Симптомы: боль в ухе, гнойные выделения из уха...</td>\n",
       "    </tr>\n",
       "    <tr>\n",
       "      <th>3</th>\n",
       "      <td>отит</td>\n",
       "      <td>У собаки отмечаются частые приступы слезотечен...</td>\n",
       "      <td>Симптомы: слезотечение из глаз, светобоязнь, г...</td>\n",
       "    </tr>\n",
       "    <tr>\n",
       "      <th>4</th>\n",
       "      <td>отит</td>\n",
       "      <td>У птицы из носа течет гной. Она трясет головой...</td>\n",
       "      <td>Симптомы: гнойные выделения из носа, головная ...</td>\n",
       "    </tr>\n",
       "    <tr>\n",
       "      <th>...</th>\n",
       "      <td>...</td>\n",
       "      <td>...</td>\n",
       "      <td>...</td>\n",
       "    </tr>\n",
       "    <tr>\n",
       "      <th>95</th>\n",
       "      <td>Панкреатит</td>\n",
       "      <td>Собака отказывается от еды и воды на протяжени...</td>\n",
       "      <td>симптомы:отказ от еды и воды, рвота желчью пос...</td>\n",
       "    </tr>\n",
       "    <tr>\n",
       "      <th>96</th>\n",
       "      <td>Панкреатит</td>\n",
       "      <td>У кошки внезапно появились боли в животе, рвот...</td>\n",
       "      <td>Симптомы: боль в животе, рвота, диарея, отказ ...</td>\n",
       "    </tr>\n",
       "    <tr>\n",
       "      <th>97</th>\n",
       "      <td>Панкреатит</td>\n",
       "      <td>Собака, 5 лет, мужского пола, замечена в слабо...</td>\n",
       "      <td>Симптомы: рвота желчью после каждого приема пи...</td>\n",
       "    </tr>\n",
       "    <tr>\n",
       "      <th>98</th>\n",
       "      <td>Панкреатит</td>\n",
       "      <td>У коровы наблюдается снижение аппетита, вялост...</td>\n",
       "      <td>Симптомы: снижение аппетита, вялость, тусклая ...</td>\n",
       "    </tr>\n",
       "    <tr>\n",
       "      <th>99</th>\n",
       "      <td>Панкреатит</td>\n",
       "      <td>У кошки в течение дня появилась резкая рвота и...</td>\n",
       "      <td>Симптомы: рвота, диарея, болезненность живота ...</td>\n",
       "    </tr>\n",
       "  </tbody>\n",
       "</table>\n",
       "<p>100 rows × 3 columns</p>\n",
       "</div>"
      ],
      "text/plain": [
       "       диагноз                                клиническая картина  \\\n",
       "0         отит  У кошки наблюдается воспаление уха, сопровожда...   \n",
       "1         отит  Пациент: собака, полтора года. Врач обнаружил ...   \n",
       "2         отит  У кошки воспаление уха. Беспрестанно трет лапо...   \n",
       "3         отит  У собаки отмечаются частые приступы слезотечен...   \n",
       "4         отит  У птицы из носа течет гной. Она трясет головой...   \n",
       "..         ...                                                ...   \n",
       "95  Панкреатит  Собака отказывается от еды и воды на протяжени...   \n",
       "96  Панкреатит  У кошки внезапно появились боли в животе, рвот...   \n",
       "97  Панкреатит  Собака, 5 лет, мужского пола, замечена в слабо...   \n",
       "98  Панкреатит  У коровы наблюдается снижение аппетита, вялост...   \n",
       "99  Панкреатит  У кошки в течение дня появилась резкая рвота и...   \n",
       "\n",
       "                                             симптомы  \n",
       "0   Симптомы: воспаление уха, гнойные выделения из...  \n",
       "1   Симптомы: боль в ухе, гнойные выделения из уха...  \n",
       "2   Симптомы: боль в ухе, гнойные выделения из уха...  \n",
       "3   Симптомы: слезотечение из глаз, светобоязнь, г...  \n",
       "4   Симптомы: гнойные выделения из носа, головная ...  \n",
       "..                                                ...  \n",
       "95  симптомы:отказ от еды и воды, рвота желчью пос...  \n",
       "96  Симптомы: боль в животе, рвота, диарея, отказ ...  \n",
       "97  Симптомы: рвота желчью после каждого приема пи...  \n",
       "98  Симптомы: снижение аппетита, вялость, тусклая ...  \n",
       "99  Симптомы: рвота, диарея, болезненность живота ...  \n",
       "\n",
       "[100 rows x 3 columns]"
      ]
     },
     "execution_count": 146,
     "metadata": {},
     "output_type": "execute_result"
    }
   ],
   "source": [
    "dffinal"
   ]
  },
  {
   "cell_type": "code",
   "execution_count": 147,
   "id": "ba347afa",
   "metadata": {},
   "outputs": [],
   "source": [
    "dffinal.to_csv('MyDataset.csv', index=False)"
   ]
  }
 ],
 "metadata": {
  "kernelspec": {
   "display_name": "Python 3 (ipykernel)",
   "language": "python",
   "name": "python3"
  },
  "language_info": {
   "codemirror_mode": {
    "name": "ipython",
    "version": 3
   },
   "file_extension": ".py",
   "mimetype": "text/x-python",
   "name": "python",
   "nbconvert_exporter": "python",
   "pygments_lexer": "ipython3",
   "version": "3.11.4"
  }
 },
 "nbformat": 4,
 "nbformat_minor": 5
}
